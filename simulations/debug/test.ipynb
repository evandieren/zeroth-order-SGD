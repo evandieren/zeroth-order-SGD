{
 "cells": [
  {
   "attachments": {},
   "cell_type": "markdown",
   "metadata": {},
   "source": [
    "# Test for Zeroth Order Methods\n",
    "\n",
    "This file tests the zeroth order methods to ensure they are functioning."
   ]
  },
  {
   "attachments": {},
   "cell_type": "markdown",
   "metadata": {},
   "source": [
    "How to init all algo with same weights\n",
    "Hyperparm: Hidden neurons - N - Mu\n",
    "Algo: std/zeroth sigmoid/relu\n",
    "Figures (with colours), to be saved"
   ]
  },
  {
   "attachments": {},
   "cell_type": "markdown",
   "metadata": {},
   "source": [
    "### Imports"
   ]
  },
  {
   "cell_type": "code",
   "execution_count": null,
   "metadata": {},
   "outputs": [],
   "source": [
    "import os\n",
    "import sys\n",
    "\n",
    "p = os.path.abspath('../src/')\n",
    "if p not in sys.path:\n",
    "    sys.path.append(p)"
   ]
  },
  {
   "cell_type": "code",
   "execution_count": null,
   "metadata": {},
   "outputs": [],
   "source": [
    "import pandas as pd\n",
    "import numpy as np\n",
    "import torch\n",
    "import matplotlib.pyplot as plt\n",
    "\n",
    "from difference_methods import one_point_estimate, two_point_estimate, coordinate_estimate\n",
    "from linear_zeroth_function import Linear_Zeroth\n",
    "from sigmoid_zeroth_function import Sigmoid_Zeroth\n",
    "from relu_zeroth_function import ReLU_Zeroth"
   ]
  },
  {
   "attachments": {},
   "cell_type": "markdown",
   "metadata": {},
   "source": [
    "## Test Difference Methods"
   ]
  },
  {
   "attachments": {},
   "cell_type": "markdown",
   "metadata": {},
   "source": [
    "Test using ```torch.nn.functional.linear```, ```torch.sigmoid``` and ```torch.nn.functional.relu``` as the functions to differentiate:"
   ]
  },
  {
   "cell_type": "code",
   "execution_count": null,
   "metadata": {},
   "outputs": [],
   "source": [
    "# Setup testing functions\n",
    "weight = torch.Tensor([[1.0,-2.0],[-3.0,4.0],[5.0,-6.0]])\n",
    "bias = torch.Tensor([[2.5, 0.0, -2.5]])\n",
    "test_f_0 = lambda x: torch.nn.functional.linear(x, weight, bias)\n",
    "\n",
    "test_f_1 = torch.sigmoid\n",
    "\n",
    "test_f_2 = torch.nn.functional.relu\n",
    "\n",
    "# Setup values\n",
    "fs = [test_f_0, test_f_1, test_f_2]\n",
    "xs = [torch.Tensor([[0.0, 0.0]]), torch.Tensor([[0.0, 0.0], [1.0, -2.5]])]\n",
    "methods = [('one', one_point_estimate), ('two', two_point_estimate), ('coord', coordinate_estimate)]\n",
    "mus = [0.1] #, 2.0]\n",
    "ns = [1000] #, 100]\n",
    "\n",
    "# Iterate over values\n",
    "for i, f in enumerate(fs):\n",
    "    print(f\"test_f_{i}\\n========\")\n",
    "    for x in xs:\n",
    "        print(f\"{x = }\\n---------\")\n",
    "        # o = f(x)\n",
    "        # print(o)\n",
    "        for name, method in methods:\n",
    "            for mu in mus:\n",
    "                if name == 'coord':\n",
    "                    estimate = method(f, x, mu)\n",
    "                    print(f\"{name}({mu}) = {estimate}\")\n",
    "                else:\n",
    "                    for n in ns:\n",
    "                        estimate = method(f, x, mu, n)\n",
    "                        print(f\"{name}({mu},{n}) = {estimate}\")\n",
    "        print(f\"---------\")\n",
    "    if i < 2:\n",
    "        print(\"\")"
   ]
  },
  {
   "attachments": {},
   "cell_type": "markdown",
   "metadata": {},
   "source": [
    "## Test Zeroth Order Modules and Functions"
   ]
  },
  {
   "attachments": {},
   "cell_type": "markdown",
   "metadata": {},
   "source": [
    "We create a small and simple neural network to test the functionality of the zeroth order variants of the linear, sigmoid, and relu modules/functions. We run a quick test on the flower dataset."
   ]
  },
  {
   "attachments": {},
   "cell_type": "markdown",
   "metadata": {},
   "source": [
    "### Data"
   ]
  },
  {
   "cell_type": "code",
   "execution_count": null,
   "metadata": {},
   "outputs": [],
   "source": [
    "# load training data\n",
    "data_train = pd.read_csv('../data/iris_train.csv')\n",
    "\n",
    "print(data_train)"
   ]
  },
  {
   "cell_type": "code",
   "execution_count": null,
   "metadata": {},
   "outputs": [],
   "source": [
    "# convert string target values to numeric values\n",
    "#       class 0: Iris-setosa\n",
    "#       class 1: Iris-versicolor\n",
    "#       class 2: Iris-virginica\n",
    "data_train['species'] = data_train['species'].map({'Iris-setosa': 0, 'Iris-versicolor': 1, 'Iris-virginica': 2})\n",
    "\n",
    "# also convert all string numeric values to int ['2' -> 2]\n",
    "data_train = data_train.apply(pd.to_numeric)\n",
    "\n",
    "# extract frequency of each species class\n",
    "class_freq = data_train['species'].value_counts()\n",
    "class_freq = list(class_freq.sort_index())\n",
    "\n",
    "# Visual data\n",
    "graph = plt.bar(list(range(0,3)), class_freq)\n",
    "plt.xticks(list(range(0,3)))\n",
    "plt.ylabel('Frequency')\n",
    "plt.xlabel('Species')\n",
    "plt.title('Training Data')\n",
    "\n",
    "plt.show()"
   ]
  },
  {
   "cell_type": "code",
   "execution_count": null,
   "metadata": {},
   "outputs": [],
   "source": [
    "# Process data for training\n",
    "\n",
    "# convert pandas dataframe to array\n",
    "data_train_array = data_train.values\n",
    "\n",
    "# split x (features) and y (targets)\n",
    "x_array = data_train_array[:, :4]\n",
    "y_array = data_train_array[:, 4]\n",
    "\n",
    "# tensorify\n",
    "X = torch.tensor(x_array, dtype=torch.float)\n",
    "Y = torch.tensor(y_array, dtype=torch.long)\n",
    "\n",
    "print(X.shape)"
   ]
  },
  {
   "attachments": {},
   "cell_type": "markdown",
   "metadata": {},
   "source": [
    "### Network Setup"
   ]
  },
  {
   "cell_type": "code",
   "execution_count": null,
   "metadata": {},
   "outputs": [],
   "source": [
    "# Standard Constants\n",
    "INPUT_NEURONS = 4\n",
    "HIDDEN_NEURONS = 10\n",
    "OUTPUT_NEURONS = 3\n",
    "\n",
    "# Zeroth Constants\n",
    "DIFFERENCE_METHOD = 'coord'\n",
    "MU = 0.001\n",
    "N = 100"
   ]
  },
  {
   "cell_type": "code",
   "execution_count": null,
   "metadata": {},
   "outputs": [],
   "source": [
    "# Linear Networks\n",
    "\n",
    "# Normal\n",
    "standard_linear = torch.nn.Sequential(\n",
    "    torch.nn.Linear(INPUT_NEURONS, OUTPUT_NEURONS),\n",
    ")\n",
    "# Zeroth Order\n",
    "zeroth_linear = torch.nn.Sequential(\n",
    "    Linear_Zeroth(INPUT_NEURONS, OUTPUT_NEURONS, bias=False, difference_method=DIFFERENCE_METHOD, mu=MU, n=N)\n",
    ")\n",
    "\n",
    "# Sigmoid\n",
    "\n",
    "# Normal network\n",
    "standard_sigmoid = torch.nn.Sequential(\n",
    "    torch.nn.Linear(INPUT_NEURONS, HIDDEN_NEURONS),\n",
    "    torch.nn.Sigmoid(),\n",
    "    torch.nn.Linear(HIDDEN_NEURONS, OUTPUT_NEURONS)\n",
    ")\n",
    "# Zeroth Order only sigmoid\n",
    "partial_sigmoid = torch.nn.Sequential(\n",
    "    torch.nn.Linear(INPUT_NEURONS, HIDDEN_NEURONS),\n",
    "    Sigmoid_Zeroth(difference_method=DIFFERENCE_METHOD, mu=MU, n=N),\n",
    "    torch.nn.Linear(HIDDEN_NEURONS, OUTPUT_NEURONS)\n",
    ")\n",
    "# Full Zeroth Order\n",
    "zeroth_sigmoid = torch.nn.Sequential(\n",
    "    Linear_Zeroth(INPUT_NEURONS, HIDDEN_NEURONS, bias=False, difference_method=DIFFERENCE_METHOD, mu=MU, n=N),\n",
    "    Sigmoid_Zeroth(difference_method=DIFFERENCE_METHOD, mu=MU, n=N),\n",
    "    Linear_Zeroth(HIDDEN_NEURONS, OUTPUT_NEURONS, bias=False, difference_method=DIFFERENCE_METHOD, mu=MU, n=N)\n",
    ")\n",
    "\n",
    "# ReLU\n",
    "\n",
    "# Normal network\n",
    "standard_relu = torch.nn.Sequential(\n",
    "    torch.nn.Linear(INPUT_NEURONS, HIDDEN_NEURONS),\n",
    "    torch.nn.ReLU(),\n",
    "    torch.nn.Linear(HIDDEN_NEURONS, OUTPUT_NEURONS)\n",
    ")\n",
    "# Zeroth Order only ReLU\n",
    "partial_relu = torch.nn.Sequential(\n",
    "    torch.nn.Linear(INPUT_NEURONS, HIDDEN_NEURONS),\n",
    "    ReLU_Zeroth(difference_method=DIFFERENCE_METHOD, mu=MU, n=N),\n",
    "    torch.nn.Linear(HIDDEN_NEURONS, OUTPUT_NEURONS)\n",
    ")\n",
    "# Full Zeroth Order\n",
    "zeroth_relu = torch.nn.Sequential(\n",
    "    Linear_Zeroth(INPUT_NEURONS, HIDDEN_NEURONS, bias=False, difference_method=DIFFERENCE_METHOD, mu=MU, n=N),\n",
    "    ReLU_Zeroth(difference_method=DIFFERENCE_METHOD, mu=MU, n=N),\n",
    "    Linear_Zeroth(HIDDEN_NEURONS, OUTPUT_NEURONS, bias=False, difference_method=DIFFERENCE_METHOD, mu=MU, n=N),\n",
    ")\n",
    "\n",
    "networks = [\n",
    "    (\"standard_linear\", standard_linear),\n",
    "    (\"zeroth_linear\", zeroth_linear),\n",
    "\n",
    "    (\"standard_sigmoid\", standard_sigmoid),\n",
    "    (\"partial_sigmoid\", partial_sigmoid),\n",
    "    (\"zeroth_sigmoid\", zeroth_sigmoid),\n",
    "\n",
    "    (\"standard_relu\", standard_relu),\n",
    "    (\"partial_relu\", partial_relu),\n",
    "    (\"zeroth_relu\", zeroth_relu),\n",
    "]"
   ]
  },
  {
   "attachments": {},
   "cell_type": "markdown",
   "metadata": {},
   "source": [
    "### Train and Plot Losses"
   ]
  },
  {
   "cell_type": "code",
   "execution_count": null,
   "metadata": {},
   "outputs": [],
   "source": [
    "# Training Constants\n",
    "LR = 0.01\n",
    "NUM_EPOCH = 500\n",
    "\n",
    "# Loss function\n",
    "loss_func = torch.nn.CrossEntropyLoss()\n",
    "\n",
    "# Train each network and plot the loss\n",
    "for name, network in networks:\n",
    "    print(f\"Network: {name}\\n=========\")\n",
    "    # Optimiser\n",
    "    optimiser = torch.optim.SGD(network.parameters(), lr=LR)\n",
    "\n",
    "    # store all losses for visualisation\n",
    "    all_losses = []\n",
    "\n",
    "    # train a neural network\n",
    "    for epoch in range(NUM_EPOCH):\n",
    "        # Perform forward pass\n",
    "        Y_pred = network(X)\n",
    "        # Compute loss\n",
    "        loss = loss_func(Y_pred, Y)\n",
    "        all_losses.append(loss.item())\n",
    "\n",
    "        # print progress\n",
    "        if epoch % 50 == 0:\n",
    "            # convert three-column predicted Y values to one column for comparison\n",
    "            _, predicted = torch.max(torch.nn.functional.softmax(Y_pred,1), 1)\n",
    "            # calculate and print accuracy\n",
    "            total = predicted.size(0)\n",
    "            correct = predicted.data.numpy() == Y.data.numpy()\n",
    "            # Print\n",
    "            print('Epoch [%d / %d] Loss: %.4f  Accuracy: %.2f %%'\n",
    "                % (epoch + 1, NUM_EPOCH, loss.item(), 100 * sum(correct)/total))\n",
    "\n",
    "        # Clear the gradients before running the backward pass.\n",
    "        network.zero_grad()\n",
    "        # Perform backward pass\n",
    "        loss.backward()\n",
    "        # Step optimiser\n",
    "        optimiser.step()\n",
    "\n",
    "    # Plot\n",
    "    plt.figure()\n",
    "    plt.plot(all_losses)\n",
    "    plt.show()"
   ]
  }
 ],
 "metadata": {
  "kernelspec": {
   "display_name": "manopt",
   "language": "python",
   "name": "python3"
  },
  "language_info": {
   "codemirror_mode": {
    "name": "ipython",
    "version": 3
   },
   "file_extension": ".py",
   "mimetype": "text/x-python",
   "name": "python",
   "nbconvert_exporter": "python",
   "pygments_lexer": "ipython3",
   "version": "3.9.5"
  },
  "orig_nbformat": 4
 },
 "nbformat": 4,
 "nbformat_minor": 2
}

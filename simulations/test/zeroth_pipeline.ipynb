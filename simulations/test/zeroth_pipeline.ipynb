{
 "cells": [
  {
   "attachments": {},
   "cell_type": "markdown",
   "metadata": {},
   "source": [
    "# Zeroth Pipeline\n",
    "\n",
    "This pipeline compares zeroth order GD against standard GD. Three different zeroth order approximations --- one difference, two difference, and coordinate --- are tested."
   ]
  },
  {
   "attachments": {},
   "cell_type": "markdown",
   "metadata": {},
   "source": [
    "### Imports"
   ]
  },
  {
   "cell_type": "code",
   "execution_count": 1,
   "metadata": {},
   "outputs": [],
   "source": [
    "import os\n",
    "import sys\n",
    "\n",
    "p = os.path.abspath('../src/')\n",
    "if p not in sys.path:\n",
    "    sys.path.append(p)"
   ]
  },
  {
   "cell_type": "code",
   "execution_count": 2,
   "metadata": {},
   "outputs": [],
   "source": [
    "import pandas as pd\n",
    "import numpy as np\n",
    "import torch\n",
    "import matplotlib.pyplot as plt\n",
    "from tqdm.notebook import tqdm, trange\n",
    "\n",
    "from difference_methods import one_point_estimate, two_point_estimate, coordinate_estimate\n",
    "from linear_zeroth_function import Linear_Zeroth\n",
    "from sigmoid_zeroth_function import Sigmoid_Zeroth\n",
    "from relu_zeroth_function import ReLU_Zeroth"
   ]
  },
  {
   "attachments": {},
   "cell_type": "markdown",
   "metadata": {},
   "source": [
    "### Data preprocessing"
   ]
  },
  {
   "cell_type": "code",
   "execution_count": 3,
   "metadata": {},
   "outputs": [
    {
     "name": "stdout",
     "output_type": "stream",
     "text": [
      "       input1  input2  input3  input4  input5  input6  input7  input8  input9  \\\n",
      "0          47     100      27      81      57      37      26       0       0   \n",
      "1           0      89      27     100      42      75      29      45      15   \n",
      "2           0      57      31      68      72      90     100     100      76   \n",
      "3           0     100       7      92       5      68      19      45      86   \n",
      "4           0      67      49      83     100     100      81      80      60   \n",
      "...       ...     ...     ...     ...     ...     ...     ...     ...     ...   \n",
      "10987      36     100      24      70       0      38      49      33      95   \n",
      "10988      16      75      41     100      52      64      32      27       0   \n",
      "10989      56     100      27      79       0      39      12       0      66   \n",
      "10990      19     100       0      61       3      23      48       0      97   \n",
      "10991      38     100      37      81      12      55       0      28      52   \n",
      "\n",
      "       input10  input11  input12  input13  input14  input15  input16  class  \n",
      "0           23       56       53      100       90       40       98      8  \n",
      "1           15       37        0       69        2      100        6      2  \n",
      "2           75       50       51       28       25       16        0      1  \n",
      "3           34      100       45       74       23       67        0      4  \n",
      "4           60       40       40       33       20       47        0      1  \n",
      "...        ...      ...      ...      ...      ...      ...      ...    ...  \n",
      "10987       47       87       55       96       21      100        0      4  \n",
      "10988        0       21        9       62        2      100       14      2  \n",
      "10989       15      100       51       93       93       38       93      0  \n",
      "10990       27      100       66       62       97       10       81      0  \n",
      "10991       27      100       42       86       26       65        0      4  \n",
      "\n",
      "[10992 rows x 17 columns]\n"
     ]
    }
   ],
   "source": [
    "proper_test = True # For testing the pipeline using iris instead of pendigits\n",
    "\n",
    "if proper_test:\n",
    "    data_train = data_train = pd.read_csv('../data/pendigits.csv')\n",
    "else:\n",
    "    data_train = pd.read_csv('../data/iris_train.csv')\n",
    "\n",
    "print(data_train)"
   ]
  },
  {
   "cell_type": "code",
   "execution_count": 4,
   "metadata": {},
   "outputs": [
    {
     "data": {
      "image/png": "[encoded data removed]",
      "text/plain": [
       "<Figure size 640x480 with 1 Axes>"
      ]
     },
     "metadata": {},
     "output_type": "display_data"
    }
   ],
   "source": [
    "if proper_test:\n",
    "    # extract frequency of each class\n",
    "    class_freq = data_train['class'].value_counts()\n",
    "else:\n",
    "    # Convert string target values to numeric values\n",
    "    #       class 0: Iris-setosa\n",
    "    #       class 1: Iris-versicolor\n",
    "    #       class 2: Iris-virginica\n",
    "    data_train['species'] = data_train['species'].map({'Iris-setosa': 0, 'Iris-versicolor': 1, 'Iris-virginica': 2})\n",
    "    # also convert all string numeric values to float ['2' -> 2.0]\n",
    "    data_train = data_train.apply(pd.to_numeric)\n",
    "    # extract frequency of each species class\n",
    "    class_freq = data_train['species'].value_counts()\n",
    "\n",
    "class_freq = list(class_freq.sort_index())\n",
    "nb_classes = len(class_freq)\n",
    "nb_features = data_train.shape[1]-1\n",
    "\n",
    "# Visual data\n",
    "graph = plt.bar(list(range(nb_classes)), class_freq)\n",
    "plt.xticks(list(range(nb_classes)))\n",
    "plt.ylabel('Frequency')\n",
    "plt.xlabel('Class')\n",
    "plt.title('Full data')\n",
    "\n",
    "plt.show() # balanced data set"
   ]
  },
  {
   "cell_type": "code",
   "execution_count": 5,
   "metadata": {},
   "outputs": [
    {
     "name": "stdout",
     "output_type": "stream",
     "text": [
      "torch.Size([10992, 16])\n"
     ]
    }
   ],
   "source": [
    "# Preprocess data for training\n",
    "\n",
    "# Convert pandas dataframe to array\n",
    "data_train_array = data_train.values\n",
    "\n",
    "# Split x (features) and y (targets)\n",
    "x_array = data_train_array[:, :nb_features]\n",
    "y_array = data_train_array[:, nb_features]\n",
    "\n",
    "# Tensorify\n",
    "X = torch.tensor(x_array, dtype=torch.float)\n",
    "Y = torch.tensor(y_array, dtype=torch.long)\n",
    "\n",
    "print(X.shape)"
   ]
  },
  {
   "attachments": {},
   "cell_type": "markdown",
   "metadata": {},
   "source": [
    "### Network Setup"
   ]
  },
  {
   "cell_type": "code",
   "execution_count": 6,
   "metadata": {},
   "outputs": [],
   "source": [
    "# INPUT/OUTPUT layer sizes\n",
    "INPUT_NEURONS = nb_features\n",
    "OUTPUT_NEURONS = nb_classes"
   ]
  },
  {
   "cell_type": "code",
   "execution_count": 7,
   "metadata": {},
   "outputs": [
    {
     "name": "stdout",
     "output_type": "stream",
     "text": [
      "Hidden Neuron Range: [10, 16]\n",
      "Mu Range: [0.001, 0.01, 0.1]\n",
      "N Range: [1, 5, 9]\n",
      "Descent Methods: ['one', 'two', 'coord', 'sgd']\n"
     ]
    }
   ],
   "source": [
    "# Hyperparameters\n",
    "hidden_neurons_range = list(range(min(INPUT_NEURONS, OUTPUT_NEURONS), max(INPUT_NEURONS, OUTPUT_NEURONS)+1, 6))\n",
    "mu_range = [1e-3, 1e-2, 1e-1]\n",
    "n_range = list(range(1, min(INPUT_NEURONS, OUTPUT_NEURONS), 4))\n",
    "difference_method_range = ['one','two','coord','sgd']\n",
    "\n",
    "# Display hyperparameters:\n",
    "print(f\"Hidden Neuron Range: {hidden_neurons_range}\")\n",
    "print(f\"Mu Range: {mu_range}\")\n",
    "print(f\"N Range: {n_range}\")\n",
    "print(f\"Descent Methods: {difference_method_range}\")"
   ]
  },
  {
   "cell_type": "code",
   "execution_count": 8,
   "metadata": {},
   "outputs": [],
   "source": [
    "# Network architectures: 1 hidden layer\n",
    "\n",
    "# Activation functions\n",
    "# Normal network with sigmoid\n",
    "def create_standard_sigmoid_network(hidden_neurons, mu, n, difference_method):\n",
    "    torch.manual_seed(1) # so that same network init with same weights at each creation\n",
    "    return torch.nn.Sequential(\n",
    "        torch.nn.Linear(INPUT_NEURONS, hidden_neurons),\n",
    "        torch.nn.Sigmoid(),\n",
    "        torch.nn.Linear(hidden_neurons, OUTPUT_NEURONS)\n",
    "    )\n",
    "\n",
    "# Full Zeroth Order sigmoid\n",
    "def create_zeroth_sigmoid_network(hidden_neurons, mu, n, difference_method):\n",
    "    torch.manual_seed(1) # so that same network init with same weights at each creation\n",
    "    return torch.nn.Sequential(\n",
    "        Linear_Zeroth(INPUT_NEURONS, hidden_neurons, bias=False, difference_method=difference_method, mu=mu, n=n),\n",
    "        Sigmoid_Zeroth(difference_method=difference_method, mu=mu, n=n),\n",
    "        Linear_Zeroth(hidden_neurons, OUTPUT_NEURONS, bias=False, difference_method=difference_method, mu=mu, n=n)\n",
    ")\n",
    "\n",
    "# Normal network with relu\n",
    "def create_standard_relu_network(hidden_neurons, mu, n, difference_method):\n",
    "    torch.manual_seed(1) # so that same network init with same weights at each creation\n",
    "    return torch.nn.Sequential(\n",
    "        torch.nn.Linear(INPUT_NEURONS, hidden_neurons),\n",
    "        torch.nn.ReLU(),\n",
    "        torch.nn.Linear(hidden_neurons, OUTPUT_NEURONS)\n",
    "    )\n",
    "\n",
    "# Full Zeroth Order relu\n",
    "def create_zeroth_relu_network(hidden_neurons, mu, n, difference_method):\n",
    "    torch.manual_seed(1) # so that same network init with same weights at each creation\n",
    "    return torch.nn.Sequential(\n",
    "        Linear_Zeroth(INPUT_NEURONS, hidden_neurons, bias=False, difference_method=difference_method, mu=mu, n=n),\n",
    "        ReLU_Zeroth(difference_method=difference_method, mu=mu, n=n),\n",
    "        Linear_Zeroth(hidden_neurons, OUTPUT_NEURONS, bias=False, difference_method=difference_method, mu=mu, n=n),\n",
    ")\n",
    "\n",
    "std_network_funs = [\n",
    "    (\"standard_sigmoid\", create_standard_sigmoid_network),\n",
    "    (\"standard_relu\", create_standard_relu_network),\n",
    "]\n",
    "\n",
    "zero_network_funs = [\n",
    "    (\"zeroth_sigmoid\", create_zeroth_sigmoid_network),\n",
    "    (\"zeroth_relu\", create_zeroth_relu_network),\n",
    "]\n"
   ]
  },
  {
   "attachments": {},
   "cell_type": "markdown",
   "metadata": {},
   "source": [
    "### Train and Plot Losses"
   ]
  },
  {
   "cell_type": "code",
   "execution_count": 9,
   "metadata": {},
   "outputs": [],
   "source": [
    "# Training hyperparameters\n",
    "# Training constants\n",
    "LR = 0.01\n",
    "NUM_EPOCH = 250\n",
    "BATCH_SIZE = 64\n",
    "\n",
    "# Loss function\n",
    "loss_func = torch.nn.CrossEntropyLoss()"
   ]
  },
  {
   "cell_type": "code",
   "execution_count": 10,
   "metadata": {},
   "outputs": [],
   "source": [
    "# Plot or save? False => Save\n",
    "plot = False\n",
    "path = \"plots/\""
   ]
  },
  {
   "cell_type": "code",
   "execution_count": 11,
   "metadata": {},
   "outputs": [
    {
     "name": "stdout",
     "output_type": "stream",
     "text": [
      "Network: zeroth_sigmoid, Hidden neurons: 10, Mu: 0.001, N: 1 \n",
      "=========\n"
     ]
    },
    {
     "data": {
      "application/vnd.jupyter.widget-view+json": {
       "model_id": "a608f09c83764ee8b234e04683dcbf84",
       "version_major": 2,
       "version_minor": 0
      },
      "text/plain": [
       "method:   0%|          | 0/4 [00:00<?, ?it/s]"
      ]
     },
     "metadata": {},
     "output_type": "display_data"
    },
    {
     "data": {
      "application/vnd.jupyter.widget-view+json": {
       "model_id": "3700a0423f3d4dd791aecc990f4ed1ca",
       "version_major": 2,
       "version_minor": 0
      },
      "text/plain": [
       "epoch:   0%|          | 0/250 [00:00<?, ?it/s]"
      ]
     },
     "metadata": {},
     "output_type": "display_data"
    },
    {
     "name": "stdout",
     "output_type": "stream",
     "text": [
      "Epoch [1 / 250] Loss: nan  Accuracy: 1.56 %\n",
      "Epoch [51 / 250] Loss: nan  Accuracy: 1.56 %\n",
      "Epoch [101 / 250] Loss: nan  Accuracy: 1.56 %\n",
      "Epoch [151 / 250] Loss: nan  Accuracy: 1.56 %\n",
      "Epoch [201 / 250] Loss: nan  Accuracy: 1.56 %\n"
     ]
    },
    {
     "data": {
      "application/vnd.jupyter.widget-view+json": {
       "model_id": "836485344b584c3096fc1fb7683f64ad",
       "version_major": 2,
       "version_minor": 0
      },
      "text/plain": [
       "epoch:   0%|          | 0/250 [00:00<?, ?it/s]"
      ]
     },
     "metadata": {},
     "output_type": "display_data"
    },
    {
     "name": "stdout",
     "output_type": "stream",
     "text": [
      "Epoch [1 / 250] Loss: 2.3501  Accuracy: 6.25 %\n",
      "Epoch [51 / 250] Loss: 5.5499  Accuracy: 1.56 %\n",
      "Epoch [101 / 250] Loss: 7.5394  Accuracy: 4.69 %\n",
      "Epoch [151 / 250] Loss: 9.2909  Accuracy: 6.25 %\n",
      "Epoch [201 / 250] Loss: 10.5250  Accuracy: 7.81 %\n"
     ]
    },
    {
     "data": {
      "application/vnd.jupyter.widget-view+json": {
       "model_id": "e069183c801c4c5ba1f4a386cb686bb6",
       "version_major": 2,
       "version_minor": 0
      },
      "text/plain": [
       "epoch:   0%|          | 0/250 [00:00<?, ?it/s]"
      ]
     },
     "metadata": {},
     "output_type": "display_data"
    },
    {
     "name": "stdout",
     "output_type": "stream",
     "text": [
      "Epoch [1 / 250] Loss: 2.3998  Accuracy: 10.94 %\n",
      "Epoch [51 / 250] Loss: 2.7966  Accuracy: 1.56 %\n",
      "Epoch [101 / 250] Loss: 7.1160  Accuracy: 1.56 %\n",
      "Epoch [151 / 250] Loss: 14.2145  Accuracy: 1.56 %\n",
      "Epoch [201 / 250] Loss: 21.0576  Accuracy: 1.56 %\n"
     ]
    },
    {
     "data": {
      "application/vnd.jupyter.widget-view+json": {
       "model_id": "3edcfba616f6463e992fdb829d7a4ba9",
       "version_major": 2,
       "version_minor": 0
      },
      "text/plain": [
       "epoch:   0%|          | 0/250 [00:00<?, ?it/s]"
      ]
     },
     "metadata": {},
     "output_type": "display_data"
    },
    {
     "name": "stdout",
     "output_type": "stream",
     "text": [
      "Epoch [1 / 250] Loss: 2.1725  Accuracy: 40.62 %\n",
      "Epoch [51 / 250] Loss: 0.4971  Accuracy: 89.06 %\n",
      "Epoch [101 / 250] Loss: 0.3899  Accuracy: 89.06 %\n",
      "Epoch [151 / 250] Loss: 0.3291  Accuracy: 90.62 %\n",
      "Epoch [201 / 250] Loss: 0.2925  Accuracy: 90.62 %\n",
      "Network: zeroth_sigmoid, Hidden neurons: 10, Mu: 0.001, N: 5 \n",
      "=========\n"
     ]
    },
    {
     "data": {
      "application/vnd.jupyter.widget-view+json": {
       "model_id": "b7eba7814d784690897caee4b5c54e53",
       "version_major": 2,
       "version_minor": 0
      },
      "text/plain": [
       "method:   0%|          | 0/4 [00:00<?, ?it/s]"
      ]
     },
     "metadata": {},
     "output_type": "display_data"
    },
    {
     "data": {
      "application/vnd.jupyter.widget-view+json": {
       "model_id": "719b2e0a282941c494f36d92cb1cefc8",
       "version_major": 2,
       "version_minor": 0
      },
      "text/plain": [
       "epoch:   0%|          | 0/250 [00:00<?, ?it/s]"
      ]
     },
     "metadata": {},
     "output_type": "display_data"
    },
    {
     "name": "stdout",
     "output_type": "stream",
     "text": [
      "Epoch [1 / 250] Loss: 2.1725  Accuracy: 40.62 %\n",
      "Epoch [51 / 250] Loss: 0.4971  Accuracy: 89.06 %\n",
      "Epoch [101 / 250] Loss: 0.3899  Accuracy: 89.06 %\n",
      "Epoch [151 / 250] Loss: 0.3291  Accuracy: 90.62 %\n",
      "Epoch [201 / 250] Loss: 0.2925  Accuracy: 90.62 %\n"
     ]
    },
    {
     "data": {
      "application/vnd.jupyter.widget-view+json": {
       "model_id": "30991ec2bfec4a8783153f237e80dc71",
       "version_major": 2,
       "version_minor": 0
      },
      "text/plain": [
       "epoch:   0%|          | 0/250 [00:00<?, ?it/s]"
      ]
     },
     "metadata": {},
     "output_type": "display_data"
    },
    {
     "name": "stdout",
     "output_type": "stream",
     "text": [
      "Epoch [1 / 250] Loss: 2.1725  Accuracy: 40.62 %\n",
      "Epoch [51 / 250] Loss: 0.4971  Accuracy: 89.06 %\n",
      "Epoch [101 / 250] Loss: 0.3899  Accuracy: 89.06 %\n",
      "Epoch [151 / 250] Loss: 0.3291  Accuracy: 90.62 %\n",
      "Epoch [201 / 250] Loss: 0.2925  Accuracy: 90.62 %\n"
     ]
    },
    {
     "data": {
      "application/vnd.jupyter.widget-view+json": {
       "model_id": "26a0205b518c4cad8fc05814f96c36bc",
       "version_major": 2,
       "version_minor": 0
      },
      "text/plain": [
       "epoch:   0%|          | 0/250 [00:00<?, ?it/s]"
      ]
     },
     "metadata": {},
     "output_type": "display_data"
    },
    {
     "name": "stdout",
     "output_type": "stream",
     "text": [
      "Epoch [1 / 250] Loss: 2.1725  Accuracy: 40.62 %\n",
      "Epoch [51 / 250] Loss: 0.4971  Accuracy: 89.06 %\n",
      "Epoch [101 / 250] Loss: 0.3899  Accuracy: 89.06 %\n",
      "Epoch [151 / 250] Loss: 0.3291  Accuracy: 90.62 %\n",
      "Epoch [201 / 250] Loss: 0.2925  Accuracy: 90.62 %\n"
     ]
    },
    {
     "data": {
      "application/vnd.jupyter.widget-view+json": {
       "model_id": "3c9b1927672e4948be6fa9150d024b59",
       "version_major": 2,
       "version_minor": 0
      },
      "text/plain": [
       "epoch:   0%|          | 0/250 [00:00<?, ?it/s]"
      ]
     },
     "metadata": {},
     "output_type": "display_data"
    },
    {
     "name": "stdout",
     "output_type": "stream",
     "text": [
      "Epoch [1 / 250] Loss: 2.1725  Accuracy: 40.62 %\n",
      "Epoch [51 / 250] Loss: 0.4971  Accuracy: 89.06 %\n",
      "Epoch [101 / 250] Loss: 0.3899  Accuracy: 89.06 %\n",
      "Epoch [151 / 250] Loss: 0.3291  Accuracy: 90.62 %\n",
      "Epoch [201 / 250] Loss: 0.2925  Accuracy: 90.62 %\n",
      "Network: zeroth_sigmoid, Hidden neurons: 10, Mu: 0.001, N: 9 \n",
      "=========\n"
     ]
    },
    {
     "data": {
      "application/vnd.jupyter.widget-view+json": {
       "model_id": "eec20832f66842888d8332404e282d35",
       "version_major": 2,
       "version_minor": 0
      },
      "text/plain": [
       "method:   0%|          | 0/4 [00:00<?, ?it/s]"
      ]
     },
     "metadata": {},
     "output_type": "display_data"
    },
    {
     "data": {
      "application/vnd.jupyter.widget-view+json": {
       "model_id": "7ef647d6622c4bee82859a2ba08eaaa4",
       "version_major": 2,
       "version_minor": 0
      },
      "text/plain": [
       "epoch:   0%|          | 0/250 [00:00<?, ?it/s]"
      ]
     },
     "metadata": {},
     "output_type": "display_data"
    },
    {
     "name": "stdout",
     "output_type": "stream",
     "text": [
      "Epoch [1 / 250] Loss: 2.1725  Accuracy: 40.62 %\n",
      "Epoch [51 / 250] Loss: 0.4971  Accuracy: 89.06 %\n",
      "Epoch [101 / 250] Loss: 0.3899  Accuracy: 89.06 %\n",
      "Epoch [151 / 250] Loss: 0.3291  Accuracy: 90.62 %\n",
      "Epoch [201 / 250] Loss: 0.2925  Accuracy: 90.62 %\n"
     ]
    },
    {
     "data": {
      "application/vnd.jupyter.widget-view+json": {
       "model_id": "53186fd737174bc2bc1bd0e9be116630",
       "version_major": 2,
       "version_minor": 0
      },
      "text/plain": [
       "epoch:   0%|          | 0/250 [00:00<?, ?it/s]"
      ]
     },
     "metadata": {},
     "output_type": "display_data"
    },
    {
     "name": "stdout",
     "output_type": "stream",
     "text": [
      "Epoch [1 / 250] Loss: 2.1725  Accuracy: 40.62 %\n",
      "Epoch [51 / 250] Loss: 0.4971  Accuracy: 89.06 %\n",
      "Epoch [101 / 250] Loss: 0.3899  Accuracy: 89.06 %\n",
      "Epoch [151 / 250] Loss: 0.3291  Accuracy: 90.62 %\n",
      "Epoch [201 / 250] Loss: 0.2925  Accuracy: 90.62 %\n"
     ]
    },
    {
     "data": {
      "application/vnd.jupyter.widget-view+json": {
       "model_id": "8d6ffaeead4544cba336346f7536e46e",
       "version_major": 2,
       "version_minor": 0
      },
      "text/plain": [
       "epoch:   0%|          | 0/250 [00:00<?, ?it/s]"
      ]
     },
     "metadata": {},
     "output_type": "display_data"
    },
    {
     "name": "stdout",
     "output_type": "stream",
     "text": [
      "Epoch [1 / 250] Loss: 2.1725  Accuracy: 40.62 %\n",
      "Epoch [51 / 250] Loss: 0.4971  Accuracy: 89.06 %\n",
      "Epoch [101 / 250] Loss: 0.3899  Accuracy: 89.06 %\n",
      "Epoch [151 / 250] Loss: 0.3291  Accuracy: 90.62 %\n",
      "Epoch [201 / 250] Loss: 0.2925  Accuracy: 90.62 %\n"
     ]
    },
    {
     "data": {
      "application/vnd.jupyter.widget-view+json": {
       "model_id": "76c9f85dd9ce469c81baa3775ac11540",
       "version_major": 2,
       "version_minor": 0
      },
      "text/plain": [
       "epoch:   0%|          | 0/250 [00:00<?, ?it/s]"
      ]
     },
     "metadata": {},
     "output_type": "display_data"
    },
    {
     "name": "stdout",
     "output_type": "stream",
     "text": [
      "Epoch [1 / 250] Loss: 2.1725  Accuracy: 40.62 %\n",
      "Epoch [51 / 250] Loss: 0.4971  Accuracy: 89.06 %\n",
      "Epoch [101 / 250] Loss: 0.3899  Accuracy: 89.06 %\n",
      "Epoch [151 / 250] Loss: 0.3291  Accuracy: 90.62 %\n",
      "Epoch [201 / 250] Loss: 0.2925  Accuracy: 90.62 %\n",
      "Network: zeroth_sigmoid, Hidden neurons: 10, Mu: 0.01, N: 1 \n",
      "=========\n"
     ]
    },
    {
     "data": {
      "application/vnd.jupyter.widget-view+json": {
       "model_id": "5d78ce05da0e4dfa8bfdd31d890ba59d",
       "version_major": 2,
       "version_minor": 0
      },
      "text/plain": [
       "method:   0%|          | 0/4 [00:00<?, ?it/s]"
      ]
     },
     "metadata": {},
     "output_type": "display_data"
    },
    {
     "data": {
      "application/vnd.jupyter.widget-view+json": {
       "model_id": "4230b282566e43c6aba65aba834af764",
       "version_major": 2,
       "version_minor": 0
      },
      "text/plain": [
       "epoch:   0%|          | 0/250 [00:00<?, ?it/s]"
      ]
     },
     "metadata": {},
     "output_type": "display_data"
    },
    {
     "name": "stdout",
     "output_type": "stream",
     "text": [
      "Epoch [1 / 250] Loss: 2.1725  Accuracy: 40.62 %\n",
      "Epoch [51 / 250] Loss: 0.4971  Accuracy: 89.06 %\n",
      "Epoch [101 / 250] Loss: 0.3899  Accuracy: 89.06 %\n",
      "Epoch [151 / 250] Loss: 0.3291  Accuracy: 90.62 %\n",
      "Epoch [201 / 250] Loss: 0.2925  Accuracy: 90.62 %\n"
     ]
    },
    {
     "data": {
      "application/vnd.jupyter.widget-view+json": {
       "model_id": "7d6f0dc0be264a4c859ad492f3850de9",
       "version_major": 2,
       "version_minor": 0
      },
      "text/plain": [
       "epoch:   0%|          | 0/250 [00:00<?, ?it/s]"
      ]
     },
     "metadata": {},
     "output_type": "display_data"
    },
    {
     "name": "stdout",
     "output_type": "stream",
     "text": [
      "Epoch [1 / 250] Loss: 2.1725  Accuracy: 40.62 %\n",
      "Epoch [51 / 250] Loss: 0.4971  Accuracy: 89.06 %\n",
      "Epoch [101 / 250] Loss: 0.3899  Accuracy: 89.06 %\n",
      "Epoch [151 / 250] Loss: 0.3291  Accuracy: 90.62 %\n",
      "Epoch [201 / 250] Loss: 0.2925  Accuracy: 90.62 %\n"
     ]
    },
    {
     "data": {
      "application/vnd.jupyter.widget-view+json": {
       "model_id": "174611c131b34f14b42e2d7ca075d8d1",
       "version_major": 2,
       "version_minor": 0
      },
      "text/plain": [
       "epoch:   0%|          | 0/250 [00:00<?, ?it/s]"
      ]
     },
     "metadata": {},
     "output_type": "display_data"
    },
    {
     "name": "stdout",
     "output_type": "stream",
     "text": [
      "Epoch [1 / 250] Loss: 2.1725  Accuracy: 40.62 %\n",
      "Epoch [51 / 250] Loss: 0.4971  Accuracy: 89.06 %\n",
      "Epoch [101 / 250] Loss: 0.3899  Accuracy: 89.06 %\n",
      "Epoch [151 / 250] Loss: 0.3291  Accuracy: 90.62 %\n",
      "Epoch [201 / 250] Loss: 0.2925  Accuracy: 90.62 %\n"
     ]
    },
    {
     "data": {
      "application/vnd.jupyter.widget-view+json": {
       "model_id": "e046cf3aa86044f9b335ddb06d63481a",
       "version_major": 2,
       "version_minor": 0
      },
      "text/plain": [
       "epoch:   0%|          | 0/250 [00:00<?, ?it/s]"
      ]
     },
     "metadata": {},
     "output_type": "display_data"
    },
    {
     "name": "stdout",
     "output_type": "stream",
     "text": [
      "Epoch [1 / 250] Loss: 2.1725  Accuracy: 40.62 %\n",
      "Epoch [51 / 250] Loss: 0.4971  Accuracy: 89.06 %\n",
      "Epoch [101 / 250] Loss: 0.3899  Accuracy: 89.06 %\n",
      "Epoch [151 / 250] Loss: 0.3291  Accuracy: 90.62 %\n",
      "Epoch [201 / 250] Loss: 0.2925  Accuracy: 90.62 %\n",
      "Network: zeroth_sigmoid, Hidden neurons: 10, Mu: 0.01, N: 5 \n",
      "=========\n"
     ]
    },
    {
     "data": {
      "application/vnd.jupyter.widget-view+json": {
       "model_id": "ba62a0b2ed46460eb65d78ca6a359141",
       "version_major": 2,
       "version_minor": 0
      },
      "text/plain": [
       "method:   0%|          | 0/4 [00:00<?, ?it/s]"
      ]
     },
     "metadata": {},
     "output_type": "display_data"
    },
    {
     "data": {
      "application/vnd.jupyter.widget-view+json": {
       "model_id": "210542098d024984b568fde6787a2cf9",
       "version_major": 2,
       "version_minor": 0
      },
      "text/plain": [
       "epoch:   0%|          | 0/250 [00:00<?, ?it/s]"
      ]
     },
     "metadata": {},
     "output_type": "display_data"
    },
    {
     "name": "stdout",
     "output_type": "stream",
     "text": [
      "Epoch [1 / 250] Loss: 2.1725  Accuracy: 40.62 %\n",
      "Epoch [51 / 250] Loss: 0.4971  Accuracy: 89.06 %\n",
      "Epoch [101 / 250] Loss: 0.3899  Accuracy: 89.06 %\n",
      "Epoch [151 / 250] Loss: 0.3291  Accuracy: 90.62 %\n",
      "Epoch [201 / 250] Loss: 0.2925  Accuracy: 90.62 %\n"
     ]
    },
    {
     "data": {
      "application/vnd.jupyter.widget-view+json": {
       "model_id": "0c0792c5525c4ab099785e5e3888007b",
       "version_major": 2,
       "version_minor": 0
      },
      "text/plain": [
       "epoch:   0%|          | 0/250 [00:00<?, ?it/s]"
      ]
     },
     "metadata": {},
     "output_type": "display_data"
    },
    {
     "name": "stdout",
     "output_type": "stream",
     "text": [
      "Epoch [1 / 250] Loss: 2.1725  Accuracy: 40.62 %\n",
      "Epoch [51 / 250] Loss: 0.4971  Accuracy: 89.06 %\n",
      "Epoch [101 / 250] Loss: 0.3899  Accuracy: 89.06 %\n",
      "Epoch [151 / 250] Loss: 0.3291  Accuracy: 90.62 %\n",
      "Epoch [201 / 250] Loss: 0.2925  Accuracy: 90.62 %\n"
     ]
    },
    {
     "data": {
      "application/vnd.jupyter.widget-view+json": {
       "model_id": "bccca48345f14aab91d127c554eee727",
       "version_major": 2,
       "version_minor": 0
      },
      "text/plain": [
       "epoch:   0%|          | 0/250 [00:00<?, ?it/s]"
      ]
     },
     "metadata": {},
     "output_type": "display_data"
    },
    {
     "name": "stdout",
     "output_type": "stream",
     "text": [
      "Epoch [1 / 250] Loss: 2.1725  Accuracy: 40.62 %\n",
      "Epoch [51 / 250] Loss: 0.4971  Accuracy: 89.06 %\n",
      "Epoch [101 / 250] Loss: 0.3899  Accuracy: 89.06 %\n",
      "Epoch [151 / 250] Loss: 0.3291  Accuracy: 90.62 %\n",
      "Epoch [201 / 250] Loss: 0.2925  Accuracy: 90.62 %\n"
     ]
    },
    {
     "data": {
      "application/vnd.jupyter.widget-view+json": {
       "model_id": "0d38e6984851457c877190677ec1724a",
       "version_major": 2,
       "version_minor": 0
      },
      "text/plain": [
       "epoch:   0%|          | 0/250 [00:00<?, ?it/s]"
      ]
     },
     "metadata": {},
     "output_type": "display_data"
    },
    {
     "name": "stdout",
     "output_type": "stream",
     "text": [
      "Epoch [1 / 250] Loss: 2.1725  Accuracy: 40.62 %\n",
      "Epoch [51 / 250] Loss: 0.4971  Accuracy: 89.06 %\n",
      "Epoch [101 / 250] Loss: 0.3899  Accuracy: 89.06 %\n",
      "Epoch [151 / 250] Loss: 0.3291  Accuracy: 90.62 %\n",
      "Epoch [201 / 250] Loss: 0.2925  Accuracy: 90.62 %\n",
      "Network: zeroth_sigmoid, Hidden neurons: 10, Mu: 0.01, N: 9 \n",
      "=========\n"
     ]
    },
    {
     "data": {
      "application/vnd.jupyter.widget-view+json": {
       "model_id": "c9de1f7b1e274658a3ac555530899d20",
       "version_major": 2,
       "version_minor": 0
      },
      "text/plain": [
       "method:   0%|          | 0/4 [00:00<?, ?it/s]"
      ]
     },
     "metadata": {},
     "output_type": "display_data"
    },
    {
     "data": {
      "application/vnd.jupyter.widget-view+json": {
       "model_id": "3e487ac3ed4f42c5bf9dce310110be92",
       "version_major": 2,
       "version_minor": 0
      },
      "text/plain": [
       "epoch:   0%|          | 0/250 [00:00<?, ?it/s]"
      ]
     },
     "metadata": {},
     "output_type": "display_data"
    },
    {
     "name": "stdout",
     "output_type": "stream",
     "text": [
      "Epoch [1 / 250] Loss: 2.1725  Accuracy: 40.62 %\n",
      "Epoch [51 / 250] Loss: 0.4971  Accuracy: 89.06 %\n",
      "Epoch [101 / 250] Loss: 0.3899  Accuracy: 89.06 %\n",
      "Epoch [151 / 250] Loss: 0.3291  Accuracy: 90.62 %\n",
      "Epoch [201 / 250] Loss: 0.2925  Accuracy: 90.62 %\n"
     ]
    },
    {
     "data": {
      "application/vnd.jupyter.widget-view+json": {
       "model_id": "f03282851481458c90b0f320139a2280",
       "version_major": 2,
       "version_minor": 0
      },
      "text/plain": [
       "epoch:   0%|          | 0/250 [00:00<?, ?it/s]"
      ]
     },
     "metadata": {},
     "output_type": "display_data"
    },
    {
     "name": "stdout",
     "output_type": "stream",
     "text": [
      "Epoch [1 / 250] Loss: 2.1725  Accuracy: 40.62 %\n",
      "Epoch [51 / 250] Loss: 0.4971  Accuracy: 89.06 %\n",
      "Epoch [101 / 250] Loss: 0.3899  Accuracy: 89.06 %\n",
      "Epoch [151 / 250] Loss: 0.3291  Accuracy: 90.62 %\n",
      "Epoch [201 / 250] Loss: 0.2925  Accuracy: 90.62 %\n"
     ]
    },
    {
     "data": {
      "application/vnd.jupyter.widget-view+json": {
       "model_id": "b2c32846108248afba781686a9e2a2c6",
       "version_major": 2,
       "version_minor": 0
      },
      "text/plain": [
       "epoch:   0%|          | 0/250 [00:00<?, ?it/s]"
      ]
     },
     "metadata": {},
     "output_type": "display_data"
    },
    {
     "name": "stdout",
     "output_type": "stream",
     "text": [
      "Epoch [1 / 250] Loss: 2.1725  Accuracy: 40.62 %\n",
      "Epoch [51 / 250] Loss: 0.4971  Accuracy: 89.06 %\n",
      "Epoch [101 / 250] Loss: 0.3899  Accuracy: 89.06 %\n",
      "Epoch [151 / 250] Loss: 0.3291  Accuracy: 90.62 %\n",
      "Epoch [201 / 250] Loss: 0.2925  Accuracy: 90.62 %\n"
     ]
    },
    {
     "data": {
      "application/vnd.jupyter.widget-view+json": {
       "model_id": "94077150b7c64667b6409f0826d8f793",
       "version_major": 2,
       "version_minor": 0
      },
      "text/plain": [
       "epoch:   0%|          | 0/250 [00:00<?, ?it/s]"
      ]
     },
     "metadata": {},
     "output_type": "display_data"
    },
    {
     "name": "stdout",
     "output_type": "stream",
     "text": [
      "Epoch [1 / 250] Loss: 2.1725  Accuracy: 40.62 %\n",
      "Epoch [51 / 250] Loss: 0.4971  Accuracy: 89.06 %\n",
      "Epoch [101 / 250] Loss: 0.3899  Accuracy: 89.06 %\n",
      "Epoch [151 / 250] Loss: 0.3291  Accuracy: 90.62 %\n",
      "Epoch [201 / 250] Loss: 0.2925  Accuracy: 90.62 %\n",
      "Network: zeroth_sigmoid, Hidden neurons: 10, Mu: 0.1, N: 1 \n",
      "=========\n"
     ]
    },
    {
     "data": {
      "application/vnd.jupyter.widget-view+json": {
       "model_id": "8e8dd6495f244b069b074d5be74cccc3",
       "version_major": 2,
       "version_minor": 0
      },
      "text/plain": [
       "method:   0%|          | 0/4 [00:00<?, ?it/s]"
      ]
     },
     "metadata": {},
     "output_type": "display_data"
    },
    {
     "data": {
      "application/vnd.jupyter.widget-view+json": {
       "model_id": "c99fb5a9744049dd98f7fc58674cc22a",
       "version_major": 2,
       "version_minor": 0
      },
      "text/plain": [
       "epoch:   0%|          | 0/250 [00:00<?, ?it/s]"
      ]
     },
     "metadata": {},
     "output_type": "display_data"
    },
    {
     "name": "stdout",
     "output_type": "stream",
     "text": [
      "Epoch [1 / 250] Loss: 2.1725  Accuracy: 40.62 %\n",
      "Epoch [51 / 250] Loss: 0.4971  Accuracy: 89.06 %\n",
      "Epoch [101 / 250] Loss: 0.3899  Accuracy: 89.06 %\n",
      "Epoch [151 / 250] Loss: 0.3291  Accuracy: 90.62 %\n",
      "Epoch [201 / 250] Loss: 0.2925  Accuracy: 90.62 %\n"
     ]
    },
    {
     "data": {
      "application/vnd.jupyter.widget-view+json": {
       "model_id": "e2ef62490be14e48b8f09df5e47caa09",
       "version_major": 2,
       "version_minor": 0
      },
      "text/plain": [
       "epoch:   0%|          | 0/250 [00:00<?, ?it/s]"
      ]
     },
     "metadata": {},
     "output_type": "display_data"
    },
    {
     "name": "stdout",
     "output_type": "stream",
     "text": [
      "Epoch [1 / 250] Loss: 2.1725  Accuracy: 40.62 %\n",
      "Epoch [51 / 250] Loss: 0.4971  Accuracy: 89.06 %\n",
      "Epoch [101 / 250] Loss: 0.3899  Accuracy: 89.06 %\n",
      "Epoch [151 / 250] Loss: 0.3291  Accuracy: 90.62 %\n",
      "Epoch [201 / 250] Loss: 0.2925  Accuracy: 90.62 %\n"
     ]
    },
    {
     "data": {
      "application/vnd.jupyter.widget-view+json": {
       "model_id": "4d502957e9a14f5794000bbb3a62991f",
       "version_major": 2,
       "version_minor": 0
      },
      "text/plain": [
       "epoch:   0%|          | 0/250 [00:00<?, ?it/s]"
      ]
     },
     "metadata": {},
     "output_type": "display_data"
    },
    {
     "name": "stdout",
     "output_type": "stream",
     "text": [
      "Epoch [1 / 250] Loss: 2.1725  Accuracy: 40.62 %\n",
      "Epoch [51 / 250] Loss: 0.4971  Accuracy: 89.06 %\n",
      "Epoch [101 / 250] Loss: 0.3899  Accuracy: 89.06 %\n",
      "Epoch [151 / 250] Loss: 0.3291  Accuracy: 90.62 %\n",
      "Epoch [201 / 250] Loss: 0.2925  Accuracy: 90.62 %\n"
     ]
    },
    {
     "data": {
      "application/vnd.jupyter.widget-view+json": {
       "model_id": "d11e9fef9e6546619774d4f5d2153684",
       "version_major": 2,
       "version_minor": 0
      },
      "text/plain": [
       "epoch:   0%|          | 0/250 [00:00<?, ?it/s]"
      ]
     },
     "metadata": {},
     "output_type": "display_data"
    },
    {
     "name": "stdout",
     "output_type": "stream",
     "text": [
      "Epoch [1 / 250] Loss: 2.1725  Accuracy: 40.62 %\n",
      "Epoch [51 / 250] Loss: 0.4971  Accuracy: 89.06 %\n",
      "Epoch [101 / 250] Loss: 0.3899  Accuracy: 89.06 %\n",
      "Epoch [151 / 250] Loss: 0.3291  Accuracy: 90.62 %\n",
      "Epoch [201 / 250] Loss: 0.2925  Accuracy: 90.62 %\n",
      "Network: zeroth_sigmoid, Hidden neurons: 10, Mu: 0.1, N: 5 \n",
      "=========\n"
     ]
    },
    {
     "data": {
      "application/vnd.jupyter.widget-view+json": {
       "model_id": "e3b961af66464d1e84f8970384096fa3",
       "version_major": 2,
       "version_minor": 0
      },
      "text/plain": [
       "method:   0%|          | 0/4 [00:00<?, ?it/s]"
      ]
     },
     "metadata": {},
     "output_type": "display_data"
    },
    {
     "data": {
      "application/vnd.jupyter.widget-view+json": {
       "model_id": "84d3d932f2374b0085e6f6aeba179a6e",
       "version_major": 2,
       "version_minor": 0
      },
      "text/plain": [
       "epoch:   0%|          | 0/250 [00:00<?, ?it/s]"
      ]
     },
     "metadata": {},
     "output_type": "display_data"
    },
    {
     "name": "stdout",
     "output_type": "stream",
     "text": [
      "Epoch [1 / 250] Loss: 2.1725  Accuracy: 40.62 %\n",
      "Epoch [51 / 250] Loss: 0.4971  Accuracy: 89.06 %\n",
      "Epoch [101 / 250] Loss: 0.3899  Accuracy: 89.06 %\n",
      "Epoch [151 / 250] Loss: 0.3291  Accuracy: 90.62 %\n",
      "Epoch [201 / 250] Loss: 0.2925  Accuracy: 90.62 %\n"
     ]
    },
    {
     "data": {
      "application/vnd.jupyter.widget-view+json": {
       "model_id": "2aa0f8f2ba6d44a09d70be1bb12e8322",
       "version_major": 2,
       "version_minor": 0
      },
      "text/plain": [
       "epoch:   0%|          | 0/250 [00:00<?, ?it/s]"
      ]
     },
     "metadata": {},
     "output_type": "display_data"
    },
    {
     "name": "stdout",
     "output_type": "stream",
     "text": [
      "Epoch [1 / 250] Loss: 2.1725  Accuracy: 40.62 %\n",
      "Epoch [51 / 250] Loss: 0.4971  Accuracy: 89.06 %\n",
      "Epoch [101 / 250] Loss: 0.3899  Accuracy: 89.06 %\n",
      "Epoch [151 / 250] Loss: 0.3291  Accuracy: 90.62 %\n",
      "Epoch [201 / 250] Loss: 0.2925  Accuracy: 90.62 %\n"
     ]
    },
    {
     "data": {
      "application/vnd.jupyter.widget-view+json": {
       "model_id": "1ee71149eb9c4dbe95e3406c0a4e07da",
       "version_major": 2,
       "version_minor": 0
      },
      "text/plain": [
       "epoch:   0%|          | 0/250 [00:00<?, ?it/s]"
      ]
     },
     "metadata": {},
     "output_type": "display_data"
    },
    {
     "name": "stdout",
     "output_type": "stream",
     "text": [
      "Epoch [1 / 250] Loss: 2.1725  Accuracy: 40.62 %\n",
      "Epoch [51 / 250] Loss: 0.4971  Accuracy: 89.06 %\n",
      "Epoch [101 / 250] Loss: 0.3899  Accuracy: 89.06 %\n",
      "Epoch [151 / 250] Loss: 0.3291  Accuracy: 90.62 %\n",
      "Epoch [201 / 250] Loss: 0.2925  Accuracy: 90.62 %\n"
     ]
    },
    {
     "data": {
      "application/vnd.jupyter.widget-view+json": {
       "model_id": "efb9f30f44964643b6e999e8d06272f9",
       "version_major": 2,
       "version_minor": 0
      },
      "text/plain": [
       "epoch:   0%|          | 0/250 [00:00<?, ?it/s]"
      ]
     },
     "metadata": {},
     "output_type": "display_data"
    },
    {
     "name": "stdout",
     "output_type": "stream",
     "text": [
      "Epoch [1 / 250] Loss: 2.1725  Accuracy: 40.62 %\n",
      "Epoch [51 / 250] Loss: 0.4971  Accuracy: 89.06 %\n",
      "Epoch [101 / 250] Loss: 0.3899  Accuracy: 89.06 %\n",
      "Epoch [151 / 250] Loss: 0.3291  Accuracy: 90.62 %\n",
      "Epoch [201 / 250] Loss: 0.2925  Accuracy: 90.62 %\n",
      "Network: zeroth_sigmoid, Hidden neurons: 10, Mu: 0.1, N: 9 \n",
      "=========\n"
     ]
    },
    {
     "data": {
      "application/vnd.jupyter.widget-view+json": {
       "model_id": "c7fc8ae42b4e4c908e1fee05731ca38a",
       "version_major": 2,
       "version_minor": 0
      },
      "text/plain": [
       "method:   0%|          | 0/4 [00:00<?, ?it/s]"
      ]
     },
     "metadata": {},
     "output_type": "display_data"
    },
    {
     "data": {
      "application/vnd.jupyter.widget-view+json": {
       "model_id": "33dae812592b4ac0bef50100f7b59c07",
       "version_major": 2,
       "version_minor": 0
      },
      "text/plain": [
       "epoch:   0%|          | 0/250 [00:00<?, ?it/s]"
      ]
     },
     "metadata": {},
     "output_type": "display_data"
    },
    {
     "name": "stdout",
     "output_type": "stream",
     "text": [
      "Epoch [1 / 250] Loss: 2.1725  Accuracy: 40.62 %\n",
      "Epoch [51 / 250] Loss: 0.4971  Accuracy: 89.06 %\n",
      "Epoch [101 / 250] Loss: 0.3899  Accuracy: 89.06 %\n",
      "Epoch [151 / 250] Loss: 0.3291  Accuracy: 90.62 %\n",
      "Epoch [201 / 250] Loss: 0.2925  Accuracy: 90.62 %\n"
     ]
    },
    {
     "data": {
      "application/vnd.jupyter.widget-view+json": {
       "model_id": "a24e1b1397354839b09e0705ed466ad5",
       "version_major": 2,
       "version_minor": 0
      },
      "text/plain": [
       "epoch:   0%|          | 0/250 [00:00<?, ?it/s]"
      ]
     },
     "metadata": {},
     "output_type": "display_data"
    },
    {
     "name": "stdout",
     "output_type": "stream",
     "text": [
      "Epoch [1 / 250] Loss: 2.1725  Accuracy: 40.62 %\n",
      "Epoch [51 / 250] Loss: 0.4971  Accuracy: 89.06 %\n",
      "Epoch [101 / 250] Loss: 0.3899  Accuracy: 89.06 %\n",
      "Epoch [151 / 250] Loss: 0.3291  Accuracy: 90.62 %\n",
      "Epoch [201 / 250] Loss: 0.2925  Accuracy: 90.62 %\n"
     ]
    },
    {
     "data": {
      "application/vnd.jupyter.widget-view+json": {
       "model_id": "4405fffb302e4bb6b428abb548c075a9",
       "version_major": 2,
       "version_minor": 0
      },
      "text/plain": [
       "epoch:   0%|          | 0/250 [00:00<?, ?it/s]"
      ]
     },
     "metadata": {},
     "output_type": "display_data"
    },
    {
     "name": "stdout",
     "output_type": "stream",
     "text": [
      "Epoch [1 / 250] Loss: 2.1725  Accuracy: 40.62 %\n",
      "Epoch [51 / 250] Loss: 0.4971  Accuracy: 89.06 %\n",
      "Epoch [101 / 250] Loss: 0.3899  Accuracy: 89.06 %\n",
      "Epoch [151 / 250] Loss: 0.3291  Accuracy: 90.62 %\n",
      "Epoch [201 / 250] Loss: 0.2925  Accuracy: 90.62 %\n"
     ]
    },
    {
     "data": {
      "application/vnd.jupyter.widget-view+json": {
       "model_id": "72c4fa9f76664c5ebfe6ae945248d646",
       "version_major": 2,
       "version_minor": 0
      },
      "text/plain": [
       "epoch:   0%|          | 0/250 [00:00<?, ?it/s]"
      ]
     },
     "metadata": {},
     "output_type": "display_data"
    },
    {
     "name": "stdout",
     "output_type": "stream",
     "text": [
      "Epoch [1 / 250] Loss: 2.1725  Accuracy: 40.62 %\n",
      "Epoch [51 / 250] Loss: 0.4971  Accuracy: 89.06 %\n",
      "Epoch [101 / 250] Loss: 0.3899  Accuracy: 89.06 %\n",
      "Epoch [151 / 250] Loss: 0.3291  Accuracy: 90.62 %\n",
      "Epoch [201 / 250] Loss: 0.2925  Accuracy: 90.62 %\n",
      "Network: zeroth_sigmoid, Hidden neurons: 16, Mu: 0.001, N: 1 \n",
      "=========\n"
     ]
    },
    {
     "data": {
      "application/vnd.jupyter.widget-view+json": {
       "model_id": "a058d58eb25e45c7a6aa2106cb0a1651",
       "version_major": 2,
       "version_minor": 0
      },
      "text/plain": [
       "method:   0%|          | 0/4 [00:00<?, ?it/s]"
      ]
     },
     "metadata": {},
     "output_type": "display_data"
    },
    {
     "data": {
      "application/vnd.jupyter.widget-view+json": {
       "model_id": "d24dd6d325bc4daa97fafd9a9814007c",
       "version_major": 2,
       "version_minor": 0
      },
      "text/plain": [
       "epoch:   0%|          | 0/250 [00:00<?, ?it/s]"
      ]
     },
     "metadata": {},
     "output_type": "display_data"
    },
    {
     "name": "stdout",
     "output_type": "stream",
     "text": [
      "Epoch [1 / 250] Loss: 2.2174  Accuracy: 43.75 %\n",
      "Epoch [51 / 250] Loss: 0.3260  Accuracy: 93.75 %\n",
      "Epoch [101 / 250] Loss: 0.2044  Accuracy: 98.44 %\n",
      "Epoch [151 / 250] Loss: 0.1648  Accuracy: 96.88 %\n",
      "Epoch [201 / 250] Loss: 0.1481  Accuracy: 96.88 %\n"
     ]
    },
    {
     "data": {
      "application/vnd.jupyter.widget-view+json": {
       "model_id": "6c4620d0f63d4b8082e9960fa1c4375c",
       "version_major": 2,
       "version_minor": 0
      },
      "text/plain": [
       "epoch:   0%|          | 0/250 [00:00<?, ?it/s]"
      ]
     },
     "metadata": {},
     "output_type": "display_data"
    },
    {
     "name": "stdout",
     "output_type": "stream",
     "text": [
      "Epoch [1 / 250] Loss: 2.2174  Accuracy: 43.75 %\n",
      "Epoch [51 / 250] Loss: 0.3260  Accuracy: 93.75 %\n",
      "Epoch [101 / 250] Loss: 0.2044  Accuracy: 98.44 %\n",
      "Epoch [151 / 250] Loss: 0.1648  Accuracy: 96.88 %\n",
      "Epoch [201 / 250] Loss: 0.1481  Accuracy: 96.88 %\n"
     ]
    },
    {
     "data": {
      "application/vnd.jupyter.widget-view+json": {
       "model_id": "ba6d25c2c42c466cb9e699b5892c025b",
       "version_major": 2,
       "version_minor": 0
      },
      "text/plain": [
       "epoch:   0%|          | 0/250 [00:00<?, ?it/s]"
      ]
     },
     "metadata": {},
     "output_type": "display_data"
    },
    {
     "name": "stdout",
     "output_type": "stream",
     "text": [
      "Epoch [1 / 250] Loss: 2.2174  Accuracy: 43.75 %\n",
      "Epoch [51 / 250] Loss: 0.3260  Accuracy: 93.75 %\n",
      "Epoch [101 / 250] Loss: 0.2044  Accuracy: 98.44 %\n",
      "Epoch [151 / 250] Loss: 0.1648  Accuracy: 96.88 %\n",
      "Epoch [201 / 250] Loss: 0.1481  Accuracy: 96.88 %\n"
     ]
    },
    {
     "data": {
      "application/vnd.jupyter.widget-view+json": {
       "model_id": "36188570e79942838c17e3284e77e71d",
       "version_major": 2,
       "version_minor": 0
      },
      "text/plain": [
       "epoch:   0%|          | 0/250 [00:00<?, ?it/s]"
      ]
     },
     "metadata": {},
     "output_type": "display_data"
    },
    {
     "name": "stdout",
     "output_type": "stream",
     "text": [
      "Epoch [1 / 250] Loss: 2.2174  Accuracy: 43.75 %\n",
      "Epoch [51 / 250] Loss: 0.3260  Accuracy: 93.75 %\n",
      "Epoch [101 / 250] Loss: 0.2044  Accuracy: 98.44 %\n",
      "Epoch [151 / 250] Loss: 0.1648  Accuracy: 96.88 %\n",
      "Epoch [201 / 250] Loss: 0.1481  Accuracy: 96.88 %\n",
      "Network: zeroth_sigmoid, Hidden neurons: 16, Mu: 0.001, N: 5 \n",
      "=========\n"
     ]
    },
    {
     "data": {
      "application/vnd.jupyter.widget-view+json": {
       "model_id": "99db4579d2e94f0ab1bc305a88211381",
       "version_major": 2,
       "version_minor": 0
      },
      "text/plain": [
       "method:   0%|          | 0/4 [00:00<?, ?it/s]"
      ]
     },
     "metadata": {},
     "output_type": "display_data"
    },
    {
     "data": {
      "application/vnd.jupyter.widget-view+json": {
       "model_id": "c9f0e4b7197f4754b5c461ff0f89539d",
       "version_major": 2,
       "version_minor": 0
      },
      "text/plain": [
       "epoch:   0%|          | 0/250 [00:00<?, ?it/s]"
      ]
     },
     "metadata": {},
     "output_type": "display_data"
    },
    {
     "name": "stdout",
     "output_type": "stream",
     "text": [
      "Epoch [1 / 250] Loss: 2.2174  Accuracy: 43.75 %\n",
      "Epoch [51 / 250] Loss: 0.3260  Accuracy: 93.75 %\n",
      "Epoch [101 / 250] Loss: 0.2044  Accuracy: 98.44 %\n",
      "Epoch [151 / 250] Loss: 0.1648  Accuracy: 96.88 %\n",
      "Epoch [201 / 250] Loss: 0.1481  Accuracy: 96.88 %\n"
     ]
    },
    {
     "data": {
      "application/vnd.jupyter.widget-view+json": {
       "model_id": "65fd44165c3e4c2585974c6db2311e89",
       "version_major": 2,
       "version_minor": 0
      },
      "text/plain": [
       "epoch:   0%|          | 0/250 [00:00<?, ?it/s]"
      ]
     },
     "metadata": {},
     "output_type": "display_data"
    },
    {
     "name": "stdout",
     "output_type": "stream",
     "text": [
      "Epoch [1 / 250] Loss: 2.2174  Accuracy: 43.75 %\n",
      "Epoch [51 / 250] Loss: 0.3260  Accuracy: 93.75 %\n",
      "Epoch [101 / 250] Loss: 0.2044  Accuracy: 98.44 %\n",
      "Epoch [151 / 250] Loss: 0.1648  Accuracy: 96.88 %\n",
      "Epoch [201 / 250] Loss: 0.1481  Accuracy: 96.88 %\n"
     ]
    },
    {
     "data": {
      "application/vnd.jupyter.widget-view+json": {
       "model_id": "4feb399543dc44f1b2ed23aeb0a3ba95",
       "version_major": 2,
       "version_minor": 0
      },
      "text/plain": [
       "epoch:   0%|          | 0/250 [00:00<?, ?it/s]"
      ]
     },
     "metadata": {},
     "output_type": "display_data"
    },
    {
     "name": "stdout",
     "output_type": "stream",
     "text": [
      "Epoch [1 / 250] Loss: 2.2174  Accuracy: 43.75 %\n",
      "Epoch [51 / 250] Loss: 0.3260  Accuracy: 93.75 %\n",
      "Epoch [101 / 250] Loss: 0.2044  Accuracy: 98.44 %\n",
      "Epoch [151 / 250] Loss: 0.1648  Accuracy: 96.88 %\n",
      "Epoch [201 / 250] Loss: 0.1481  Accuracy: 96.88 %\n"
     ]
    },
    {
     "data": {
      "application/vnd.jupyter.widget-view+json": {
       "model_id": "fc524a6de95d4d8486816440b2a1cc49",
       "version_major": 2,
       "version_minor": 0
      },
      "text/plain": [
       "epoch:   0%|          | 0/250 [00:00<?, ?it/s]"
      ]
     },
     "metadata": {},
     "output_type": "display_data"
    },
    {
     "name": "stdout",
     "output_type": "stream",
     "text": [
      "Epoch [1 / 250] Loss: 2.2174  Accuracy: 43.75 %\n",
      "Epoch [51 / 250] Loss: 0.3260  Accuracy: 93.75 %\n",
      "Epoch [101 / 250] Loss: 0.2044  Accuracy: 98.44 %\n",
      "Epoch [151 / 250] Loss: 0.1648  Accuracy: 96.88 %\n",
      "Epoch [201 / 250] Loss: 0.1481  Accuracy: 96.88 %\n",
      "Network: zeroth_sigmoid, Hidden neurons: 16, Mu: 0.001, N: 9 \n",
      "=========\n"
     ]
    },
    {
     "data": {
      "application/vnd.jupyter.widget-view+json": {
       "model_id": "c10d529349624b6994384e1849a5f185",
       "version_major": 2,
       "version_minor": 0
      },
      "text/plain": [
       "method:   0%|          | 0/4 [00:00<?, ?it/s]"
      ]
     },
     "metadata": {},
     "output_type": "display_data"
    },
    {
     "data": {
      "application/vnd.jupyter.widget-view+json": {
       "model_id": "bd714e78443f41cb98e714d6d37bf36e",
       "version_major": 2,
       "version_minor": 0
      },
      "text/plain": [
       "epoch:   0%|          | 0/250 [00:00<?, ?it/s]"
      ]
     },
     "metadata": {},
     "output_type": "display_data"
    },
    {
     "name": "stdout",
     "output_type": "stream",
     "text": [
      "Epoch [1 / 250] Loss: 2.2174  Accuracy: 43.75 %\n",
      "Epoch [51 / 250] Loss: 0.3260  Accuracy: 93.75 %\n",
      "Epoch [101 / 250] Loss: 0.2044  Accuracy: 98.44 %\n",
      "Epoch [151 / 250] Loss: 0.1648  Accuracy: 96.88 %\n",
      "Epoch [201 / 250] Loss: 0.1481  Accuracy: 96.88 %\n"
     ]
    },
    {
     "data": {
      "application/vnd.jupyter.widget-view+json": {
       "model_id": "dba7906ae28f439dada6f2003829be7a",
       "version_major": 2,
       "version_minor": 0
      },
      "text/plain": [
       "epoch:   0%|          | 0/250 [00:00<?, ?it/s]"
      ]
     },
     "metadata": {},
     "output_type": "display_data"
    },
    {
     "name": "stdout",
     "output_type": "stream",
     "text": [
      "Epoch [1 / 250] Loss: 2.2174  Accuracy: 43.75 %\n",
      "Epoch [51 / 250] Loss: 0.3260  Accuracy: 93.75 %\n",
      "Epoch [101 / 250] Loss: 0.2044  Accuracy: 98.44 %\n",
      "Epoch [151 / 250] Loss: 0.1648  Accuracy: 96.88 %\n",
      "Epoch [201 / 250] Loss: 0.1481  Accuracy: 96.88 %\n"
     ]
    },
    {
     "data": {
      "application/vnd.jupyter.widget-view+json": {
       "model_id": "eec0581e2e254477b61413ead59b3511",
       "version_major": 2,
       "version_minor": 0
      },
      "text/plain": [
       "epoch:   0%|          | 0/250 [00:00<?, ?it/s]"
      ]
     },
     "metadata": {},
     "output_type": "display_data"
    },
    {
     "name": "stdout",
     "output_type": "stream",
     "text": [
      "Epoch [1 / 250] Loss: 2.2174  Accuracy: 43.75 %\n",
      "Epoch [51 / 250] Loss: 0.3260  Accuracy: 93.75 %\n",
      "Epoch [101 / 250] Loss: 0.2044  Accuracy: 98.44 %\n",
      "Epoch [151 / 250] Loss: 0.1648  Accuracy: 96.88 %\n",
      "Epoch [201 / 250] Loss: 0.1481  Accuracy: 96.88 %\n"
     ]
    },
    {
     "data": {
      "application/vnd.jupyter.widget-view+json": {
       "model_id": "ad659d585cd8498982948f8664ba2095",
       "version_major": 2,
       "version_minor": 0
      },
      "text/plain": [
       "epoch:   0%|          | 0/250 [00:00<?, ?it/s]"
      ]
     },
     "metadata": {},
     "output_type": "display_data"
    },
    {
     "name": "stdout",
     "output_type": "stream",
     "text": [
      "Epoch [1 / 250] Loss: 2.2174  Accuracy: 43.75 %\n",
      "Epoch [51 / 250] Loss: 0.3260  Accuracy: 93.75 %\n",
      "Epoch [101 / 250] Loss: 0.2044  Accuracy: 98.44 %\n",
      "Epoch [151 / 250] Loss: 0.1648  Accuracy: 96.88 %\n",
      "Epoch [201 / 250] Loss: 0.1481  Accuracy: 96.88 %\n",
      "Network: zeroth_sigmoid, Hidden neurons: 16, Mu: 0.01, N: 1 \n",
      "=========\n"
     ]
    },
    {
     "data": {
      "application/vnd.jupyter.widget-view+json": {
       "model_id": "86e0e39843764679b369ffca24d7bc84",
       "version_major": 2,
       "version_minor": 0
      },
      "text/plain": [
       "method:   0%|          | 0/4 [00:00<?, ?it/s]"
      ]
     },
     "metadata": {},
     "output_type": "display_data"
    },
    {
     "data": {
      "application/vnd.jupyter.widget-view+json": {
       "model_id": "86e5e1490d1d4e9992c65fe2d687c970",
       "version_major": 2,
       "version_minor": 0
      },
      "text/plain": [
       "epoch:   0%|          | 0/250 [00:00<?, ?it/s]"
      ]
     },
     "metadata": {},
     "output_type": "display_data"
    },
    {
     "name": "stdout",
     "output_type": "stream",
     "text": [
      "Epoch [1 / 250] Loss: 2.2174  Accuracy: 43.75 %\n",
      "Epoch [51 / 250] Loss: 0.3260  Accuracy: 93.75 %\n",
      "Epoch [101 / 250] Loss: 0.2044  Accuracy: 98.44 %\n",
      "Epoch [151 / 250] Loss: 0.1648  Accuracy: 96.88 %\n",
      "Epoch [201 / 250] Loss: 0.1481  Accuracy: 96.88 %\n"
     ]
    },
    {
     "data": {
      "application/vnd.jupyter.widget-view+json": {
       "model_id": "274114f934f648d9bd77e70d1dc07ce7",
       "version_major": 2,
       "version_minor": 0
      },
      "text/plain": [
       "epoch:   0%|          | 0/250 [00:00<?, ?it/s]"
      ]
     },
     "metadata": {},
     "output_type": "display_data"
    },
    {
     "name": "stdout",
     "output_type": "stream",
     "text": [
      "Epoch [1 / 250] Loss: 2.2174  Accuracy: 43.75 %\n",
      "Epoch [51 / 250] Loss: 0.3260  Accuracy: 93.75 %\n",
      "Epoch [101 / 250] Loss: 0.2044  Accuracy: 98.44 %\n",
      "Epoch [151 / 250] Loss: 0.1648  Accuracy: 96.88 %\n",
      "Epoch [201 / 250] Loss: 0.1481  Accuracy: 96.88 %\n"
     ]
    },
    {
     "data": {
      "application/vnd.jupyter.widget-view+json": {
       "model_id": "a4fce1de07e6470184e6e8085eafe57a",
       "version_major": 2,
       "version_minor": 0
      },
      "text/plain": [
       "epoch:   0%|          | 0/250 [00:00<?, ?it/s]"
      ]
     },
     "metadata": {},
     "output_type": "display_data"
    },
    {
     "name": "stdout",
     "output_type": "stream",
     "text": [
      "Epoch [1 / 250] Loss: 2.2174  Accuracy: 43.75 %\n",
      "Epoch [51 / 250] Loss: 0.3260  Accuracy: 93.75 %\n",
      "Epoch [101 / 250] Loss: 0.2044  Accuracy: 98.44 %\n",
      "Epoch [151 / 250] Loss: 0.1648  Accuracy: 96.88 %\n",
      "Epoch [201 / 250] Loss: 0.1481  Accuracy: 96.88 %\n"
     ]
    },
    {
     "data": {
      "application/vnd.jupyter.widget-view+json": {
       "model_id": "0b8d9e1e7b274c8794d81d703ce0f6c5",
       "version_major": 2,
       "version_minor": 0
      },
      "text/plain": [
       "epoch:   0%|          | 0/250 [00:00<?, ?it/s]"
      ]
     },
     "metadata": {},
     "output_type": "display_data"
    },
    {
     "name": "stdout",
     "output_type": "stream",
     "text": [
      "Epoch [1 / 250] Loss: 2.2174  Accuracy: 43.75 %\n",
      "Epoch [51 / 250] Loss: 0.3260  Accuracy: 93.75 %\n",
      "Epoch [101 / 250] Loss: 0.2044  Accuracy: 98.44 %\n",
      "Epoch [151 / 250] Loss: 0.1648  Accuracy: 96.88 %\n",
      "Epoch [201 / 250] Loss: 0.1481  Accuracy: 96.88 %\n",
      "Network: zeroth_sigmoid, Hidden neurons: 16, Mu: 0.01, N: 5 \n",
      "=========\n"
     ]
    },
    {
     "data": {
      "application/vnd.jupyter.widget-view+json": {
       "model_id": "671cefe29eda42abb924c63a48074ef4",
       "version_major": 2,
       "version_minor": 0
      },
      "text/plain": [
       "method:   0%|          | 0/4 [00:00<?, ?it/s]"
      ]
     },
     "metadata": {},
     "output_type": "display_data"
    },
    {
     "data": {
      "application/vnd.jupyter.widget-view+json": {
       "model_id": "8141cfadbff34a4bae653b4eb121f5ef",
       "version_major": 2,
       "version_minor": 0
      },
      "text/plain": [
       "epoch:   0%|          | 0/250 [00:00<?, ?it/s]"
      ]
     },
     "metadata": {},
     "output_type": "display_data"
    },
    {
     "name": "stdout",
     "output_type": "stream",
     "text": [
      "Epoch [1 / 250] Loss: 2.2174  Accuracy: 43.75 %\n",
      "Epoch [51 / 250] Loss: 0.3260  Accuracy: 93.75 %\n",
      "Epoch [101 / 250] Loss: 0.2044  Accuracy: 98.44 %\n",
      "Epoch [151 / 250] Loss: 0.1648  Accuracy: 96.88 %\n",
      "Epoch [201 / 250] Loss: 0.1481  Accuracy: 96.88 %\n"
     ]
    },
    {
     "data": {
      "application/vnd.jupyter.widget-view+json": {
       "model_id": "b8548457dc6f422baa6e76370c6b0382",
       "version_major": 2,
       "version_minor": 0
      },
      "text/plain": [
       "epoch:   0%|          | 0/250 [00:00<?, ?it/s]"
      ]
     },
     "metadata": {},
     "output_type": "display_data"
    },
    {
     "name": "stdout",
     "output_type": "stream",
     "text": [
      "Epoch [1 / 250] Loss: 2.2174  Accuracy: 43.75 %\n",
      "Epoch [51 / 250] Loss: 0.3260  Accuracy: 93.75 %\n",
      "Epoch [101 / 250] Loss: 0.2044  Accuracy: 98.44 %\n",
      "Epoch [151 / 250] Loss: 0.1648  Accuracy: 96.88 %\n",
      "Epoch [201 / 250] Loss: 0.1481  Accuracy: 96.88 %\n"
     ]
    },
    {
     "data": {
      "application/vnd.jupyter.widget-view+json": {
       "model_id": "132c57f9f68544f39b817fb5f5d469c1",
       "version_major": 2,
       "version_minor": 0
      },
      "text/plain": [
       "epoch:   0%|          | 0/250 [00:00<?, ?it/s]"
      ]
     },
     "metadata": {},
     "output_type": "display_data"
    },
    {
     "name": "stdout",
     "output_type": "stream",
     "text": [
      "Epoch [1 / 250] Loss: 2.2174  Accuracy: 43.75 %\n",
      "Epoch [51 / 250] Loss: 0.3260  Accuracy: 93.75 %\n",
      "Epoch [101 / 250] Loss: 0.2044  Accuracy: 98.44 %\n",
      "Epoch [151 / 250] Loss: 0.1648  Accuracy: 96.88 %\n",
      "Epoch [201 / 250] Loss: 0.1481  Accuracy: 96.88 %\n"
     ]
    },
    {
     "data": {
      "application/vnd.jupyter.widget-view+json": {
       "model_id": "2518233bebb942488dca3664dc7d894f",
       "version_major": 2,
       "version_minor": 0
      },
      "text/plain": [
       "epoch:   0%|          | 0/250 [00:00<?, ?it/s]"
      ]
     },
     "metadata": {},
     "output_type": "display_data"
    },
    {
     "name": "stdout",
     "output_type": "stream",
     "text": [
      "Epoch [1 / 250] Loss: 2.2174  Accuracy: 43.75 %\n",
      "Epoch [51 / 250] Loss: 0.3260  Accuracy: 93.75 %\n",
      "Epoch [101 / 250] Loss: 0.2044  Accuracy: 98.44 %\n",
      "Epoch [151 / 250] Loss: 0.1648  Accuracy: 96.88 %\n",
      "Epoch [201 / 250] Loss: 0.1481  Accuracy: 96.88 %\n",
      "Network: zeroth_sigmoid, Hidden neurons: 16, Mu: 0.01, N: 9 \n",
      "=========\n"
     ]
    },
    {
     "data": {
      "application/vnd.jupyter.widget-view+json": {
       "model_id": "f52faf16341743e58ffca8be923d62fe",
       "version_major": 2,
       "version_minor": 0
      },
      "text/plain": [
       "method:   0%|          | 0/4 [00:00<?, ?it/s]"
      ]
     },
     "metadata": {},
     "output_type": "display_data"
    },
    {
     "data": {
      "application/vnd.jupyter.widget-view+json": {
       "model_id": "a9de81c059ed48568b428c346cac4e83",
       "version_major": 2,
       "version_minor": 0
      },
      "text/plain": [
       "epoch:   0%|          | 0/250 [00:00<?, ?it/s]"
      ]
     },
     "metadata": {},
     "output_type": "display_data"
    },
    {
     "name": "stdout",
     "output_type": "stream",
     "text": [
      "Epoch [1 / 250] Loss: 2.2174  Accuracy: 43.75 %\n",
      "Epoch [51 / 250] Loss: 0.3260  Accuracy: 93.75 %\n",
      "Epoch [101 / 250] Loss: 0.2044  Accuracy: 98.44 %\n",
      "Epoch [151 / 250] Loss: 0.1648  Accuracy: 96.88 %\n",
      "Epoch [201 / 250] Loss: 0.1481  Accuracy: 96.88 %\n"
     ]
    },
    {
     "data": {
      "application/vnd.jupyter.widget-view+json": {
       "model_id": "4e6ef4217172403aa9cdb1b7a87faa66",
       "version_major": 2,
       "version_minor": 0
      },
      "text/plain": [
       "epoch:   0%|          | 0/250 [00:00<?, ?it/s]"
      ]
     },
     "metadata": {},
     "output_type": "display_data"
    },
    {
     "name": "stdout",
     "output_type": "stream",
     "text": [
      "Epoch [1 / 250] Loss: 2.2174  Accuracy: 43.75 %\n",
      "Epoch [51 / 250] Loss: 0.3260  Accuracy: 93.75 %\n",
      "Epoch [101 / 250] Loss: 0.2044  Accuracy: 98.44 %\n",
      "Epoch [151 / 250] Loss: 0.1648  Accuracy: 96.88 %\n",
      "Epoch [201 / 250] Loss: 0.1481  Accuracy: 96.88 %\n"
     ]
    },
    {
     "data": {
      "application/vnd.jupyter.widget-view+json": {
       "model_id": "92cc3053822644d3acb98866723192a7",
       "version_major": 2,
       "version_minor": 0
      },
      "text/plain": [
       "epoch:   0%|          | 0/250 [00:00<?, ?it/s]"
      ]
     },
     "metadata": {},
     "output_type": "display_data"
    },
    {
     "name": "stdout",
     "output_type": "stream",
     "text": [
      "Epoch [1 / 250] Loss: 2.2174  Accuracy: 43.75 %\n",
      "Epoch [51 / 250] Loss: 0.3260  Accuracy: 93.75 %\n",
      "Epoch [101 / 250] Loss: 0.2044  Accuracy: 98.44 %\n",
      "Epoch [151 / 250] Loss: 0.1648  Accuracy: 96.88 %\n",
      "Epoch [201 / 250] Loss: 0.1481  Accuracy: 96.88 %\n"
     ]
    },
    {
     "data": {
      "application/vnd.jupyter.widget-view+json": {
       "model_id": "016bc2ee331f4597b9488606b3d6c76f",
       "version_major": 2,
       "version_minor": 0
      },
      "text/plain": [
       "epoch:   0%|          | 0/250 [00:00<?, ?it/s]"
      ]
     },
     "metadata": {},
     "output_type": "display_data"
    },
    {
     "name": "stdout",
     "output_type": "stream",
     "text": [
      "Epoch [1 / 250] Loss: 2.2174  Accuracy: 43.75 %\n",
      "Epoch [51 / 250] Loss: 0.3260  Accuracy: 93.75 %\n",
      "Epoch [101 / 250] Loss: 0.2044  Accuracy: 98.44 %\n",
      "Epoch [151 / 250] Loss: 0.1648  Accuracy: 96.88 %\n",
      "Epoch [201 / 250] Loss: 0.1481  Accuracy: 96.88 %\n",
      "Network: zeroth_sigmoid, Hidden neurons: 16, Mu: 0.1, N: 1 \n",
      "=========\n"
     ]
    },
    {
     "data": {
      "application/vnd.jupyter.widget-view+json": {
       "model_id": "83271003134545e8bbbd1d98921b1002",
       "version_major": 2,
       "version_minor": 0
      },
      "text/plain": [
       "method:   0%|          | 0/4 [00:00<?, ?it/s]"
      ]
     },
     "metadata": {},
     "output_type": "display_data"
    },
    {
     "data": {
      "application/vnd.jupyter.widget-view+json": {
       "model_id": "2b595277558b4750b53c65a39899ae2f",
       "version_major": 2,
       "version_minor": 0
      },
      "text/plain": [
       "epoch:   0%|          | 0/250 [00:00<?, ?it/s]"
      ]
     },
     "metadata": {},
     "output_type": "display_data"
    },
    {
     "name": "stdout",
     "output_type": "stream",
     "text": [
      "Epoch [1 / 250] Loss: 2.2174  Accuracy: 43.75 %\n",
      "Epoch [51 / 250] Loss: 0.3260  Accuracy: 93.75 %\n",
      "Epoch [101 / 250] Loss: 0.2044  Accuracy: 98.44 %\n",
      "Epoch [151 / 250] Loss: 0.1648  Accuracy: 96.88 %\n",
      "Epoch [201 / 250] Loss: 0.1481  Accuracy: 96.88 %\n"
     ]
    },
    {
     "data": {
      "application/vnd.jupyter.widget-view+json": {
       "model_id": "2e18c878ecfe44f89177bdbe9c466ab9",
       "version_major": 2,
       "version_minor": 0
      },
      "text/plain": [
       "epoch:   0%|          | 0/250 [00:00<?, ?it/s]"
      ]
     },
     "metadata": {},
     "output_type": "display_data"
    },
    {
     "name": "stdout",
     "output_type": "stream",
     "text": [
      "Epoch [1 / 250] Loss: 2.2174  Accuracy: 43.75 %\n",
      "Epoch [51 / 250] Loss: 0.3260  Accuracy: 93.75 %\n",
      "Epoch [101 / 250] Loss: 0.2044  Accuracy: 98.44 %\n",
      "Epoch [151 / 250] Loss: 0.1648  Accuracy: 96.88 %\n",
      "Epoch [201 / 250] Loss: 0.1481  Accuracy: 96.88 %\n"
     ]
    },
    {
     "data": {
      "application/vnd.jupyter.widget-view+json": {
       "model_id": "4dc060f2739141e9af39af1b7b8b177d",
       "version_major": 2,
       "version_minor": 0
      },
      "text/plain": [
       "epoch:   0%|          | 0/250 [00:00<?, ?it/s]"
      ]
     },
     "metadata": {},
     "output_type": "display_data"
    },
    {
     "name": "stdout",
     "output_type": "stream",
     "text": [
      "Epoch [1 / 250] Loss: 2.2174  Accuracy: 43.75 %\n",
      "Epoch [51 / 250] Loss: 0.3260  Accuracy: 93.75 %\n",
      "Epoch [101 / 250] Loss: 0.2044  Accuracy: 98.44 %\n",
      "Epoch [151 / 250] Loss: 0.1648  Accuracy: 96.88 %\n",
      "Epoch [201 / 250] Loss: 0.1481  Accuracy: 96.88 %\n"
     ]
    },
    {
     "data": {
      "application/vnd.jupyter.widget-view+json": {
       "model_id": "05693b6f53934276a81a0f719436ab6a",
       "version_major": 2,
       "version_minor": 0
      },
      "text/plain": [
       "epoch:   0%|          | 0/250 [00:00<?, ?it/s]"
      ]
     },
     "metadata": {},
     "output_type": "display_data"
    },
    {
     "name": "stdout",
     "output_type": "stream",
     "text": [
      "Epoch [1 / 250] Loss: 2.2174  Accuracy: 43.75 %\n",
      "Epoch [51 / 250] Loss: 0.3260  Accuracy: 93.75 %\n",
      "Epoch [101 / 250] Loss: 0.2044  Accuracy: 98.44 %\n",
      "Epoch [151 / 250] Loss: 0.1648  Accuracy: 96.88 %\n",
      "Epoch [201 / 250] Loss: 0.1481  Accuracy: 96.88 %\n",
      "Network: zeroth_sigmoid, Hidden neurons: 16, Mu: 0.1, N: 5 \n",
      "=========\n"
     ]
    },
    {
     "data": {
      "application/vnd.jupyter.widget-view+json": {
       "model_id": "3a832425506d40e19ea2670c260686bf",
       "version_major": 2,
       "version_minor": 0
      },
      "text/plain": [
       "method:   0%|          | 0/4 [00:00<?, ?it/s]"
      ]
     },
     "metadata": {},
     "output_type": "display_data"
    },
    {
     "data": {
      "application/vnd.jupyter.widget-view+json": {
       "model_id": "d71d298866d24c9f8e8986abc0141ec3",
       "version_major": 2,
       "version_minor": 0
      },
      "text/plain": [
       "epoch:   0%|          | 0/250 [00:00<?, ?it/s]"
      ]
     },
     "metadata": {},
     "output_type": "display_data"
    },
    {
     "name": "stdout",
     "output_type": "stream",
     "text": [
      "Epoch [1 / 250] Loss: 2.2174  Accuracy: 43.75 %\n",
      "Epoch [51 / 250] Loss: 0.3260  Accuracy: 93.75 %\n",
      "Epoch [101 / 250] Loss: 0.2044  Accuracy: 98.44 %\n",
      "Epoch [151 / 250] Loss: 0.1648  Accuracy: 96.88 %\n",
      "Epoch [201 / 250] Loss: 0.1481  Accuracy: 96.88 %\n"
     ]
    },
    {
     "data": {
      "application/vnd.jupyter.widget-view+json": {
       "model_id": "50de7a2bc0cb438b96fa2ab7a5e416f5",
       "version_major": 2,
       "version_minor": 0
      },
      "text/plain": [
       "epoch:   0%|          | 0/250 [00:00<?, ?it/s]"
      ]
     },
     "metadata": {},
     "output_type": "display_data"
    },
    {
     "name": "stdout",
     "output_type": "stream",
     "text": [
      "Epoch [1 / 250] Loss: 2.2174  Accuracy: 43.75 %\n",
      "Epoch [51 / 250] Loss: 0.3260  Accuracy: 93.75 %\n",
      "Epoch [101 / 250] Loss: 0.2044  Accuracy: 98.44 %\n",
      "Epoch [151 / 250] Loss: 0.1648  Accuracy: 96.88 %\n",
      "Epoch [201 / 250] Loss: 0.1481  Accuracy: 96.88 %\n"
     ]
    },
    {
     "data": {
      "application/vnd.jupyter.widget-view+json": {
       "model_id": "3f28c70a51d64f0690612556fd1ea6f9",
       "version_major": 2,
       "version_minor": 0
      },
      "text/plain": [
       "epoch:   0%|          | 0/250 [00:00<?, ?it/s]"
      ]
     },
     "metadata": {},
     "output_type": "display_data"
    },
    {
     "name": "stdout",
     "output_type": "stream",
     "text": [
      "Epoch [1 / 250] Loss: 2.2174  Accuracy: 43.75 %\n",
      "Epoch [51 / 250] Loss: 0.3260  Accuracy: 93.75 %\n",
      "Epoch [101 / 250] Loss: 0.2044  Accuracy: 98.44 %\n",
      "Epoch [151 / 250] Loss: 0.1648  Accuracy: 96.88 %\n",
      "Epoch [201 / 250] Loss: 0.1481  Accuracy: 96.88 %\n"
     ]
    },
    {
     "data": {
      "application/vnd.jupyter.widget-view+json": {
       "model_id": "d5330a133edf4f5ab76ace6e6233f020",
       "version_major": 2,
       "version_minor": 0
      },
      "text/plain": [
       "epoch:   0%|          | 0/250 [00:00<?, ?it/s]"
      ]
     },
     "metadata": {},
     "output_type": "display_data"
    },
    {
     "name": "stdout",
     "output_type": "stream",
     "text": [
      "Epoch [1 / 250] Loss: 2.2174  Accuracy: 43.75 %\n",
      "Epoch [51 / 250] Loss: 0.3260  Accuracy: 93.75 %\n",
      "Epoch [101 / 250] Loss: 0.2044  Accuracy: 98.44 %\n",
      "Epoch [151 / 250] Loss: 0.1648  Accuracy: 96.88 %\n",
      "Epoch [201 / 250] Loss: 0.1481  Accuracy: 96.88 %\n",
      "Network: zeroth_sigmoid, Hidden neurons: 16, Mu: 0.1, N: 9 \n",
      "=========\n"
     ]
    },
    {
     "data": {
      "application/vnd.jupyter.widget-view+json": {
       "model_id": "4d0f510ab620434f89fb1f375d557a6b",
       "version_major": 2,
       "version_minor": 0
      },
      "text/plain": [
       "method:   0%|          | 0/4 [00:00<?, ?it/s]"
      ]
     },
     "metadata": {},
     "output_type": "display_data"
    },
    {
     "data": {
      "application/vnd.jupyter.widget-view+json": {
       "model_id": "394be222058c4fcc9d1d04d68f382b03",
       "version_major": 2,
       "version_minor": 0
      },
      "text/plain": [
       "epoch:   0%|          | 0/250 [00:00<?, ?it/s]"
      ]
     },
     "metadata": {},
     "output_type": "display_data"
    },
    {
     "name": "stdout",
     "output_type": "stream",
     "text": [
      "Epoch [1 / 250] Loss: 2.2174  Accuracy: 43.75 %\n",
      "Epoch [51 / 250] Loss: 0.3260  Accuracy: 93.75 %\n",
      "Epoch [101 / 250] Loss: 0.2044  Accuracy: 98.44 %\n",
      "Epoch [151 / 250] Loss: 0.1648  Accuracy: 96.88 %\n",
      "Epoch [201 / 250] Loss: 0.1481  Accuracy: 96.88 %\n"
     ]
    },
    {
     "data": {
      "application/vnd.jupyter.widget-view+json": {
       "model_id": "ab0f3857689a4fcebef51e89896d3cc3",
       "version_major": 2,
       "version_minor": 0
      },
      "text/plain": [
       "epoch:   0%|          | 0/250 [00:00<?, ?it/s]"
      ]
     },
     "metadata": {},
     "output_type": "display_data"
    },
    {
     "name": "stdout",
     "output_type": "stream",
     "text": [
      "Epoch [1 / 250] Loss: 2.2174  Accuracy: 43.75 %\n",
      "Epoch [51 / 250] Loss: 0.3260  Accuracy: 93.75 %\n",
      "Epoch [101 / 250] Loss: 0.2044  Accuracy: 98.44 %\n",
      "Epoch [151 / 250] Loss: 0.1648  Accuracy: 96.88 %\n",
      "Epoch [201 / 250] Loss: 0.1481  Accuracy: 96.88 %\n"
     ]
    },
    {
     "data": {
      "application/vnd.jupyter.widget-view+json": {
       "model_id": "4e907aca5fd04981a9024b98ac270be0",
       "version_major": 2,
       "version_minor": 0
      },
      "text/plain": [
       "epoch:   0%|          | 0/250 [00:00<?, ?it/s]"
      ]
     },
     "metadata": {},
     "output_type": "display_data"
    },
    {
     "name": "stdout",
     "output_type": "stream",
     "text": [
      "Epoch [1 / 250] Loss: 2.2174  Accuracy: 43.75 %\n",
      "Epoch [51 / 250] Loss: 0.3260  Accuracy: 93.75 %\n",
      "Epoch [101 / 250] Loss: 0.2044  Accuracy: 98.44 %\n",
      "Epoch [151 / 250] Loss: 0.1648  Accuracy: 96.88 %\n",
      "Epoch [201 / 250] Loss: 0.1481  Accuracy: 96.88 %\n"
     ]
    },
    {
     "data": {
      "application/vnd.jupyter.widget-view+json": {
       "model_id": "369b71e9461c4a2c949e81fa712d0ef6",
       "version_major": 2,
       "version_minor": 0
      },
      "text/plain": [
       "epoch:   0%|          | 0/250 [00:00<?, ?it/s]"
      ]
     },
     "metadata": {},
     "output_type": "display_data"
    },
    {
     "name": "stdout",
     "output_type": "stream",
     "text": [
      "Epoch [1 / 250] Loss: 2.2174  Accuracy: 43.75 %\n",
      "Epoch [51 / 250] Loss: 0.3260  Accuracy: 93.75 %\n",
      "Epoch [101 / 250] Loss: 0.2044  Accuracy: 98.44 %\n",
      "Epoch [151 / 250] Loss: 0.1648  Accuracy: 96.88 %\n",
      "Epoch [201 / 250] Loss: 0.1481  Accuracy: 96.88 %\n",
      "Network: zeroth_relu, Hidden neurons: 10, Mu: 0.001, N: 1 \n",
      "=========\n"
     ]
    },
    {
     "data": {
      "application/vnd.jupyter.widget-view+json": {
       "model_id": "6699750fb71b48d0a5200939f7dc0113",
       "version_major": 2,
       "version_minor": 0
      },
      "text/plain": [
       "method:   0%|          | 0/4 [00:00<?, ?it/s]"
      ]
     },
     "metadata": {},
     "output_type": "display_data"
    },
    {
     "data": {
      "application/vnd.jupyter.widget-view+json": {
       "model_id": "a509f50cf95c43819fec2654edfbc487",
       "version_major": 2,
       "version_minor": 0
      },
      "text/plain": [
       "epoch:   0%|          | 0/250 [00:00<?, ?it/s]"
      ]
     },
     "metadata": {},
     "output_type": "display_data"
    },
    {
     "name": "stdout",
     "output_type": "stream",
     "text": [
      "Epoch [1 / 250] Loss: nan  Accuracy: 1.56 %\n",
      "Epoch [51 / 250] Loss: nan  Accuracy: 1.56 %\n",
      "Epoch [101 / 250] Loss: nan  Accuracy: 1.56 %\n",
      "Epoch [151 / 250] Loss: nan  Accuracy: 1.56 %\n",
      "Epoch [201 / 250] Loss: nan  Accuracy: 1.56 %\n"
     ]
    },
    {
     "data": {
      "application/vnd.jupyter.widget-view+json": {
       "model_id": "697cc3af9e74479a80f86d4cf2a5c8db",
       "version_major": 2,
       "version_minor": 0
      },
      "text/plain": [
       "epoch:   0%|          | 0/250 [00:00<?, ?it/s]"
      ]
     },
     "metadata": {},
     "output_type": "display_data"
    },
    {
     "name": "stdout",
     "output_type": "stream",
     "text": [
      "Epoch [1 / 250] Loss: 1053432816054214.3750  Accuracy: 4.69 %\n",
      "Epoch [51 / 250] Loss: 1072687181908123.7500  Accuracy: 4.69 %\n",
      "Epoch [101 / 250] Loss: 1072687181908123.7500  Accuracy: 4.69 %\n",
      "Epoch [151 / 250] Loss: 1072687181908123.7500  Accuracy: 4.69 %\n",
      "Epoch [201 / 250] Loss: 1072687181908123.7500  Accuracy: 4.69 %\n"
     ]
    },
    {
     "data": {
      "application/vnd.jupyter.widget-view+json": {
       "model_id": "f11b58cd1e594dc485d1223fc701e3ca",
       "version_major": 2,
       "version_minor": 0
      },
      "text/plain": [
       "epoch:   0%|          | 0/250 [00:00<?, ?it/s]"
      ]
     },
     "metadata": {},
     "output_type": "display_data"
    },
    {
     "name": "stdout",
     "output_type": "stream",
     "text": [
      "Epoch [1 / 250] Loss: 23.3246  Accuracy: 17.19 %\n",
      "Epoch [51 / 250] Loss: 909369223232865.2500  Accuracy: 17.19 %\n",
      "Epoch [101 / 250] Loss: 909369223232865.2500  Accuracy: 17.19 %\n",
      "Epoch [151 / 250] Loss: 909369223232865.2500  Accuracy: 17.19 %\n",
      "Epoch [201 / 250] Loss: 909369223232865.2500  Accuracy: 17.19 %\n"
     ]
    },
    {
     "data": {
      "application/vnd.jupyter.widget-view+json": {
       "model_id": "cabcbba5db63435b89323144361a8ffa",
       "version_major": 2,
       "version_minor": 0
      },
      "text/plain": [
       "epoch:   0%|          | 0/250 [00:00<?, ?it/s]"
      ]
     },
     "metadata": {},
     "output_type": "display_data"
    },
    {
     "name": "stdout",
     "output_type": "stream",
     "text": [
      "Epoch [1 / 250] Loss: 1.7406  Accuracy: 53.12 %\n",
      "Epoch [51 / 250] Loss: 0.3625  Accuracy: 90.62 %\n",
      "Epoch [101 / 250] Loss: 0.3294  Accuracy: 90.62 %\n",
      "Epoch [151 / 250] Loss: 0.3167  Accuracy: 93.75 %\n",
      "Epoch [201 / 250] Loss: 0.3098  Accuracy: 90.62 %\n",
      "Network: zeroth_relu, Hidden neurons: 10, Mu: 0.001, N: 5 \n",
      "=========\n"
     ]
    },
    {
     "data": {
      "application/vnd.jupyter.widget-view+json": {
       "model_id": "43b994b36a874b8a82e551c5fc526a57",
       "version_major": 2,
       "version_minor": 0
      },
      "text/plain": [
       "method:   0%|          | 0/4 [00:00<?, ?it/s]"
      ]
     },
     "metadata": {},
     "output_type": "display_data"
    },
    {
     "data": {
      "application/vnd.jupyter.widget-view+json": {
       "model_id": "69593f7ba92646fc97b152b2f1f6b018",
       "version_major": 2,
       "version_minor": 0
      },
      "text/plain": [
       "epoch:   0%|          | 0/250 [00:00<?, ?it/s]"
      ]
     },
     "metadata": {},
     "output_type": "display_data"
    },
    {
     "name": "stdout",
     "output_type": "stream",
     "text": [
      "Epoch [1 / 250] Loss: 1.7406  Accuracy: 53.12 %\n",
      "Epoch [51 / 250] Loss: 0.3625  Accuracy: 90.62 %\n",
      "Epoch [101 / 250] Loss: 0.3294  Accuracy: 90.62 %\n",
      "Epoch [151 / 250] Loss: 0.3167  Accuracy: 93.75 %\n",
      "Epoch [201 / 250] Loss: 0.3098  Accuracy: 90.62 %\n"
     ]
    },
    {
     "data": {
      "application/vnd.jupyter.widget-view+json": {
       "model_id": "9b94cd6e24e844aa98d73eefddd58a5e",
       "version_major": 2,
       "version_minor": 0
      },
      "text/plain": [
       "epoch:   0%|          | 0/250 [00:00<?, ?it/s]"
      ]
     },
     "metadata": {},
     "output_type": "display_data"
    },
    {
     "name": "stdout",
     "output_type": "stream",
     "text": [
      "Epoch [1 / 250] Loss: 1.7406  Accuracy: 53.12 %\n",
      "Epoch [51 / 250] Loss: 0.3625  Accuracy: 90.62 %\n",
      "Epoch [101 / 250] Loss: 0.3294  Accuracy: 90.62 %\n",
      "Epoch [151 / 250] Loss: 0.3167  Accuracy: 93.75 %\n",
      "Epoch [201 / 250] Loss: 0.3098  Accuracy: 90.62 %\n"
     ]
    },
    {
     "data": {
      "application/vnd.jupyter.widget-view+json": {
       "model_id": "a935c1429010407bbf41c2ba93c86e80",
       "version_major": 2,
       "version_minor": 0
      },
      "text/plain": [
       "epoch:   0%|          | 0/250 [00:00<?, ?it/s]"
      ]
     },
     "metadata": {},
     "output_type": "display_data"
    },
    {
     "name": "stdout",
     "output_type": "stream",
     "text": [
      "Epoch [1 / 250] Loss: 1.7406  Accuracy: 53.12 %\n",
      "Epoch [51 / 250] Loss: 0.3625  Accuracy: 90.62 %\n",
      "Epoch [101 / 250] Loss: 0.3294  Accuracy: 90.62 %\n",
      "Epoch [151 / 250] Loss: 0.3167  Accuracy: 93.75 %\n",
      "Epoch [201 / 250] Loss: 0.3098  Accuracy: 90.62 %\n"
     ]
    },
    {
     "data": {
      "application/vnd.jupyter.widget-view+json": {
       "model_id": "dcc66947955c4a79821250c4d62f4f77",
       "version_major": 2,
       "version_minor": 0
      },
      "text/plain": [
       "epoch:   0%|          | 0/250 [00:00<?, ?it/s]"
      ]
     },
     "metadata": {},
     "output_type": "display_data"
    },
    {
     "name": "stdout",
     "output_type": "stream",
     "text": [
      "Epoch [1 / 250] Loss: 1.7406  Accuracy: 53.12 %\n",
      "Epoch [51 / 250] Loss: 0.3625  Accuracy: 90.62 %\n",
      "Epoch [101 / 250] Loss: 0.3294  Accuracy: 90.62 %\n",
      "Epoch [151 / 250] Loss: 0.3167  Accuracy: 93.75 %\n",
      "Epoch [201 / 250] Loss: 0.3098  Accuracy: 90.62 %\n",
      "Network: zeroth_relu, Hidden neurons: 10, Mu: 0.001, N: 9 \n",
      "=========\n"
     ]
    },
    {
     "data": {
      "application/vnd.jupyter.widget-view+json": {
       "model_id": "77167d7c39aa4aedbbef89a91beb5053",
       "version_major": 2,
       "version_minor": 0
      },
      "text/plain": [
       "method:   0%|          | 0/4 [00:00<?, ?it/s]"
      ]
     },
     "metadata": {},
     "output_type": "display_data"
    },
    {
     "data": {
      "application/vnd.jupyter.widget-view+json": {
       "model_id": "ba59499b0a4946cfa7f9b9860466188e",
       "version_major": 2,
       "version_minor": 0
      },
      "text/plain": [
       "epoch:   0%|          | 0/250 [00:00<?, ?it/s]"
      ]
     },
     "metadata": {},
     "output_type": "display_data"
    },
    {
     "name": "stdout",
     "output_type": "stream",
     "text": [
      "Epoch [1 / 250] Loss: 1.7406  Accuracy: 53.12 %\n",
      "Epoch [51 / 250] Loss: 0.3625  Accuracy: 90.62 %\n",
      "Epoch [101 / 250] Loss: 0.3294  Accuracy: 90.62 %\n",
      "Epoch [151 / 250] Loss: 0.3167  Accuracy: 93.75 %\n",
      "Epoch [201 / 250] Loss: 0.3098  Accuracy: 90.62 %\n"
     ]
    },
    {
     "data": {
      "application/vnd.jupyter.widget-view+json": {
       "model_id": "3fb958d210624281ae6716bc9132e5cf",
       "version_major": 2,
       "version_minor": 0
      },
      "text/plain": [
       "epoch:   0%|          | 0/250 [00:00<?, ?it/s]"
      ]
     },
     "metadata": {},
     "output_type": "display_data"
    },
    {
     "name": "stdout",
     "output_type": "stream",
     "text": [
      "Epoch [1 / 250] Loss: 1.7406  Accuracy: 53.12 %\n",
      "Epoch [51 / 250] Loss: 0.3625  Accuracy: 90.62 %\n",
      "Epoch [101 / 250] Loss: 0.3294  Accuracy: 90.62 %\n",
      "Epoch [151 / 250] Loss: 0.3167  Accuracy: 93.75 %\n",
      "Epoch [201 / 250] Loss: 0.3098  Accuracy: 90.62 %\n"
     ]
    },
    {
     "data": {
      "application/vnd.jupyter.widget-view+json": {
       "model_id": "ab6ccc8153794474939319aa5bdbb7c6",
       "version_major": 2,
       "version_minor": 0
      },
      "text/plain": [
       "epoch:   0%|          | 0/250 [00:00<?, ?it/s]"
      ]
     },
     "metadata": {},
     "output_type": "display_data"
    },
    {
     "name": "stdout",
     "output_type": "stream",
     "text": [
      "Epoch [1 / 250] Loss: 1.7406  Accuracy: 53.12 %\n",
      "Epoch [51 / 250] Loss: 0.3625  Accuracy: 90.62 %\n",
      "Epoch [101 / 250] Loss: 0.3294  Accuracy: 90.62 %\n",
      "Epoch [151 / 250] Loss: 0.3167  Accuracy: 93.75 %\n",
      "Epoch [201 / 250] Loss: 0.3098  Accuracy: 90.62 %\n"
     ]
    },
    {
     "data": {
      "application/vnd.jupyter.widget-view+json": {
       "model_id": "714343450f8148f1b125cc8bd82f681c",
       "version_major": 2,
       "version_minor": 0
      },
      "text/plain": [
       "epoch:   0%|          | 0/250 [00:00<?, ?it/s]"
      ]
     },
     "metadata": {},
     "output_type": "display_data"
    },
    {
     "name": "stdout",
     "output_type": "stream",
     "text": [
      "Epoch [1 / 250] Loss: 1.7406  Accuracy: 53.12 %\n",
      "Epoch [51 / 250] Loss: 0.3625  Accuracy: 90.62 %\n",
      "Epoch [101 / 250] Loss: 0.3294  Accuracy: 90.62 %\n",
      "Epoch [151 / 250] Loss: 0.3167  Accuracy: 93.75 %\n",
      "Epoch [201 / 250] Loss: 0.3098  Accuracy: 90.62 %\n",
      "Network: zeroth_relu, Hidden neurons: 10, Mu: 0.01, N: 1 \n",
      "=========\n"
     ]
    },
    {
     "data": {
      "application/vnd.jupyter.widget-view+json": {
       "model_id": "ea7099c6d70b44a98e3dacd73dc4cc7f",
       "version_major": 2,
       "version_minor": 0
      },
      "text/plain": [
       "method:   0%|          | 0/4 [00:00<?, ?it/s]"
      ]
     },
     "metadata": {},
     "output_type": "display_data"
    },
    {
     "data": {
      "application/vnd.jupyter.widget-view+json": {
       "model_id": "0715a61c338c45449e46c3d98be0118c",
       "version_major": 2,
       "version_minor": 0
      },
      "text/plain": [
       "epoch:   0%|          | 0/250 [00:00<?, ?it/s]"
      ]
     },
     "metadata": {},
     "output_type": "display_data"
    },
    {
     "name": "stdout",
     "output_type": "stream",
     "text": [
      "Epoch [1 / 250] Loss: 1.7406  Accuracy: 53.12 %\n",
      "Epoch [51 / 250] Loss: 0.3625  Accuracy: 90.62 %\n",
      "Epoch [101 / 250] Loss: 0.3294  Accuracy: 90.62 %\n",
      "Epoch [151 / 250] Loss: 0.3167  Accuracy: 93.75 %\n",
      "Epoch [201 / 250] Loss: 0.3098  Accuracy: 90.62 %\n"
     ]
    },
    {
     "data": {
      "application/vnd.jupyter.widget-view+json": {
       "model_id": "87805e572a2f48c08f5a3b9c25fd47e8",
       "version_major": 2,
       "version_minor": 0
      },
      "text/plain": [
       "epoch:   0%|          | 0/250 [00:00<?, ?it/s]"
      ]
     },
     "metadata": {},
     "output_type": "display_data"
    },
    {
     "name": "stdout",
     "output_type": "stream",
     "text": [
      "Epoch [1 / 250] Loss: 1.7406  Accuracy: 53.12 %\n",
      "Epoch [51 / 250] Loss: 0.3625  Accuracy: 90.62 %\n",
      "Epoch [101 / 250] Loss: 0.3294  Accuracy: 90.62 %\n",
      "Epoch [151 / 250] Loss: 0.3167  Accuracy: 93.75 %\n",
      "Epoch [201 / 250] Loss: 0.3098  Accuracy: 90.62 %\n"
     ]
    },
    {
     "data": {
      "application/vnd.jupyter.widget-view+json": {
       "model_id": "48085e38123844fd96c23a9e7d41512e",
       "version_major": 2,
       "version_minor": 0
      },
      "text/plain": [
       "epoch:   0%|          | 0/250 [00:00<?, ?it/s]"
      ]
     },
     "metadata": {},
     "output_type": "display_data"
    },
    {
     "name": "stdout",
     "output_type": "stream",
     "text": [
      "Epoch [1 / 250] Loss: 1.7406  Accuracy: 53.12 %\n",
      "Epoch [51 / 250] Loss: 0.3625  Accuracy: 90.62 %\n",
      "Epoch [101 / 250] Loss: 0.3294  Accuracy: 90.62 %\n",
      "Epoch [151 / 250] Loss: 0.3167  Accuracy: 93.75 %\n",
      "Epoch [201 / 250] Loss: 0.3098  Accuracy: 90.62 %\n"
     ]
    },
    {
     "data": {
      "application/vnd.jupyter.widget-view+json": {
       "model_id": "89fd3344b61b4d7f86445ee52f7f1ac6",
       "version_major": 2,
       "version_minor": 0
      },
      "text/plain": [
       "epoch:   0%|          | 0/250 [00:00<?, ?it/s]"
      ]
     },
     "metadata": {},
     "output_type": "display_data"
    },
    {
     "name": "stdout",
     "output_type": "stream",
     "text": [
      "Epoch [1 / 250] Loss: 1.7406  Accuracy: 53.12 %\n",
      "Epoch [51 / 250] Loss: 0.3625  Accuracy: 90.62 %\n",
      "Epoch [101 / 250] Loss: 0.3294  Accuracy: 90.62 %\n",
      "Epoch [151 / 250] Loss: 0.3167  Accuracy: 93.75 %\n",
      "Epoch [201 / 250] Loss: 0.3098  Accuracy: 90.62 %\n",
      "Network: zeroth_relu, Hidden neurons: 10, Mu: 0.01, N: 5 \n",
      "=========\n"
     ]
    },
    {
     "data": {
      "application/vnd.jupyter.widget-view+json": {
       "model_id": "edd51345a5e3402f812263cf0fb29983",
       "version_major": 2,
       "version_minor": 0
      },
      "text/plain": [
       "method:   0%|          | 0/4 [00:00<?, ?it/s]"
      ]
     },
     "metadata": {},
     "output_type": "display_data"
    },
    {
     "data": {
      "application/vnd.jupyter.widget-view+json": {
       "model_id": "4b22e633d6574c798dda8bab47e5787d",
       "version_major": 2,
       "version_minor": 0
      },
      "text/plain": [
       "epoch:   0%|          | 0/250 [00:00<?, ?it/s]"
      ]
     },
     "metadata": {},
     "output_type": "display_data"
    },
    {
     "name": "stdout",
     "output_type": "stream",
     "text": [
      "Epoch [1 / 250] Loss: 1.7406  Accuracy: 53.12 %\n",
      "Epoch [51 / 250] Loss: 0.3625  Accuracy: 90.62 %\n",
      "Epoch [101 / 250] Loss: 0.3294  Accuracy: 90.62 %\n",
      "Epoch [151 / 250] Loss: 0.3167  Accuracy: 93.75 %\n",
      "Epoch [201 / 250] Loss: 0.3098  Accuracy: 90.62 %\n"
     ]
    },
    {
     "data": {
      "application/vnd.jupyter.widget-view+json": {
       "model_id": "1faf8fac924349d7ab6c1be21908998c",
       "version_major": 2,
       "version_minor": 0
      },
      "text/plain": [
       "epoch:   0%|          | 0/250 [00:00<?, ?it/s]"
      ]
     },
     "metadata": {},
     "output_type": "display_data"
    },
    {
     "name": "stdout",
     "output_type": "stream",
     "text": [
      "Epoch [1 / 250] Loss: 1.7406  Accuracy: 53.12 %\n",
      "Epoch [51 / 250] Loss: 0.3625  Accuracy: 90.62 %\n",
      "Epoch [101 / 250] Loss: 0.3294  Accuracy: 90.62 %\n",
      "Epoch [151 / 250] Loss: 0.3167  Accuracy: 93.75 %\n",
      "Epoch [201 / 250] Loss: 0.3098  Accuracy: 90.62 %\n"
     ]
    },
    {
     "data": {
      "application/vnd.jupyter.widget-view+json": {
       "model_id": "3dd78a1f897e4ce58790367af28580f1",
       "version_major": 2,
       "version_minor": 0
      },
      "text/plain": [
       "epoch:   0%|          | 0/250 [00:00<?, ?it/s]"
      ]
     },
     "metadata": {},
     "output_type": "display_data"
    },
    {
     "name": "stdout",
     "output_type": "stream",
     "text": [
      "Epoch [1 / 250] Loss: 1.7406  Accuracy: 53.12 %\n",
      "Epoch [51 / 250] Loss: 0.3625  Accuracy: 90.62 %\n",
      "Epoch [101 / 250] Loss: 0.3294  Accuracy: 90.62 %\n",
      "Epoch [151 / 250] Loss: 0.3167  Accuracy: 93.75 %\n",
      "Epoch [201 / 250] Loss: 0.3098  Accuracy: 90.62 %\n"
     ]
    },
    {
     "data": {
      "application/vnd.jupyter.widget-view+json": {
       "model_id": "5f7fb7a7712e4fe2862fae4ed50776f6",
       "version_major": 2,
       "version_minor": 0
      },
      "text/plain": [
       "epoch:   0%|          | 0/250 [00:00<?, ?it/s]"
      ]
     },
     "metadata": {},
     "output_type": "display_data"
    },
    {
     "name": "stdout",
     "output_type": "stream",
     "text": [
      "Epoch [1 / 250] Loss: 1.7406  Accuracy: 53.12 %\n",
      "Epoch [51 / 250] Loss: 0.3625  Accuracy: 90.62 %\n",
      "Epoch [101 / 250] Loss: 0.3294  Accuracy: 90.62 %\n",
      "Epoch [151 / 250] Loss: 0.3167  Accuracy: 93.75 %\n",
      "Epoch [201 / 250] Loss: 0.3098  Accuracy: 90.62 %\n",
      "Network: zeroth_relu, Hidden neurons: 10, Mu: 0.01, N: 9 \n",
      "=========\n"
     ]
    },
    {
     "data": {
      "application/vnd.jupyter.widget-view+json": {
       "model_id": "c6bc7b65dc2444ba8034a7b1b351ed2b",
       "version_major": 2,
       "version_minor": 0
      },
      "text/plain": [
       "method:   0%|          | 0/4 [00:00<?, ?it/s]"
      ]
     },
     "metadata": {},
     "output_type": "display_data"
    },
    {
     "data": {
      "application/vnd.jupyter.widget-view+json": {
       "model_id": "45f1ebec82f4472290d7397390aa78db",
       "version_major": 2,
       "version_minor": 0
      },
      "text/plain": [
       "epoch:   0%|          | 0/250 [00:00<?, ?it/s]"
      ]
     },
     "metadata": {},
     "output_type": "display_data"
    },
    {
     "name": "stdout",
     "output_type": "stream",
     "text": [
      "Epoch [1 / 250] Loss: 1.7406  Accuracy: 53.12 %\n",
      "Epoch [51 / 250] Loss: 0.3625  Accuracy: 90.62 %\n",
      "Epoch [101 / 250] Loss: 0.3294  Accuracy: 90.62 %\n",
      "Epoch [151 / 250] Loss: 0.3167  Accuracy: 93.75 %\n",
      "Epoch [201 / 250] Loss: 0.3098  Accuracy: 90.62 %\n"
     ]
    },
    {
     "data": {
      "application/vnd.jupyter.widget-view+json": {
       "model_id": "3f4225ce1fad4a06874cc796e6f368c2",
       "version_major": 2,
       "version_minor": 0
      },
      "text/plain": [
       "epoch:   0%|          | 0/250 [00:00<?, ?it/s]"
      ]
     },
     "metadata": {},
     "output_type": "display_data"
    },
    {
     "name": "stdout",
     "output_type": "stream",
     "text": [
      "Epoch [1 / 250] Loss: 1.7406  Accuracy: 53.12 %\n",
      "Epoch [51 / 250] Loss: 0.3625  Accuracy: 90.62 %\n",
      "Epoch [101 / 250] Loss: 0.3294  Accuracy: 90.62 %\n",
      "Epoch [151 / 250] Loss: 0.3167  Accuracy: 93.75 %\n",
      "Epoch [201 / 250] Loss: 0.3098  Accuracy: 90.62 %\n"
     ]
    },
    {
     "data": {
      "application/vnd.jupyter.widget-view+json": {
       "model_id": "457d884bd87c43f2b93ac556f9aa845f",
       "version_major": 2,
       "version_minor": 0
      },
      "text/plain": [
       "epoch:   0%|          | 0/250 [00:00<?, ?it/s]"
      ]
     },
     "metadata": {},
     "output_type": "display_data"
    },
    {
     "name": "stdout",
     "output_type": "stream",
     "text": [
      "Epoch [1 / 250] Loss: 1.7406  Accuracy: 53.12 %\n",
      "Epoch [51 / 250] Loss: 0.3625  Accuracy: 90.62 %\n",
      "Epoch [101 / 250] Loss: 0.3294  Accuracy: 90.62 %\n",
      "Epoch [151 / 250] Loss: 0.3167  Accuracy: 93.75 %\n",
      "Epoch [201 / 250] Loss: 0.3098  Accuracy: 90.62 %\n"
     ]
    },
    {
     "data": {
      "application/vnd.jupyter.widget-view+json": {
       "model_id": "1dca01409163478db51b23d41d938426",
       "version_major": 2,
       "version_minor": 0
      },
      "text/plain": [
       "epoch:   0%|          | 0/250 [00:00<?, ?it/s]"
      ]
     },
     "metadata": {},
     "output_type": "display_data"
    },
    {
     "name": "stdout",
     "output_type": "stream",
     "text": [
      "Epoch [1 / 250] Loss: 1.7406  Accuracy: 53.12 %\n",
      "Epoch [51 / 250] Loss: 0.3625  Accuracy: 90.62 %\n",
      "Epoch [101 / 250] Loss: 0.3294  Accuracy: 90.62 %\n",
      "Epoch [151 / 250] Loss: 0.3167  Accuracy: 93.75 %\n",
      "Epoch [201 / 250] Loss: 0.3098  Accuracy: 90.62 %\n",
      "Network: zeroth_relu, Hidden neurons: 10, Mu: 0.1, N: 1 \n",
      "=========\n"
     ]
    },
    {
     "data": {
      "application/vnd.jupyter.widget-view+json": {
       "model_id": "27c5ebfd83e94a19b0bfdc55a3dc46c4",
       "version_major": 2,
       "version_minor": 0
      },
      "text/plain": [
       "method:   0%|          | 0/4 [00:00<?, ?it/s]"
      ]
     },
     "metadata": {},
     "output_type": "display_data"
    },
    {
     "data": {
      "application/vnd.jupyter.widget-view+json": {
       "model_id": "b24ad9e3147849b6b26f301442ffe23e",
       "version_major": 2,
       "version_minor": 0
      },
      "text/plain": [
       "epoch:   0%|          | 0/250 [00:00<?, ?it/s]"
      ]
     },
     "metadata": {},
     "output_type": "display_data"
    },
    {
     "name": "stdout",
     "output_type": "stream",
     "text": [
      "Epoch [1 / 250] Loss: 1.7406  Accuracy: 53.12 %\n",
      "Epoch [51 / 250] Loss: 0.3625  Accuracy: 90.62 %\n",
      "Epoch [101 / 250] Loss: 0.3294  Accuracy: 90.62 %\n",
      "Epoch [151 / 250] Loss: 0.3167  Accuracy: 93.75 %\n",
      "Epoch [201 / 250] Loss: 0.3098  Accuracy: 90.62 %\n"
     ]
    },
    {
     "data": {
      "application/vnd.jupyter.widget-view+json": {
       "model_id": "88aafa57c92e4f79bb9446e1cf1157b2",
       "version_major": 2,
       "version_minor": 0
      },
      "text/plain": [
       "epoch:   0%|          | 0/250 [00:00<?, ?it/s]"
      ]
     },
     "metadata": {},
     "output_type": "display_data"
    },
    {
     "name": "stdout",
     "output_type": "stream",
     "text": [
      "Epoch [1 / 250] Loss: 1.7406  Accuracy: 53.12 %\n",
      "Epoch [51 / 250] Loss: 0.3625  Accuracy: 90.62 %\n",
      "Epoch [101 / 250] Loss: 0.3294  Accuracy: 90.62 %\n",
      "Epoch [151 / 250] Loss: 0.3167  Accuracy: 93.75 %\n",
      "Epoch [201 / 250] Loss: 0.3098  Accuracy: 90.62 %\n"
     ]
    },
    {
     "data": {
      "application/vnd.jupyter.widget-view+json": {
       "model_id": "d112c2771f9d4bb8b53d83cc744c83e8",
       "version_major": 2,
       "version_minor": 0
      },
      "text/plain": [
       "epoch:   0%|          | 0/250 [00:00<?, ?it/s]"
      ]
     },
     "metadata": {},
     "output_type": "display_data"
    },
    {
     "name": "stdout",
     "output_type": "stream",
     "text": [
      "Epoch [1 / 250] Loss: 1.7406  Accuracy: 53.12 %\n",
      "Epoch [51 / 250] Loss: 0.3625  Accuracy: 90.62 %\n",
      "Epoch [101 / 250] Loss: 0.3294  Accuracy: 90.62 %\n",
      "Epoch [151 / 250] Loss: 0.3167  Accuracy: 93.75 %\n",
      "Epoch [201 / 250] Loss: 0.3098  Accuracy: 90.62 %\n"
     ]
    },
    {
     "data": {
      "application/vnd.jupyter.widget-view+json": {
       "model_id": "1019ab8c0dcc4dc6ad53aff99125122d",
       "version_major": 2,
       "version_minor": 0
      },
      "text/plain": [
       "epoch:   0%|          | 0/250 [00:00<?, ?it/s]"
      ]
     },
     "metadata": {},
     "output_type": "display_data"
    },
    {
     "name": "stdout",
     "output_type": "stream",
     "text": [
      "Epoch [1 / 250] Loss: 1.7406  Accuracy: 53.12 %\n",
      "Epoch [51 / 250] Loss: 0.3625  Accuracy: 90.62 %\n",
      "Epoch [101 / 250] Loss: 0.3294  Accuracy: 90.62 %\n",
      "Epoch [151 / 250] Loss: 0.3167  Accuracy: 93.75 %\n",
      "Epoch [201 / 250] Loss: 0.3098  Accuracy: 90.62 %\n",
      "Network: zeroth_relu, Hidden neurons: 10, Mu: 0.1, N: 5 \n",
      "=========\n"
     ]
    },
    {
     "data": {
      "application/vnd.jupyter.widget-view+json": {
       "model_id": "a631fb0e1d924d6b844cf0325e7c64c3",
       "version_major": 2,
       "version_minor": 0
      },
      "text/plain": [
       "method:   0%|          | 0/4 [00:00<?, ?it/s]"
      ]
     },
     "metadata": {},
     "output_type": "display_data"
    },
    {
     "data": {
      "application/vnd.jupyter.widget-view+json": {
       "model_id": "de925d96f6c44df7b79aa557de28fc70",
       "version_major": 2,
       "version_minor": 0
      },
      "text/plain": [
       "epoch:   0%|          | 0/250 [00:00<?, ?it/s]"
      ]
     },
     "metadata": {},
     "output_type": "display_data"
    },
    {
     "name": "stdout",
     "output_type": "stream",
     "text": [
      "Epoch [1 / 250] Loss: 1.7406  Accuracy: 53.12 %\n",
      "Epoch [51 / 250] Loss: 0.3625  Accuracy: 90.62 %\n",
      "Epoch [101 / 250] Loss: 0.3294  Accuracy: 90.62 %\n",
      "Epoch [151 / 250] Loss: 0.3167  Accuracy: 93.75 %\n",
      "Epoch [201 / 250] Loss: 0.3098  Accuracy: 90.62 %\n"
     ]
    },
    {
     "data": {
      "application/vnd.jupyter.widget-view+json": {
       "model_id": "b8a6b440a4f2483a9fb6fb03803dcf30",
       "version_major": 2,
       "version_minor": 0
      },
      "text/plain": [
       "epoch:   0%|          | 0/250 [00:00<?, ?it/s]"
      ]
     },
     "metadata": {},
     "output_type": "display_data"
    },
    {
     "name": "stdout",
     "output_type": "stream",
     "text": [
      "Epoch [1 / 250] Loss: 1.7406  Accuracy: 53.12 %\n",
      "Epoch [51 / 250] Loss: 0.3625  Accuracy: 90.62 %\n",
      "Epoch [101 / 250] Loss: 0.3294  Accuracy: 90.62 %\n",
      "Epoch [151 / 250] Loss: 0.3167  Accuracy: 93.75 %\n",
      "Epoch [201 / 250] Loss: 0.3098  Accuracy: 90.62 %\n"
     ]
    },
    {
     "data": {
      "application/vnd.jupyter.widget-view+json": {
       "model_id": "9a54c1c945b94b7bbdf271b9c3932b6c",
       "version_major": 2,
       "version_minor": 0
      },
      "text/plain": [
       "epoch:   0%|          | 0/250 [00:00<?, ?it/s]"
      ]
     },
     "metadata": {},
     "output_type": "display_data"
    },
    {
     "name": "stdout",
     "output_type": "stream",
     "text": [
      "Epoch [1 / 250] Loss: 1.7406  Accuracy: 53.12 %\n",
      "Epoch [51 / 250] Loss: 0.3625  Accuracy: 90.62 %\n",
      "Epoch [101 / 250] Loss: 0.3294  Accuracy: 90.62 %\n",
      "Epoch [151 / 250] Loss: 0.3167  Accuracy: 93.75 %\n",
      "Epoch [201 / 250] Loss: 0.3098  Accuracy: 90.62 %\n"
     ]
    },
    {
     "data": {
      "application/vnd.jupyter.widget-view+json": {
       "model_id": "154d9880e5ac4c8cbfe0854c7db9b8a0",
       "version_major": 2,
       "version_minor": 0
      },
      "text/plain": [
       "epoch:   0%|          | 0/250 [00:00<?, ?it/s]"
      ]
     },
     "metadata": {},
     "output_type": "display_data"
    },
    {
     "name": "stdout",
     "output_type": "stream",
     "text": [
      "Epoch [1 / 250] Loss: 1.7406  Accuracy: 53.12 %\n",
      "Epoch [51 / 250] Loss: 0.3625  Accuracy: 90.62 %\n",
      "Epoch [101 / 250] Loss: 0.3294  Accuracy: 90.62 %\n",
      "Epoch [151 / 250] Loss: 0.3167  Accuracy: 93.75 %\n",
      "Epoch [201 / 250] Loss: 0.3098  Accuracy: 90.62 %\n",
      "Network: zeroth_relu, Hidden neurons: 10, Mu: 0.1, N: 9 \n",
      "=========\n"
     ]
    },
    {
     "data": {
      "application/vnd.jupyter.widget-view+json": {
       "model_id": "efe7aea9140d4478ae7b8a17388153a5",
       "version_major": 2,
       "version_minor": 0
      },
      "text/plain": [
       "method:   0%|          | 0/4 [00:00<?, ?it/s]"
      ]
     },
     "metadata": {},
     "output_type": "display_data"
    },
    {
     "data": {
      "application/vnd.jupyter.widget-view+json": {
       "model_id": "1422b9276bea41d29fffbbd6da00c7c3",
       "version_major": 2,
       "version_minor": 0
      },
      "text/plain": [
       "epoch:   0%|          | 0/250 [00:00<?, ?it/s]"
      ]
     },
     "metadata": {},
     "output_type": "display_data"
    },
    {
     "name": "stdout",
     "output_type": "stream",
     "text": [
      "Epoch [1 / 250] Loss: 1.7406  Accuracy: 53.12 %\n",
      "Epoch [51 / 250] Loss: 0.3625  Accuracy: 90.62 %\n",
      "Epoch [101 / 250] Loss: 0.3294  Accuracy: 90.62 %\n",
      "Epoch [151 / 250] Loss: 0.3167  Accuracy: 93.75 %\n",
      "Epoch [201 / 250] Loss: 0.3098  Accuracy: 90.62 %\n"
     ]
    },
    {
     "data": {
      "application/vnd.jupyter.widget-view+json": {
       "model_id": "c3e075d062b8460d8161c775bb7a6cdf",
       "version_major": 2,
       "version_minor": 0
      },
      "text/plain": [
       "epoch:   0%|          | 0/250 [00:00<?, ?it/s]"
      ]
     },
     "metadata": {},
     "output_type": "display_data"
    },
    {
     "name": "stdout",
     "output_type": "stream",
     "text": [
      "Epoch [1 / 250] Loss: 1.7406  Accuracy: 53.12 %\n",
      "Epoch [51 / 250] Loss: 0.3625  Accuracy: 90.62 %\n",
      "Epoch [101 / 250] Loss: 0.3294  Accuracy: 90.62 %\n",
      "Epoch [151 / 250] Loss: 0.3167  Accuracy: 93.75 %\n",
      "Epoch [201 / 250] Loss: 0.3098  Accuracy: 90.62 %\n"
     ]
    },
    {
     "data": {
      "application/vnd.jupyter.widget-view+json": {
       "model_id": "5f947704716845c28ac9cbcc8e95238c",
       "version_major": 2,
       "version_minor": 0
      },
      "text/plain": [
       "epoch:   0%|          | 0/250 [00:00<?, ?it/s]"
      ]
     },
     "metadata": {},
     "output_type": "display_data"
    },
    {
     "name": "stdout",
     "output_type": "stream",
     "text": [
      "Epoch [1 / 250] Loss: 1.7406  Accuracy: 53.12 %\n",
      "Epoch [51 / 250] Loss: 0.3625  Accuracy: 90.62 %\n",
      "Epoch [101 / 250] Loss: 0.3294  Accuracy: 90.62 %\n",
      "Epoch [151 / 250] Loss: 0.3167  Accuracy: 93.75 %\n",
      "Epoch [201 / 250] Loss: 0.3098  Accuracy: 90.62 %\n"
     ]
    },
    {
     "data": {
      "application/vnd.jupyter.widget-view+json": {
       "model_id": "cb7998be148f4aaeb78c87d12034732b",
       "version_major": 2,
       "version_minor": 0
      },
      "text/plain": [
       "epoch:   0%|          | 0/250 [00:00<?, ?it/s]"
      ]
     },
     "metadata": {},
     "output_type": "display_data"
    },
    {
     "name": "stdout",
     "output_type": "stream",
     "text": [
      "Epoch [1 / 250] Loss: 1.7406  Accuracy: 53.12 %\n",
      "Epoch [51 / 250] Loss: 0.3625  Accuracy: 90.62 %\n",
      "Epoch [101 / 250] Loss: 0.3294  Accuracy: 90.62 %\n",
      "Epoch [151 / 250] Loss: 0.3167  Accuracy: 93.75 %\n",
      "Epoch [201 / 250] Loss: 0.3098  Accuracy: 90.62 %\n",
      "Network: zeroth_relu, Hidden neurons: 16, Mu: 0.001, N: 1 \n",
      "=========\n"
     ]
    },
    {
     "data": {
      "application/vnd.jupyter.widget-view+json": {
       "model_id": "e00ddf4f110944fda661f68231f61809",
       "version_major": 2,
       "version_minor": 0
      },
      "text/plain": [
       "method:   0%|          | 0/4 [00:00<?, ?it/s]"
      ]
     },
     "metadata": {},
     "output_type": "display_data"
    },
    {
     "data": {
      "application/vnd.jupyter.widget-view+json": {
       "model_id": "001601a7b81b497eb97bd7edd83a8375",
       "version_major": 2,
       "version_minor": 0
      },
      "text/plain": [
       "epoch:   0%|          | 0/250 [00:00<?, ?it/s]"
      ]
     },
     "metadata": {},
     "output_type": "display_data"
    },
    {
     "name": "stdout",
     "output_type": "stream",
     "text": [
      "Epoch [1 / 250] Loss: 1.8129  Accuracy: 54.69 %\n",
      "Epoch [51 / 250] Loss: 0.1803  Accuracy: 96.88 %\n",
      "Epoch [101 / 250] Loss: 0.1415  Accuracy: 100.00 %\n",
      "Epoch [151 / 250] Loss: 0.1238  Accuracy: 100.00 %\n",
      "Epoch [201 / 250] Loss: 0.1105  Accuracy: 96.88 %\n"
     ]
    },
    {
     "data": {
      "application/vnd.jupyter.widget-view+json": {
       "model_id": "f0761a9d31f8407bb29614dd0f4dc7b9",
       "version_major": 2,
       "version_minor": 0
      },
      "text/plain": [
       "epoch:   0%|          | 0/250 [00:00<?, ?it/s]"
      ]
     },
     "metadata": {},
     "output_type": "display_data"
    },
    {
     "name": "stdout",
     "output_type": "stream",
     "text": [
      "Epoch [1 / 250] Loss: 1.8129  Accuracy: 54.69 %\n",
      "Epoch [51 / 250] Loss: 0.1803  Accuracy: 96.88 %\n",
      "Epoch [101 / 250] Loss: 0.1415  Accuracy: 100.00 %\n",
      "Epoch [151 / 250] Loss: 0.1238  Accuracy: 100.00 %\n",
      "Epoch [201 / 250] Loss: 0.1105  Accuracy: 96.88 %\n"
     ]
    },
    {
     "data": {
      "application/vnd.jupyter.widget-view+json": {
       "model_id": "d11862e7baf0414eb0a0835497eaa474",
       "version_major": 2,
       "version_minor": 0
      },
      "text/plain": [
       "epoch:   0%|          | 0/250 [00:00<?, ?it/s]"
      ]
     },
     "metadata": {},
     "output_type": "display_data"
    },
    {
     "name": "stdout",
     "output_type": "stream",
     "text": [
      "Epoch [1 / 250] Loss: 1.8129  Accuracy: 54.69 %\n",
      "Epoch [51 / 250] Loss: 0.1803  Accuracy: 96.88 %\n",
      "Epoch [101 / 250] Loss: 0.1415  Accuracy: 100.00 %\n",
      "Epoch [151 / 250] Loss: 0.1238  Accuracy: 100.00 %\n",
      "Epoch [201 / 250] Loss: 0.1105  Accuracy: 96.88 %\n"
     ]
    },
    {
     "data": {
      "application/vnd.jupyter.widget-view+json": {
       "model_id": "9a5401941fb24e43b0f4113f3d4c0f85",
       "version_major": 2,
       "version_minor": 0
      },
      "text/plain": [
       "epoch:   0%|          | 0/250 [00:00<?, ?it/s]"
      ]
     },
     "metadata": {},
     "output_type": "display_data"
    },
    {
     "name": "stdout",
     "output_type": "stream",
     "text": [
      "Epoch [1 / 250] Loss: 1.8129  Accuracy: 54.69 %\n",
      "Epoch [51 / 250] Loss: 0.1803  Accuracy: 96.88 %\n",
      "Epoch [101 / 250] Loss: 0.1415  Accuracy: 100.00 %\n",
      "Epoch [151 / 250] Loss: 0.1238  Accuracy: 100.00 %\n",
      "Epoch [201 / 250] Loss: 0.1105  Accuracy: 96.88 %\n",
      "Network: zeroth_relu, Hidden neurons: 16, Mu: 0.001, N: 5 \n",
      "=========\n"
     ]
    },
    {
     "data": {
      "application/vnd.jupyter.widget-view+json": {
       "model_id": "16093aff3c254e2eb7ac8f9d6f43a25b",
       "version_major": 2,
       "version_minor": 0
      },
      "text/plain": [
       "method:   0%|          | 0/4 [00:00<?, ?it/s]"
      ]
     },
     "metadata": {},
     "output_type": "display_data"
    },
    {
     "data": {
      "application/vnd.jupyter.widget-view+json": {
       "model_id": "9ca0913e36eb459280cf6d3fa3539e7e",
       "version_major": 2,
       "version_minor": 0
      },
      "text/plain": [
       "epoch:   0%|          | 0/250 [00:00<?, ?it/s]"
      ]
     },
     "metadata": {},
     "output_type": "display_data"
    },
    {
     "name": "stdout",
     "output_type": "stream",
     "text": [
      "Epoch [1 / 250] Loss: 1.8129  Accuracy: 54.69 %\n",
      "Epoch [51 / 250] Loss: 0.1803  Accuracy: 96.88 %\n",
      "Epoch [101 / 250] Loss: 0.1415  Accuracy: 100.00 %\n",
      "Epoch [151 / 250] Loss: 0.1238  Accuracy: 100.00 %\n",
      "Epoch [201 / 250] Loss: 0.1105  Accuracy: 96.88 %\n"
     ]
    },
    {
     "data": {
      "application/vnd.jupyter.widget-view+json": {
       "model_id": "b64f4dc4e1864eb39a9abf9c858f8048",
       "version_major": 2,
       "version_minor": 0
      },
      "text/plain": [
       "epoch:   0%|          | 0/250 [00:00<?, ?it/s]"
      ]
     },
     "metadata": {},
     "output_type": "display_data"
    },
    {
     "name": "stdout",
     "output_type": "stream",
     "text": [
      "Epoch [1 / 250] Loss: 1.8129  Accuracy: 54.69 %\n",
      "Epoch [51 / 250] Loss: 0.1803  Accuracy: 96.88 %\n",
      "Epoch [101 / 250] Loss: 0.1415  Accuracy: 100.00 %\n",
      "Epoch [151 / 250] Loss: 0.1238  Accuracy: 100.00 %\n",
      "Epoch [201 / 250] Loss: 0.1105  Accuracy: 96.88 %\n"
     ]
    },
    {
     "data": {
      "application/vnd.jupyter.widget-view+json": {
       "model_id": "eebbf6ddd9794a5997c1dd298667a133",
       "version_major": 2,
       "version_minor": 0
      },
      "text/plain": [
       "epoch:   0%|          | 0/250 [00:00<?, ?it/s]"
      ]
     },
     "metadata": {},
     "output_type": "display_data"
    },
    {
     "name": "stdout",
     "output_type": "stream",
     "text": [
      "Epoch [1 / 250] Loss: 1.8129  Accuracy: 54.69 %\n",
      "Epoch [51 / 250] Loss: 0.1803  Accuracy: 96.88 %\n",
      "Epoch [101 / 250] Loss: 0.1415  Accuracy: 100.00 %\n",
      "Epoch [151 / 250] Loss: 0.1238  Accuracy: 100.00 %\n",
      "Epoch [201 / 250] Loss: 0.1105  Accuracy: 96.88 %\n"
     ]
    },
    {
     "data": {
      "application/vnd.jupyter.widget-view+json": {
       "model_id": "0ba1eeeba20540f888b1f91f9192db3e",
       "version_major": 2,
       "version_minor": 0
      },
      "text/plain": [
       "epoch:   0%|          | 0/250 [00:00<?, ?it/s]"
      ]
     },
     "metadata": {},
     "output_type": "display_data"
    },
    {
     "name": "stdout",
     "output_type": "stream",
     "text": [
      "Epoch [1 / 250] Loss: 1.8129  Accuracy: 54.69 %\n",
      "Epoch [51 / 250] Loss: 0.1803  Accuracy: 96.88 %\n",
      "Epoch [101 / 250] Loss: 0.1415  Accuracy: 100.00 %\n",
      "Epoch [151 / 250] Loss: 0.1238  Accuracy: 100.00 %\n",
      "Epoch [201 / 250] Loss: 0.1105  Accuracy: 96.88 %\n",
      "Network: zeroth_relu, Hidden neurons: 16, Mu: 0.001, N: 9 \n",
      "=========\n"
     ]
    },
    {
     "data": {
      "application/vnd.jupyter.widget-view+json": {
       "model_id": "28a7d87c0b10488c91a539ec5d359e8f",
       "version_major": 2,
       "version_minor": 0
      },
      "text/plain": [
       "method:   0%|          | 0/4 [00:00<?, ?it/s]"
      ]
     },
     "metadata": {},
     "output_type": "display_data"
    },
    {
     "data": {
      "application/vnd.jupyter.widget-view+json": {
       "model_id": "d8ded2442cb74c00b473b2c8cb8698d7",
       "version_major": 2,
       "version_minor": 0
      },
      "text/plain": [
       "epoch:   0%|          | 0/250 [00:00<?, ?it/s]"
      ]
     },
     "metadata": {},
     "output_type": "display_data"
    },
    {
     "name": "stdout",
     "output_type": "stream",
     "text": [
      "Epoch [1 / 250] Loss: 1.8129  Accuracy: 54.69 %\n",
      "Epoch [51 / 250] Loss: 0.1803  Accuracy: 96.88 %\n",
      "Epoch [101 / 250] Loss: 0.1415  Accuracy: 100.00 %\n",
      "Epoch [151 / 250] Loss: 0.1238  Accuracy: 100.00 %\n",
      "Epoch [201 / 250] Loss: 0.1105  Accuracy: 96.88 %\n"
     ]
    },
    {
     "data": {
      "application/vnd.jupyter.widget-view+json": {
       "model_id": "cd88fe3f585c4a57a98e2c70dfc8e5df",
       "version_major": 2,
       "version_minor": 0
      },
      "text/plain": [
       "epoch:   0%|          | 0/250 [00:00<?, ?it/s]"
      ]
     },
     "metadata": {},
     "output_type": "display_data"
    },
    {
     "name": "stdout",
     "output_type": "stream",
     "text": [
      "Epoch [1 / 250] Loss: 1.8129  Accuracy: 54.69 %\n",
      "Epoch [51 / 250] Loss: 0.1803  Accuracy: 96.88 %\n",
      "Epoch [101 / 250] Loss: 0.1415  Accuracy: 100.00 %\n",
      "Epoch [151 / 250] Loss: 0.1238  Accuracy: 100.00 %\n",
      "Epoch [201 / 250] Loss: 0.1105  Accuracy: 96.88 %\n"
     ]
    },
    {
     "data": {
      "application/vnd.jupyter.widget-view+json": {
       "model_id": "866e57d51b2a4509b03debac4645fc8d",
       "version_major": 2,
       "version_minor": 0
      },
      "text/plain": [
       "epoch:   0%|          | 0/250 [00:00<?, ?it/s]"
      ]
     },
     "metadata": {},
     "output_type": "display_data"
    },
    {
     "name": "stdout",
     "output_type": "stream",
     "text": [
      "Epoch [1 / 250] Loss: 1.8129  Accuracy: 54.69 %\n",
      "Epoch [51 / 250] Loss: 0.1803  Accuracy: 96.88 %\n",
      "Epoch [101 / 250] Loss: 0.1415  Accuracy: 100.00 %\n",
      "Epoch [151 / 250] Loss: 0.1238  Accuracy: 100.00 %\n",
      "Epoch [201 / 250] Loss: 0.1105  Accuracy: 96.88 %\n"
     ]
    },
    {
     "data": {
      "application/vnd.jupyter.widget-view+json": {
       "model_id": "7cd55e5152274d09a10bf198eb1aa6d3",
       "version_major": 2,
       "version_minor": 0
      },
      "text/plain": [
       "epoch:   0%|          | 0/250 [00:00<?, ?it/s]"
      ]
     },
     "metadata": {},
     "output_type": "display_data"
    },
    {
     "name": "stdout",
     "output_type": "stream",
     "text": [
      "Epoch [1 / 250] Loss: 1.8129  Accuracy: 54.69 %\n",
      "Epoch [51 / 250] Loss: 0.1803  Accuracy: 96.88 %\n",
      "Epoch [101 / 250] Loss: 0.1415  Accuracy: 100.00 %\n",
      "Epoch [151 / 250] Loss: 0.1238  Accuracy: 100.00 %\n",
      "Epoch [201 / 250] Loss: 0.1105  Accuracy: 96.88 %\n",
      "Network: zeroth_relu, Hidden neurons: 16, Mu: 0.01, N: 1 \n",
      "=========\n"
     ]
    },
    {
     "data": {
      "application/vnd.jupyter.widget-view+json": {
       "model_id": "824c8a6cdc4f408cad6cb82c8c42e23d",
       "version_major": 2,
       "version_minor": 0
      },
      "text/plain": [
       "method:   0%|          | 0/4 [00:00<?, ?it/s]"
      ]
     },
     "metadata": {},
     "output_type": "display_data"
    },
    {
     "data": {
      "application/vnd.jupyter.widget-view+json": {
       "model_id": "f3730449d6ca4c90aa6e7a9b540a42a1",
       "version_major": 2,
       "version_minor": 0
      },
      "text/plain": [
       "epoch:   0%|          | 0/250 [00:00<?, ?it/s]"
      ]
     },
     "metadata": {},
     "output_type": "display_data"
    },
    {
     "name": "stdout",
     "output_type": "stream",
     "text": [
      "Epoch [1 / 250] Loss: 1.8129  Accuracy: 54.69 %\n",
      "Epoch [51 / 250] Loss: 0.1803  Accuracy: 96.88 %\n",
      "Epoch [101 / 250] Loss: 0.1415  Accuracy: 100.00 %\n",
      "Epoch [151 / 250] Loss: 0.1238  Accuracy: 100.00 %\n",
      "Epoch [201 / 250] Loss: 0.1105  Accuracy: 96.88 %\n"
     ]
    },
    {
     "data": {
      "application/vnd.jupyter.widget-view+json": {
       "model_id": "d26b03c79d8b4d9db38a40feb84bbb94",
       "version_major": 2,
       "version_minor": 0
      },
      "text/plain": [
       "epoch:   0%|          | 0/250 [00:00<?, ?it/s]"
      ]
     },
     "metadata": {},
     "output_type": "display_data"
    },
    {
     "name": "stdout",
     "output_type": "stream",
     "text": [
      "Epoch [1 / 250] Loss: 1.8129  Accuracy: 54.69 %\n",
      "Epoch [51 / 250] Loss: 0.1803  Accuracy: 96.88 %\n",
      "Epoch [101 / 250] Loss: 0.1415  Accuracy: 100.00 %\n",
      "Epoch [151 / 250] Loss: 0.1238  Accuracy: 100.00 %\n",
      "Epoch [201 / 250] Loss: 0.1105  Accuracy: 96.88 %\n"
     ]
    },
    {
     "data": {
      "application/vnd.jupyter.widget-view+json": {
       "model_id": "781a00a44554455980f44c9a66f61f70",
       "version_major": 2,
       "version_minor": 0
      },
      "text/plain": [
       "epoch:   0%|          | 0/250 [00:00<?, ?it/s]"
      ]
     },
     "metadata": {},
     "output_type": "display_data"
    },
    {
     "name": "stdout",
     "output_type": "stream",
     "text": [
      "Epoch [1 / 250] Loss: 1.8129  Accuracy: 54.69 %\n",
      "Epoch [51 / 250] Loss: 0.1803  Accuracy: 96.88 %\n",
      "Epoch [101 / 250] Loss: 0.1415  Accuracy: 100.00 %\n",
      "Epoch [151 / 250] Loss: 0.1238  Accuracy: 100.00 %\n",
      "Epoch [201 / 250] Loss: 0.1105  Accuracy: 96.88 %\n"
     ]
    },
    {
     "data": {
      "application/vnd.jupyter.widget-view+json": {
       "model_id": "5764e09d51c84574bf4a61b1e93fecbd",
       "version_major": 2,
       "version_minor": 0
      },
      "text/plain": [
       "epoch:   0%|          | 0/250 [00:00<?, ?it/s]"
      ]
     },
     "metadata": {},
     "output_type": "display_data"
    },
    {
     "name": "stdout",
     "output_type": "stream",
     "text": [
      "Epoch [1 / 250] Loss: 1.8129  Accuracy: 54.69 %\n",
      "Epoch [51 / 250] Loss: 0.1803  Accuracy: 96.88 %\n",
      "Epoch [101 / 250] Loss: 0.1415  Accuracy: 100.00 %\n",
      "Epoch [151 / 250] Loss: 0.1238  Accuracy: 100.00 %\n",
      "Epoch [201 / 250] Loss: 0.1105  Accuracy: 96.88 %\n",
      "Network: zeroth_relu, Hidden neurons: 16, Mu: 0.01, N: 5 \n",
      "=========\n"
     ]
    },
    {
     "data": {
      "application/vnd.jupyter.widget-view+json": {
       "model_id": "e1855d4107ba42e7915d6f157b889376",
       "version_major": 2,
       "version_minor": 0
      },
      "text/plain": [
       "method:   0%|          | 0/4 [00:00<?, ?it/s]"
      ]
     },
     "metadata": {},
     "output_type": "display_data"
    },
    {
     "data": {
      "application/vnd.jupyter.widget-view+json": {
       "model_id": "0a64bbff1d4c4ac7b4ce3ab7a0fbc0eb",
       "version_major": 2,
       "version_minor": 0
      },
      "text/plain": [
       "epoch:   0%|          | 0/250 [00:00<?, ?it/s]"
      ]
     },
     "metadata": {},
     "output_type": "display_data"
    },
    {
     "name": "stdout",
     "output_type": "stream",
     "text": [
      "Epoch [1 / 250] Loss: 1.8129  Accuracy: 54.69 %\n",
      "Epoch [51 / 250] Loss: 0.1803  Accuracy: 96.88 %\n",
      "Epoch [101 / 250] Loss: 0.1415  Accuracy: 100.00 %\n",
      "Epoch [151 / 250] Loss: 0.1238  Accuracy: 100.00 %\n",
      "Epoch [201 / 250] Loss: 0.1105  Accuracy: 96.88 %\n"
     ]
    },
    {
     "data": {
      "application/vnd.jupyter.widget-view+json": {
       "model_id": "2a0a3002a235431c98e9e580a352a30b",
       "version_major": 2,
       "version_minor": 0
      },
      "text/plain": [
       "epoch:   0%|          | 0/250 [00:00<?, ?it/s]"
      ]
     },
     "metadata": {},
     "output_type": "display_data"
    },
    {
     "name": "stdout",
     "output_type": "stream",
     "text": [
      "Epoch [1 / 250] Loss: 1.8129  Accuracy: 54.69 %\n",
      "Epoch [51 / 250] Loss: 0.1803  Accuracy: 96.88 %\n",
      "Epoch [101 / 250] Loss: 0.1415  Accuracy: 100.00 %\n",
      "Epoch [151 / 250] Loss: 0.1238  Accuracy: 100.00 %\n",
      "Epoch [201 / 250] Loss: 0.1105  Accuracy: 96.88 %\n"
     ]
    },
    {
     "data": {
      "application/vnd.jupyter.widget-view+json": {
       "model_id": "9a2f2fef442441cb8662d87cdadca17c",
       "version_major": 2,
       "version_minor": 0
      },
      "text/plain": [
       "epoch:   0%|          | 0/250 [00:00<?, ?it/s]"
      ]
     },
     "metadata": {},
     "output_type": "display_data"
    },
    {
     "name": "stdout",
     "output_type": "stream",
     "text": [
      "Epoch [1 / 250] Loss: 1.8129  Accuracy: 54.69 %\n",
      "Epoch [51 / 250] Loss: 0.1803  Accuracy: 96.88 %\n",
      "Epoch [101 / 250] Loss: 0.1415  Accuracy: 100.00 %\n",
      "Epoch [151 / 250] Loss: 0.1238  Accuracy: 100.00 %\n",
      "Epoch [201 / 250] Loss: 0.1105  Accuracy: 96.88 %\n"
     ]
    },
    {
     "data": {
      "application/vnd.jupyter.widget-view+json": {
       "model_id": "a6fa95eaa8c5446a85cfc08e8f77eb44",
       "version_major": 2,
       "version_minor": 0
      },
      "text/plain": [
       "epoch:   0%|          | 0/250 [00:00<?, ?it/s]"
      ]
     },
     "metadata": {},
     "output_type": "display_data"
    },
    {
     "name": "stdout",
     "output_type": "stream",
     "text": [
      "Epoch [1 / 250] Loss: 1.8129  Accuracy: 54.69 %\n",
      "Epoch [51 / 250] Loss: 0.1803  Accuracy: 96.88 %\n",
      "Epoch [101 / 250] Loss: 0.1415  Accuracy: 100.00 %\n",
      "Epoch [151 / 250] Loss: 0.1238  Accuracy: 100.00 %\n",
      "Epoch [201 / 250] Loss: 0.1105  Accuracy: 96.88 %\n",
      "Network: zeroth_relu, Hidden neurons: 16, Mu: 0.01, N: 9 \n",
      "=========\n"
     ]
    },
    {
     "data": {
      "application/vnd.jupyter.widget-view+json": {
       "model_id": "c2b833c069234eb2b8078603349f3575",
       "version_major": 2,
       "version_minor": 0
      },
      "text/plain": [
       "method:   0%|          | 0/4 [00:00<?, ?it/s]"
      ]
     },
     "metadata": {},
     "output_type": "display_data"
    },
    {
     "data": {
      "application/vnd.jupyter.widget-view+json": {
       "model_id": "390e8799dfb64ceda74582d08573cdeb",
       "version_major": 2,
       "version_minor": 0
      },
      "text/plain": [
       "epoch:   0%|          | 0/250 [00:00<?, ?it/s]"
      ]
     },
     "metadata": {},
     "output_type": "display_data"
    },
    {
     "name": "stdout",
     "output_type": "stream",
     "text": [
      "Epoch [1 / 250] Loss: 1.8129  Accuracy: 54.69 %\n",
      "Epoch [51 / 250] Loss: 0.1803  Accuracy: 96.88 %\n",
      "Epoch [101 / 250] Loss: 0.1415  Accuracy: 100.00 %\n",
      "Epoch [151 / 250] Loss: 0.1238  Accuracy: 100.00 %\n",
      "Epoch [201 / 250] Loss: 0.1105  Accuracy: 96.88 %\n"
     ]
    },
    {
     "data": {
      "application/vnd.jupyter.widget-view+json": {
       "model_id": "0cb6aaf115ad415196429ec41a6b003e",
       "version_major": 2,
       "version_minor": 0
      },
      "text/plain": [
       "epoch:   0%|          | 0/250 [00:00<?, ?it/s]"
      ]
     },
     "metadata": {},
     "output_type": "display_data"
    },
    {
     "name": "stdout",
     "output_type": "stream",
     "text": [
      "Epoch [1 / 250] Loss: 1.8129  Accuracy: 54.69 %\n",
      "Epoch [51 / 250] Loss: 0.1803  Accuracy: 96.88 %\n",
      "Epoch [101 / 250] Loss: 0.1415  Accuracy: 100.00 %\n",
      "Epoch [151 / 250] Loss: 0.1238  Accuracy: 100.00 %\n",
      "Epoch [201 / 250] Loss: 0.1105  Accuracy: 96.88 %\n"
     ]
    },
    {
     "data": {
      "application/vnd.jupyter.widget-view+json": {
       "model_id": "72fd0fc3fa94417eb86046d8986574cf",
       "version_major": 2,
       "version_minor": 0
      },
      "text/plain": [
       "epoch:   0%|          | 0/250 [00:00<?, ?it/s]"
      ]
     },
     "metadata": {},
     "output_type": "display_data"
    },
    {
     "name": "stdout",
     "output_type": "stream",
     "text": [
      "Epoch [1 / 250] Loss: 1.8129  Accuracy: 54.69 %\n",
      "Epoch [51 / 250] Loss: 0.1803  Accuracy: 96.88 %\n",
      "Epoch [101 / 250] Loss: 0.1415  Accuracy: 100.00 %\n",
      "Epoch [151 / 250] Loss: 0.1238  Accuracy: 100.00 %\n",
      "Epoch [201 / 250] Loss: 0.1105  Accuracy: 96.88 %\n"
     ]
    },
    {
     "data": {
      "application/vnd.jupyter.widget-view+json": {
       "model_id": "c95f5c88eead4b0db7402d02cf16034c",
       "version_major": 2,
       "version_minor": 0
      },
      "text/plain": [
       "epoch:   0%|          | 0/250 [00:00<?, ?it/s]"
      ]
     },
     "metadata": {},
     "output_type": "display_data"
    },
    {
     "name": "stdout",
     "output_type": "stream",
     "text": [
      "Epoch [1 / 250] Loss: 1.8129  Accuracy: 54.69 %\n",
      "Epoch [51 / 250] Loss: 0.1803  Accuracy: 96.88 %\n",
      "Epoch [101 / 250] Loss: 0.1415  Accuracy: 100.00 %\n",
      "Epoch [151 / 250] Loss: 0.1238  Accuracy: 100.00 %\n",
      "Epoch [201 / 250] Loss: 0.1105  Accuracy: 96.88 %\n",
      "Network: zeroth_relu, Hidden neurons: 16, Mu: 0.1, N: 1 \n",
      "=========\n"
     ]
    },
    {
     "data": {
      "application/vnd.jupyter.widget-view+json": {
       "model_id": "75f62dcc7e0a444ebfad38446900aa1d",
       "version_major": 2,
       "version_minor": 0
      },
      "text/plain": [
       "method:   0%|          | 0/4 [00:00<?, ?it/s]"
      ]
     },
     "metadata": {},
     "output_type": "display_data"
    },
    {
     "data": {
      "application/vnd.jupyter.widget-view+json": {
       "model_id": "d446314fab6c4acb8de26057b29b535b",
       "version_major": 2,
       "version_minor": 0
      },
      "text/plain": [
       "epoch:   0%|          | 0/250 [00:00<?, ?it/s]"
      ]
     },
     "metadata": {},
     "output_type": "display_data"
    },
    {
     "name": "stdout",
     "output_type": "stream",
     "text": [
      "Epoch [1 / 250] Loss: 1.8129  Accuracy: 54.69 %\n",
      "Epoch [51 / 250] Loss: 0.1803  Accuracy: 96.88 %\n",
      "Epoch [101 / 250] Loss: 0.1415  Accuracy: 100.00 %\n",
      "Epoch [151 / 250] Loss: 0.1238  Accuracy: 100.00 %\n",
      "Epoch [201 / 250] Loss: 0.1105  Accuracy: 96.88 %\n"
     ]
    },
    {
     "data": {
      "application/vnd.jupyter.widget-view+json": {
       "model_id": "42d6b667d54b4115a917cf6ca6c2eb62",
       "version_major": 2,
       "version_minor": 0
      },
      "text/plain": [
       "epoch:   0%|          | 0/250 [00:00<?, ?it/s]"
      ]
     },
     "metadata": {},
     "output_type": "display_data"
    },
    {
     "name": "stdout",
     "output_type": "stream",
     "text": [
      "Epoch [1 / 250] Loss: 1.8129  Accuracy: 54.69 %\n",
      "Epoch [51 / 250] Loss: 0.1803  Accuracy: 96.88 %\n",
      "Epoch [101 / 250] Loss: 0.1415  Accuracy: 100.00 %\n",
      "Epoch [151 / 250] Loss: 0.1238  Accuracy: 100.00 %\n",
      "Epoch [201 / 250] Loss: 0.1105  Accuracy: 96.88 %\n"
     ]
    },
    {
     "data": {
      "application/vnd.jupyter.widget-view+json": {
       "model_id": "021d4ad4a8b04233a8494bd5b69307bd",
       "version_major": 2,
       "version_minor": 0
      },
      "text/plain": [
       "epoch:   0%|          | 0/250 [00:00<?, ?it/s]"
      ]
     },
     "metadata": {},
     "output_type": "display_data"
    },
    {
     "name": "stdout",
     "output_type": "stream",
     "text": [
      "Epoch [1 / 250] Loss: 1.8129  Accuracy: 54.69 %\n",
      "Epoch [51 / 250] Loss: 0.1803  Accuracy: 96.88 %\n",
      "Epoch [101 / 250] Loss: 0.1415  Accuracy: 100.00 %\n",
      "Epoch [151 / 250] Loss: 0.1238  Accuracy: 100.00 %\n",
      "Epoch [201 / 250] Loss: 0.1105  Accuracy: 96.88 %\n"
     ]
    },
    {
     "data": {
      "application/vnd.jupyter.widget-view+json": {
       "model_id": "f13ac99e65464216addaad948886f75e",
       "version_major": 2,
       "version_minor": 0
      },
      "text/plain": [
       "epoch:   0%|          | 0/250 [00:00<?, ?it/s]"
      ]
     },
     "metadata": {},
     "output_type": "display_data"
    },
    {
     "name": "stdout",
     "output_type": "stream",
     "text": [
      "Epoch [1 / 250] Loss: 1.8129  Accuracy: 54.69 %\n",
      "Epoch [51 / 250] Loss: 0.1803  Accuracy: 96.88 %\n",
      "Epoch [101 / 250] Loss: 0.1415  Accuracy: 100.00 %\n",
      "Epoch [151 / 250] Loss: 0.1238  Accuracy: 100.00 %\n",
      "Epoch [201 / 250] Loss: 0.1105  Accuracy: 96.88 %\n",
      "Network: zeroth_relu, Hidden neurons: 16, Mu: 0.1, N: 5 \n",
      "=========\n"
     ]
    },
    {
     "data": {
      "application/vnd.jupyter.widget-view+json": {
       "model_id": "0596a95760284928acf304cde771a197",
       "version_major": 2,
       "version_minor": 0
      },
      "text/plain": [
       "method:   0%|          | 0/4 [00:00<?, ?it/s]"
      ]
     },
     "metadata": {},
     "output_type": "display_data"
    },
    {
     "data": {
      "application/vnd.jupyter.widget-view+json": {
       "model_id": "1c687a0286ba499c9fa3aa16be314150",
       "version_major": 2,
       "version_minor": 0
      },
      "text/plain": [
       "epoch:   0%|          | 0/250 [00:00<?, ?it/s]"
      ]
     },
     "metadata": {},
     "output_type": "display_data"
    },
    {
     "name": "stdout",
     "output_type": "stream",
     "text": [
      "Epoch [1 / 250] Loss: 1.8129  Accuracy: 54.69 %\n",
      "Epoch [51 / 250] Loss: 0.1803  Accuracy: 96.88 %\n",
      "Epoch [101 / 250] Loss: 0.1415  Accuracy: 100.00 %\n",
      "Epoch [151 / 250] Loss: 0.1238  Accuracy: 100.00 %\n",
      "Epoch [201 / 250] Loss: 0.1105  Accuracy: 96.88 %\n"
     ]
    },
    {
     "data": {
      "application/vnd.jupyter.widget-view+json": {
       "model_id": "060c60a4ba8d4b2a85fca624e80c25b7",
       "version_major": 2,
       "version_minor": 0
      },
      "text/plain": [
       "epoch:   0%|          | 0/250 [00:00<?, ?it/s]"
      ]
     },
     "metadata": {},
     "output_type": "display_data"
    },
    {
     "name": "stdout",
     "output_type": "stream",
     "text": [
      "Epoch [1 / 250] Loss: 1.8129  Accuracy: 54.69 %\n",
      "Epoch [51 / 250] Loss: 0.1803  Accuracy: 96.88 %\n",
      "Epoch [101 / 250] Loss: 0.1415  Accuracy: 100.00 %\n",
      "Epoch [151 / 250] Loss: 0.1238  Accuracy: 100.00 %\n",
      "Epoch [201 / 250] Loss: 0.1105  Accuracy: 96.88 %\n"
     ]
    },
    {
     "data": {
      "application/vnd.jupyter.widget-view+json": {
       "model_id": "0d5b485a65c6426ebadeff19c9e7296c",
       "version_major": 2,
       "version_minor": 0
      },
      "text/plain": [
       "epoch:   0%|          | 0/250 [00:00<?, ?it/s]"
      ]
     },
     "metadata": {},
     "output_type": "display_data"
    },
    {
     "name": "stdout",
     "output_type": "stream",
     "text": [
      "Epoch [1 / 250] Loss: 1.8129  Accuracy: 54.69 %\n",
      "Epoch [51 / 250] Loss: 0.1803  Accuracy: 96.88 %\n",
      "Epoch [101 / 250] Loss: 0.1415  Accuracy: 100.00 %\n",
      "Epoch [151 / 250] Loss: 0.1238  Accuracy: 100.00 %\n",
      "Epoch [201 / 250] Loss: 0.1105  Accuracy: 96.88 %\n"
     ]
    },
    {
     "data": {
      "application/vnd.jupyter.widget-view+json": {
       "model_id": "18c1950785bb40a792063cebc2727a89",
       "version_major": 2,
       "version_minor": 0
      },
      "text/plain": [
       "epoch:   0%|          | 0/250 [00:00<?, ?it/s]"
      ]
     },
     "metadata": {},
     "output_type": "display_data"
    },
    {
     "name": "stdout",
     "output_type": "stream",
     "text": [
      "Epoch [1 / 250] Loss: 1.8129  Accuracy: 54.69 %\n",
      "Epoch [51 / 250] Loss: 0.1803  Accuracy: 96.88 %\n",
      "Epoch [101 / 250] Loss: 0.1415  Accuracy: 100.00 %\n",
      "Epoch [151 / 250] Loss: 0.1238  Accuracy: 100.00 %\n",
      "Epoch [201 / 250] Loss: 0.1105  Accuracy: 96.88 %\n",
      "Network: zeroth_relu, Hidden neurons: 16, Mu: 0.1, N: 9 \n",
      "=========\n"
     ]
    },
    {
     "data": {
      "application/vnd.jupyter.widget-view+json": {
       "model_id": "d0668d693d8b4803a382b14fef74bdb6",
       "version_major": 2,
       "version_minor": 0
      },
      "text/plain": [
       "method:   0%|          | 0/4 [00:00<?, ?it/s]"
      ]
     },
     "metadata": {},
     "output_type": "display_data"
    },
    {
     "data": {
      "application/vnd.jupyter.widget-view+json": {
       "model_id": "b3098c7253b249e6ae81f2c08c46beab",
       "version_major": 2,
       "version_minor": 0
      },
      "text/plain": [
       "epoch:   0%|          | 0/250 [00:00<?, ?it/s]"
      ]
     },
     "metadata": {},
     "output_type": "display_data"
    },
    {
     "name": "stdout",
     "output_type": "stream",
     "text": [
      "Epoch [1 / 250] Loss: 1.8129  Accuracy: 54.69 %\n",
      "Epoch [51 / 250] Loss: 0.1803  Accuracy: 96.88 %\n",
      "Epoch [101 / 250] Loss: 0.1415  Accuracy: 100.00 %\n",
      "Epoch [151 / 250] Loss: 0.1238  Accuracy: 100.00 %\n",
      "Epoch [201 / 250] Loss: 0.1105  Accuracy: 96.88 %\n"
     ]
    },
    {
     "data": {
      "application/vnd.jupyter.widget-view+json": {
       "model_id": "a231369d195144989e2e6e23bc9cd933",
       "version_major": 2,
       "version_minor": 0
      },
      "text/plain": [
       "epoch:   0%|          | 0/250 [00:00<?, ?it/s]"
      ]
     },
     "metadata": {},
     "output_type": "display_data"
    },
    {
     "name": "stdout",
     "output_type": "stream",
     "text": [
      "Epoch [1 / 250] Loss: 1.8129  Accuracy: 54.69 %\n",
      "Epoch [51 / 250] Loss: 0.1803  Accuracy: 96.88 %\n",
      "Epoch [101 / 250] Loss: 0.1415  Accuracy: 100.00 %\n",
      "Epoch [151 / 250] Loss: 0.1238  Accuracy: 100.00 %\n",
      "Epoch [201 / 250] Loss: 0.1105  Accuracy: 96.88 %\n"
     ]
    },
    {
     "data": {
      "application/vnd.jupyter.widget-view+json": {
       "model_id": "62fb7ebd96ab41478ba64a157ebe8d09",
       "version_major": 2,
       "version_minor": 0
      },
      "text/plain": [
       "epoch:   0%|          | 0/250 [00:00<?, ?it/s]"
      ]
     },
     "metadata": {},
     "output_type": "display_data"
    },
    {
     "name": "stdout",
     "output_type": "stream",
     "text": [
      "Epoch [1 / 250] Loss: 1.8129  Accuracy: 54.69 %\n",
      "Epoch [51 / 250] Loss: 0.1803  Accuracy: 96.88 %\n",
      "Epoch [101 / 250] Loss: 0.1415  Accuracy: 100.00 %\n",
      "Epoch [151 / 250] Loss: 0.1238  Accuracy: 100.00 %\n",
      "Epoch [201 / 250] Loss: 0.1105  Accuracy: 96.88 %\n"
     ]
    },
    {
     "data": {
      "application/vnd.jupyter.widget-view+json": {
       "model_id": "004f676174d849e3b020789040621032",
       "version_major": 2,
       "version_minor": 0
      },
      "text/plain": [
       "epoch:   0%|          | 0/250 [00:00<?, ?it/s]"
      ]
     },
     "metadata": {},
     "output_type": "display_data"
    },
    {
     "name": "stdout",
     "output_type": "stream",
     "text": [
      "Epoch [1 / 250] Loss: 1.8129  Accuracy: 54.69 %\n",
      "Epoch [51 / 250] Loss: 0.1803  Accuracy: 96.88 %\n",
      "Epoch [101 / 250] Loss: 0.1415  Accuracy: 100.00 %\n",
      "Epoch [151 / 250] Loss: 0.1238  Accuracy: 100.00 %\n",
      "Epoch [201 / 250] Loss: 0.1105  Accuracy: 96.88 %\n"
     ]
    }
   ],
   "source": [
    "# Train each network and plot the loss:\n",
    "for net_idx, network in enumerate(zero_network_funs):\n",
    "    name, network_fun = network\n",
    "    for hidden_neurons in hidden_neurons_range:\n",
    "        for mu in mu_range:\n",
    "            for n in n_range:\n",
    "                print(f\"Network: {name}, Hidden neurons: {hidden_neurons}, Mu: {mu}, N: {n} \\n=========\")\n",
    "                for diff_method in tqdm(difference_method_range, desc=\"method\", leave=False, position=0):\n",
    "                    plt.figure()\n",
    "                    # Create new instance of network\n",
    "                    if diff_method == \"sgd\":\n",
    "                        network_fun = std_network_funs[net_idx][1]\n",
    "                    network = network_fun(hidden_neurons, mu, n, diff_method)\n",
    "\n",
    "                    # Optimiser\n",
    "                    optimiser = torch.optim.SGD(network.parameters(), lr=LR)\n",
    "\n",
    "                    # store all losses for visualisation\n",
    "                    all_losses = []\n",
    "\n",
    "                    # train a neural network\n",
    "                    num_batches = len(X) // BATCH_SIZE\n",
    "                    for epoch in tqdm(range(NUM_EPOCH), desc=\"epoch\", leave=False, position=1):\n",
    "                        epoch_loss = 0.0\n",
    "                        for batch in range(num_batches):\n",
    "                            # Get batch data\n",
    "                            batch_start = batch * BATCH_SIZE\n",
    "                            batch_end = (batch + 1) * BATCH_SIZE\n",
    "                            batch_X = X[batch_start:batch_end]\n",
    "                            batch_Y = Y[batch_start:batch_end]\n",
    "\n",
    "                            # Perform forward pass\n",
    "                            Y_pred = network(batch_X)\n",
    "                            # Compute loss\n",
    "                            loss = loss_func(Y_pred, batch_Y)\n",
    "                            epoch_loss += loss.item()\n",
    "\n",
    "                            # Clear the gradients before running the backward pass\n",
    "                            network.zero_grad()\n",
    "                            # Perform backward pass\n",
    "                            loss.backward()\n",
    "                            # Step optimiser\n",
    "                            optimiser.step()\n",
    "\n",
    "                        all_losses.append(epoch_loss / num_batches)\n",
    "\n",
    "                        # Print progress\n",
    "                        if epoch % 50 == 0:\n",
    "                            # Convert three-column predicted Y values to one column for comparison\n",
    "                            _, predicted = torch.max(torch.nn.functional.softmax(Y_pred, 1), 1)\n",
    "                            # Calculate and print accuracy\n",
    "                            total = predicted.size(0)\n",
    "                            correct = predicted.data.numpy() == batch_Y.data.numpy()\n",
    "                            # Print\n",
    "                            print('Epoch [%d / %d] Loss: %.4f  Accuracy: %.2f %%'\n",
    "                                  % (epoch + 1, NUM_EPOCH, epoch_loss / num_batches, 100 * sum(correct) / total))\n",
    "\n",
    "                    # Plot\n",
    "                    plt.plot(all_losses)\n",
    "\n",
    "                    \n",
    "                    plt.xlabel(\"Epoch\")\n",
    "                    plt.ylabel(\"Loss\")\n",
    "                    plt.legend([\"One\", \"Two\", \"Coord\", \"SGD\"])\n",
    "                    if plot:\n",
    "                        plt.show()\n",
    "                    else:\n",
    "                        plt.savefig(f\"{path}{name}_hn{hidden_neurons}_mu{mu}_n{n}_{diff_method}.png\")\n",
    "                        plt.close()"
   ]
  }
 ],
 "metadata": {
  "kernelspec": {
   "display_name": "manopt",
   "language": "python",
   "name": "python3"
  },
  "language_info": {
   "codemirror_mode": {
    "name": "ipython",
    "version": 3
   },
   "file_extension": ".py",
   "mimetype": "text/x-python",
   "name": "python",
   "nbconvert_exporter": "python",
   "pygments_lexer": "ipython3",
   "version": "3.9.5"
  },
  "orig_nbformat": 4
 },
 "nbformat": 4,
 "nbformat_minor": 2
}

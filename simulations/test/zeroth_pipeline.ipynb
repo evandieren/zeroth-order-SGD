{
 "cells": [
  {
   "attachments": {},
   "cell_type": "markdown",
   "metadata": {},
   "source": [
    "### Imports"
   ]
  },
  {
   "cell_type": "code",
   "execution_count": 1,
   "metadata": {},
   "outputs": [],
   "source": [
    "import pandas as pd\n",
    "import numpy as np\n",
    "import torch\n",
    "import matplotlib.pyplot as plt\n",
    "\n",
    "from difference_methods import one_point_estimate, two_point_estimate, coordinate_estimate\n",
    "from linear_zeroth_function import Linear_Zeroth\n",
    "from sigmoid_zeroth_function import Sigmoid_Zeroth\n",
    "from relu_zeroth_function import ReLU_Zeroth"
   ]
  },
  {
   "attachments": {},
   "cell_type": "markdown",
   "metadata": {},
   "source": [
    "### Data preprocessing"
   ]
  },
  {
   "cell_type": "code",
   "execution_count": 2,
   "metadata": {},
   "outputs": [
    {
     "name": "stdout",
     "output_type": "stream",
     "text": [
      "       input1  input2  input3  input4  input5  input6  input7  input8  input9  \\\n",
      "0          47     100      27      81      57      37      26       0       0   \n",
      "1           0      89      27     100      42      75      29      45      15   \n",
      "2           0      57      31      68      72      90     100     100      76   \n",
      "3           0     100       7      92       5      68      19      45      86   \n",
      "4           0      67      49      83     100     100      81      80      60   \n",
      "...       ...     ...     ...     ...     ...     ...     ...     ...     ...   \n",
      "10987      36     100      24      70       0      38      49      33      95   \n",
      "10988      16      75      41     100      52      64      32      27       0   \n",
      "10989      56     100      27      79       0      39      12       0      66   \n",
      "10990      19     100       0      61       3      23      48       0      97   \n",
      "10991      38     100      37      81      12      55       0      28      52   \n",
      "\n",
      "       input10  input11  input12  input13  input14  input15  input16  class  \n",
      "0           23       56       53      100       90       40       98      8  \n",
      "1           15       37        0       69        2      100        6      2  \n",
      "2           75       50       51       28       25       16        0      1  \n",
      "3           34      100       45       74       23       67        0      4  \n",
      "4           60       40       40       33       20       47        0      1  \n",
      "...        ...      ...      ...      ...      ...      ...      ...    ...  \n",
      "10987       47       87       55       96       21      100        0      4  \n",
      "10988        0       21        9       62        2      100       14      2  \n",
      "10989       15      100       51       93       93       38       93      0  \n",
      "10990       27      100       66       62       97       10       81      0  \n",
      "10991       27      100       42       86       26       65        0      4  \n",
      "\n",
      "[10992 rows x 17 columns]\n"
     ]
    }
   ],
   "source": [
    "# Load training data\n",
    "data_train = pd.read_csv('pendigits.csv')\n",
    "\n",
    "print(data_train)"
   ]
  },
  {
   "cell_type": "code",
   "execution_count": 3,
   "metadata": {},
   "outputs": [
    {
     "data": {
      "image/png": "[encoded data removed]",
      "text/plain": [
       "<Figure size 640x480 with 1 Axes>"
      ]
     },
     "metadata": {},
     "output_type": "display_data"
    }
   ],
   "source": [
    "# extract frequency of each class\n",
    "class_freq = data_train['class'].value_counts()\n",
    "class_freq = list(class_freq.sort_index())\n",
    "\n",
    "nb_classes = len(class_freq)\n",
    "nb_features = data_train.shape[1]-1\n",
    "\n",
    "# Visual data\n",
    "graph = plt.bar(list(range(nb_classes)), class_freq)\n",
    "plt.xticks(list(range(nb_classes)))\n",
    "plt.ylabel('Frequency')\n",
    "plt.xlabel('Class')\n",
    "plt.title('Full data')\n",
    "\n",
    "plt.show() # balanced data set"
   ]
  },
  {
   "cell_type": "code",
   "execution_count": 4,
   "metadata": {},
   "outputs": [
    {
     "name": "stdout",
     "output_type": "stream",
     "text": [
      "torch.Size([10992, 16])\n"
     ]
    }
   ],
   "source": [
    "# Preprocess data for training\n",
    "\n",
    "# Convert pandas dataframe to array\n",
    "data_train_array = data_train.values\n",
    "\n",
    "# Split x (features) and y (targets)\n",
    "x_array = data_train_array[:, :nb_features]\n",
    "y_array = data_train_array[:, nb_features]\n",
    "\n",
    "# Tensorify\n",
    "X = torch.tensor(x_array, dtype=torch.float)\n",
    "Y = torch.tensor(y_array, dtype=torch.long)\n",
    "\n",
    "print(X.shape)"
   ]
  },
  {
   "attachments": {},
   "cell_type": "markdown",
   "metadata": {},
   "source": [
    "### Network Setup"
   ]
  },
  {
   "cell_type": "code",
   "execution_count": 5,
   "metadata": {},
   "outputs": [],
   "source": [
    "# INPUT/OUTPUT layer sizes\n",
    "INPUT_NEURONS = nb_features\n",
    "OUTPUT_NEURONS = nb_classes"
   ]
  },
  {
   "cell_type": "code",
   "execution_count": 12,
   "metadata": {},
   "outputs": [],
   "source": [
    "# TODO: choose hyperparam ranges\n",
    "# Hyperparameters\n",
    "# Layer sizes\n",
    "hidden_neurons_range = [12]\n",
    "\n",
    "# Mu\n",
    "mu_range = [0.001]\n",
    "\n",
    "# N\n",
    "n_range = [100]\n",
    "\n",
    "# Constants\n",
    "DIFFERENCE_METHOD = 'coord'"
   ]
  },
  {
   "cell_type": "code",
   "execution_count": 24,
   "metadata": {},
   "outputs": [],
   "source": [
    "# Network architectures: 1 hidden layer\n",
    "\n",
    "# Activation functions\n",
    "# Normal network with sigmoid\n",
    "def create_standard_sigmoid_network(hidden_neurons, mu, n):\n",
    "    torch.manual_seed(1) # so that same network init with same weights at each creation\n",
    "    return torch.nn.Sequential(\n",
    "        torch.nn.Linear(INPUT_NEURONS, hidden_neurons),\n",
    "        torch.nn.Sigmoid(),\n",
    "        torch.nn.Linear(hidden_neurons, OUTPUT_NEURONS)\n",
    "    )\n",
    "\n",
    "# Full Zeroth Order sigmoid\n",
    "def create_zeroth_sigmoid_network(hidden_neurons, mu, n):\n",
    "    torch.manual_seed(1) # so that same network init with same weights at each creation\n",
    "    return torch.nn.Sequential(\n",
    "        Linear_Zeroth(INPUT_NEURONS, hidden_neurons, bias=False, difference_method=DIFFERENCE_METHOD, mu=mu, n=n),\n",
    "        Sigmoid_Zeroth(difference_method=DIFFERENCE_METHOD, mu=mu, n=n),\n",
    "        Linear_Zeroth(hidden_neurons, OUTPUT_NEURONS, bias=False, difference_method=DIFFERENCE_METHOD, mu=mu, n=n)\n",
    ")\n",
    "\n",
    "# Normal network with relu\n",
    "def create_standard_relu_network(hidden_neurons, mu, n):\n",
    "    torch.manual_seed(1) # so that same network init with same weights at each creation\n",
    "    return torch.nn.Sequential(\n",
    "        torch.nn.Linear(INPUT_NEURONS, hidden_neurons),\n",
    "        torch.nn.ReLU(),\n",
    "        torch.nn.Linear(hidden_neurons, OUTPUT_NEURONS)\n",
    "    )\n",
    "\n",
    "# Full Zeroth Order relu\n",
    "def create_zeroth_relu_network(hidden_neurons, mu, n):\n",
    "    torch.manual_seed(1) # so that same network init with same weights at each creation\n",
    "    return torch.nn.Sequential(\n",
    "        Linear_Zeroth(INPUT_NEURONS, hidden_neurons, bias=False, difference_method=DIFFERENCE_METHOD, mu=mu, n=n),\n",
    "        ReLU_Zeroth(difference_method=DIFFERENCE_METHOD, mu=mu, n=n),\n",
    "        Linear_Zeroth(hidden_neurons, OUTPUT_NEURONS, bias=False, difference_method=DIFFERENCE_METHOD, mu=mu, n=n),\n",
    ")\n",
    "\n",
    "# TODO: uncomment this\n",
    "# network_funs = [\n",
    "#     (\"standard_sigmoid\", create_standard_sigmoid_network),\n",
    "#     (\"zeroth_sigmoid\", create_zeroth_sigmoid_network),\n",
    "#     (\"standard_relu\", create_standard_relu_network),\n",
    "#     (\"zeroth_relu\", create_zeroth_relu_network),\n",
    "# ]\n",
    "\n",
    "# TODO: comment this\n",
    "network_funs = [\n",
    "    (\"standard_sigmoid\", create_standard_sigmoid_network),\n",
    "    (\"standard_relu\", create_standard_relu_network),\n",
    "]"
   ]
  },
  {
   "attachments": {},
   "cell_type": "markdown",
   "metadata": {},
   "source": [
    "### Train and Plot Losses"
   ]
  },
  {
   "cell_type": "code",
   "execution_count": 41,
   "metadata": {},
   "outputs": [],
   "source": [
    "# Training hyperparameters\n",
    "# Training constants\n",
    "LR = 0.01\n",
    "NUM_EPOCH = 1000\n",
    "\n",
    "# Loss function -> could be hyperparam too\n",
    "loss_func = torch.nn.CrossEntropyLoss()"
   ]
  },
  {
   "cell_type": "code",
   "execution_count": 39,
   "metadata": {},
   "outputs": [],
   "source": [
    "# Plot or save?\n",
    "plot = False # plot = False => save\n",
    "\n",
    "path = \"C:\\\\Opti Project\\\\Optimisation_ML_Project\\\\simulations\\\\plots\\\\\""
   ]
  },
  {
   "cell_type": "code",
   "execution_count": 40,
   "metadata": {},
   "outputs": [
    {
     "name": "stdout",
     "output_type": "stream",
     "text": [
      "Network: standard_sigmoid, HIDDEN_NEURONS: 12, Mu: 0.001, N: 100 \n",
      "=========\n",
      "Epoch [1 / 100] Loss: 2.4091  Accuracy: 9.43 %\n",
      "Epoch [51 / 100] Loss: 2.2831  Accuracy: 16.11 %\n",
      "Network: standard_relu, HIDDEN_NEURONS: 12, Mu: 0.001, N: 100 \n",
      "=========\n",
      "Epoch [1 / 100] Loss: 19.6642  Accuracy: 8.47 %\n",
      "Epoch [51 / 100] Loss: 1.7130  Accuracy: 36.67 %\n"
     ]
    }
   ],
   "source": [
    "# Train each network and plot the loss: 1 hidden layer networks\n",
    "for hidden_neurons in hidden_neurons_range:\n",
    "    for mu in mu_range:\n",
    "        for n in n_range:\n",
    "            plt.figure()\n",
    "            network_ref = create_standard_sigmoid_network(hidden_neurons, mu, n) # used to init all nets with same weights\n",
    "    \n",
    "            for name, network_fun in network_funs:\n",
    "                print(f\"Network: {name}, HIDDEN_NEURONS: {hidden_neurons}, Mu: {mu}, N: {n} \\n=========\")\n",
    "\n",
    "                # Create new instance of network\n",
    "                network = network_fun(hidden_neurons, mu, n)\n",
    "\n",
    "                # Optimiser\n",
    "                optimiser = torch.optim.SGD(network.parameters(), lr=LR)\n",
    "\n",
    "                # store all losses for visualisation\n",
    "                all_losses = []\n",
    "\n",
    "                # train a neural network\n",
    "                for epoch in range(NUM_EPOCH):\n",
    "                    # Perform forward pass\n",
    "                    Y_pred = network(X)\n",
    "                    # Compute loss\n",
    "                    loss = loss_func(Y_pred, Y)\n",
    "                    all_losses.append(loss.item())\n",
    "\n",
    "                    # print progress\n",
    "                    if epoch % 50 == 0:\n",
    "                        # convert three-column predicted Y values to one column for comparison\n",
    "                        _, predicted = torch.max(torch.nn.functional.softmax(Y_pred,1), 1)\n",
    "                        # calculate and print accuracy\n",
    "                        total = predicted.size(0)\n",
    "                        correct = predicted.data.numpy() == Y.data.numpy()\n",
    "                        # Print\n",
    "                        print('Epoch [%d / %d] Loss: %.4f  Accuracy: %.2f %%'\n",
    "                            % (epoch + 1, NUM_EPOCH, loss.item(), 100 * sum(correct)/total))\n",
    "\n",
    "                    # Clear the gradients before running the backward pass.\n",
    "                    network.zero_grad()\n",
    "                    # Perform backward pass\n",
    "                    loss.backward()\n",
    "                    # Step optimiser\n",
    "                    optimiser.step()\n",
    "\n",
    "                # Plot\n",
    "                plt.plot(all_losses)\n",
    "                \n",
    "            plt.xlabel(\"Epoch\")\n",
    "            plt.ylabel(\"Loss\")\n",
    "            plt.legend([\"Std sigmoid\", \"Std relu\"]) # TODO: update when all 4 methods\n",
    "            if plot:\n",
    "                plt.show()\n",
    "            else:\n",
    "                plt.savefig(f\"{path}hn{hidden_neurons}_mu{mu}_n{n}.png\")\n",
    "                plt.close()"
   ]
  },
  {
   "cell_type": "code",
   "execution_count": null,
   "metadata": {},
   "outputs": [],
   "source": []
  }
 ],
 "metadata": {
  "kernelspec": {
   "display_name": "manopt",
   "language": "python",
   "name": "python3"
  },
  "language_info": {
   "codemirror_mode": {
    "name": "ipython",
    "version": 3
   },
   "file_extension": ".py",
   "mimetype": "text/x-python",
   "name": "python",
   "nbconvert_exporter": "python",
   "pygments_lexer": "ipython3",
   "version": "3.11.3"
  },
  "orig_nbformat": 4
 },
 "nbformat": 4,
 "nbformat_minor": 2
}

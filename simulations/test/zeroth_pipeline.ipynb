{
 "cells": [
  {
   "attachments": {},
   "cell_type": "markdown",
   "metadata": {},
   "source": [
    "# Zeroth Pipeline\n",
    "\n",
    "This pipeline compares zeroth order GD against standard GD. Three different zeroth order approximations --- one difference, two difference, and coordinate --- are tested."
   ]
  },
  {
   "attachments": {},
   "cell_type": "markdown",
   "metadata": {},
   "source": [
    "### Imports"
   ]
  },
  {
   "cell_type": "code",
   "execution_count": 63,
   "metadata": {},
   "outputs": [],
   "source": [
    "import os\n",
    "import sys\n",
    "\n",
    "p = os.path.abspath('../src/')\n",
    "if p not in sys.path:\n",
    "    sys.path.append(p)"
   ]
  },
  {
   "cell_type": "code",
   "execution_count": 64,
   "metadata": {},
   "outputs": [],
   "source": [
    "import pandas as pd\n",
    "import numpy as np\n",
    "import torch\n",
    "import matplotlib.pyplot as plt\n",
    "from tqdm.notebook import tqdm, trange\n",
    "\n",
    "from difference_methods import one_point_estimate, two_point_estimate, coordinate_estimate\n",
    "from linear_zeroth_function import Linear_Zeroth\n",
    "from sigmoid_zeroth_function import Sigmoid_Zeroth\n",
    "from relu_zeroth_function import ReLU_Zeroth"
   ]
  },
  {
   "attachments": {},
   "cell_type": "markdown",
   "metadata": {},
   "source": [
    "### Data preprocessing"
   ]
  },
  {
   "cell_type": "code",
   "execution_count": 65,
   "metadata": {},
   "outputs": [
    {
     "name": "stdout",
     "output_type": "stream",
     "text": [
      "       input1  input2  input3  input4  input5  input6  input7  input8  input9  \\\n",
      "0          47     100      27      81      57      37      26       0       0   \n",
      "1           0      89      27     100      42      75      29      45      15   \n",
      "2           0      57      31      68      72      90     100     100      76   \n",
      "3           0     100       7      92       5      68      19      45      86   \n",
      "4           0      67      49      83     100     100      81      80      60   \n",
      "...       ...     ...     ...     ...     ...     ...     ...     ...     ...   \n",
      "10987      36     100      24      70       0      38      49      33      95   \n",
      "10988      16      75      41     100      52      64      32      27       0   \n",
      "10989      56     100      27      79       0      39      12       0      66   \n",
      "10990      19     100       0      61       3      23      48       0      97   \n",
      "10991      38     100      37      81      12      55       0      28      52   \n",
      "\n",
      "       input10  input11  input12  input13  input14  input15  input16  class  \n",
      "0           23       56       53      100       90       40       98      8  \n",
      "1           15       37        0       69        2      100        6      2  \n",
      "2           75       50       51       28       25       16        0      1  \n",
      "3           34      100       45       74       23       67        0      4  \n",
      "4           60       40       40       33       20       47        0      1  \n",
      "...        ...      ...      ...      ...      ...      ...      ...    ...  \n",
      "10987       47       87       55       96       21      100        0      4  \n",
      "10988        0       21        9       62        2      100       14      2  \n",
      "10989       15      100       51       93       93       38       93      0  \n",
      "10990       27      100       66       62       97       10       81      0  \n",
      "10991       27      100       42       86       26       65        0      4  \n",
      "\n",
      "[10992 rows x 17 columns]\n"
     ]
    }
   ],
   "source": [
    "proper_test = True # For testing the pipeline using iris instead of pendigits\n",
    "\n",
    "if proper_test:\n",
    "    data_train = data_train = pd.read_csv('../data/pendigits.csv')\n",
    "else:\n",
    "    data_train = pd.read_csv('../data/iris_train.csv')\n",
    "\n",
    "print(data_train)"
   ]
  },
  {
   "cell_type": "code",
   "execution_count": 66,
   "metadata": {},
   "outputs": [
    {
     "data": {
      "image/png": "[encoded data removed]",
      "text/plain": [
       "<Figure size 640x480 with 1 Axes>"
      ]
     },
     "metadata": {},
     "output_type": "display_data"
    }
   ],
   "source": [
    "if proper_test:\n",
    "    # extract frequency of each class\n",
    "    class_freq = data_train['class'].value_counts()\n",
    "else:\n",
    "    # Convert string target values to numeric values\n",
    "    #       class 0: Iris-setosa\n",
    "    #       class 1: Iris-versicolor\n",
    "    #       class 2: Iris-virginica\n",
    "    data_train['species'] = data_train['species'].map({'Iris-setosa': 0, 'Iris-versicolor': 1, 'Iris-virginica': 2})\n",
    "    # also convert all string numeric values to float ['2' -> 2.0]\n",
    "    data_train = data_train.apply(pd.to_numeric)\n",
    "    # extract frequency of each species class\n",
    "    class_freq = data_train['species'].value_counts()\n",
    "\n",
    "class_freq = list(class_freq.sort_index())\n",
    "nb_classes = len(class_freq)\n",
    "nb_features = data_train.shape[1]-1\n",
    "\n",
    "# Visual data\n",
    "graph = plt.bar(list(range(nb_classes)), class_freq)\n",
    "plt.xticks(list(range(nb_classes)))\n",
    "plt.ylabel('Frequency')\n",
    "plt.xlabel('Class')\n",
    "plt.title('Full data')\n",
    "\n",
    "plt.show() # balanced data set"
   ]
  },
  {
   "cell_type": "code",
   "execution_count": 67,
   "metadata": {},
   "outputs": [
    {
     "name": "stdout",
     "output_type": "stream",
     "text": [
      "torch.Size([10992, 16])\n"
     ]
    }
   ],
   "source": [
    "# Preprocess data for training\n",
    "\n",
    "# Convert pandas dataframe to array\n",
    "data_train_array = data_train.values\n",
    "\n",
    "# Split x (features) and y (targets)\n",
    "x_array = data_train_array[:, :nb_features]\n",
    "y_array = data_train_array[:, nb_features]\n",
    "\n",
    "# Tensorify\n",
    "X = torch.tensor(x_array, dtype=torch.float)\n",
    "Y = torch.tensor(y_array, dtype=torch.long)\n",
    "\n",
    "print(X.shape)"
   ]
  },
  {
   "attachments": {},
   "cell_type": "markdown",
   "metadata": {},
   "source": [
    "### Network Setup"
   ]
  },
  {
   "cell_type": "code",
   "execution_count": 68,
   "metadata": {},
   "outputs": [],
   "source": [
    "# INPUT/OUTPUT layer sizes\n",
    "INPUT_NEURONS = nb_features\n",
    "OUTPUT_NEURONS = nb_classes"
   ]
  },
  {
   "cell_type": "code",
   "execution_count": 69,
   "metadata": {},
   "outputs": [
    {
     "name": "stdout",
     "output_type": "stream",
     "text": [
      "Hidden Neuron Range: [10, 16]\n",
      "Mu Range: [0.001, 0.01, 0.1]\n",
      "N Range: [1, 5, 9]\n",
      "Descent Methods: ['one', 'two', 'coord', 'sgd']\n"
     ]
    }
   ],
   "source": [
    "# Hyperparameters\n",
    "hidden_neurons_range = list(range(min(INPUT_NEURONS, OUTPUT_NEURONS), max(INPUT_NEURONS, OUTPUT_NEURONS)+1, 6))\n",
    "mu_range = [1e-3, 1e-2, 1e-1]\n",
    "n_range = list(range(1, min(INPUT_NEURONS, OUTPUT_NEURONS), 4))\n",
    "difference_method_range = ['one','two','coord','sgd']\n",
    "\n",
    "# Display hyperparameters:\n",
    "print(f\"Hidden Neuron Range: {hidden_neurons_range}\")\n",
    "print(f\"Mu Range: {mu_range}\")\n",
    "print(f\"N Range: {n_range}\")\n",
    "print(f\"Descent Methods: {difference_method_range}\")"
   ]
  },
  {
   "cell_type": "code",
   "execution_count": 70,
   "metadata": {},
   "outputs": [],
   "source": [
    "# Network architectures: 1 hidden layer\n",
    "\n",
    "# Activation functions\n",
    "# Normal network with sigmoid\n",
    "def create_standard_sigmoid_network(hidden_neurons, mu, n, difference_method):\n",
    "    torch.manual_seed(1) # so that same network init with same weights at each creation\n",
    "    return torch.nn.Sequential(\n",
    "        torch.nn.Linear(INPUT_NEURONS, hidden_neurons),\n",
    "        torch.nn.Sigmoid(),\n",
    "        torch.nn.Linear(hidden_neurons, OUTPUT_NEURONS)\n",
    "    )\n",
    "\n",
    "# Full Zeroth Order sigmoid\n",
    "def create_zeroth_sigmoid_network(hidden_neurons, mu, n, difference_method):\n",
    "    torch.manual_seed(1) # so that same network init with same weights at each creation\n",
    "    return torch.nn.Sequential(\n",
    "        Linear_Zeroth(INPUT_NEURONS, hidden_neurons, bias=False, difference_method=difference_method, mu=mu, n=n),\n",
    "        Sigmoid_Zeroth(difference_method=difference_method, mu=mu, n=n),\n",
    "        Linear_Zeroth(hidden_neurons, OUTPUT_NEURONS, bias=False, difference_method=difference_method, mu=mu, n=n)\n",
    ")\n",
    "\n",
    "# Normal network with relu\n",
    "def create_standard_relu_network(hidden_neurons, mu, n, difference_method):\n",
    "    torch.manual_seed(1) # so that same network init with same weights at each creation\n",
    "    return torch.nn.Sequential(\n",
    "        torch.nn.Linear(INPUT_NEURONS, hidden_neurons),\n",
    "        torch.nn.ReLU(),\n",
    "        torch.nn.Linear(hidden_neurons, OUTPUT_NEURONS)\n",
    "    )\n",
    "\n",
    "# Full Zeroth Order relu\n",
    "def create_zeroth_relu_network(hidden_neurons, mu, n, difference_method):\n",
    "    torch.manual_seed(1) # so that same network init with same weights at each creation\n",
    "    return torch.nn.Sequential(\n",
    "        Linear_Zeroth(INPUT_NEURONS, hidden_neurons, bias=False, difference_method=difference_method, mu=mu, n=n),\n",
    "        ReLU_Zeroth(difference_method=difference_method, mu=mu, n=n),\n",
    "        Linear_Zeroth(hidden_neurons, OUTPUT_NEURONS, bias=False, difference_method=difference_method, mu=mu, n=n),\n",
    ")\n",
    "\n",
    "std_network_funs = [\n",
    "    (\"standard_sigmoid\", create_standard_sigmoid_network),\n",
    "    (\"standard_relu\", create_standard_relu_network),\n",
    "]\n",
    "\n",
    "zero_network_funs = [\n",
    "    (\"zeroth_sigmoid\", create_zeroth_sigmoid_network),\n",
    "    (\"zeroth_relu\", create_zeroth_relu_network),\n",
    "]\n"
   ]
  },
  {
   "attachments": {},
   "cell_type": "markdown",
   "metadata": {},
   "source": [
    "### Train and Plot Losses"
   ]
  },
  {
   "cell_type": "code",
   "execution_count": 71,
   "metadata": {},
   "outputs": [],
   "source": [
    "# Training hyperparameters\n",
    "# Training constants\n",
    "LR = 0.01\n",
    "NUM_EPOCH = 250\n",
    "BATCH_SIZE = 64\n",
    "\n",
    "# Loss function\n",
    "loss_func = torch.nn.CrossEntropyLoss()"
   ]
  },
  {
   "cell_type": "code",
   "execution_count": 72,
   "metadata": {},
   "outputs": [],
   "source": [
    "# Plot or save? False => Save\n",
    "plot = False\n",
    "path = \"plots/\""
   ]
  },
  {
   "cell_type": "code",
   "execution_count": 73,
   "metadata": {},
   "outputs": [
    {
     "name": "stdout",
     "output_type": "stream",
     "text": [
      "Network: zeroth_sigmoid, Hidden neurons: 10, Mu: 0.001, N: 1 \n",
      "=========\n"
     ]
    },
    {
     "data": {
      "application/vnd.jupyter.widget-view+json": {
       "model_id": "0b21ad55278d408d9222e35395200238",
       "version_major": 2,
       "version_minor": 0
      },
      "text/plain": [
       "method:   0%|          | 0/4 [00:00<?, ?it/s]"
      ]
     },
     "metadata": {},
     "output_type": "display_data"
    },
    {
     "data": {
      "application/vnd.jupyter.widget-view+json": {
       "model_id": "3c1d05ad4b5c470e92836c976da8264d",
       "version_major": 2,
       "version_minor": 0
      },
      "text/plain": [
       "epoch:   0%|          | 0/250 [00:00<?, ?it/s]"
      ]
     },
     "metadata": {},
     "output_type": "display_data"
    },
    {
     "name": "stdout",
     "output_type": "stream",
     "text": [
      "Epoch [1 / 250] Loss: nan  Accuracy: 1.56 %\n",
      "Epoch [51 / 250] Loss: nan  Accuracy: 1.56 %\n",
      "Epoch [101 / 250] Loss: nan  Accuracy: 1.56 %\n",
      "Epoch [151 / 250] Loss: nan  Accuracy: 1.56 %\n",
      "Epoch [201 / 250] Loss: nan  Accuracy: 1.56 %\n"
     ]
    },
    {
     "data": {
      "application/vnd.jupyter.widget-view+json": {
       "model_id": "89a9fbae582c4cd9b9f3bf074b7796e2",
       "version_major": 2,
       "version_minor": 0
      },
      "text/plain": [
       "epoch:   0%|          | 0/250 [00:00<?, ?it/s]"
      ]
     },
     "metadata": {},
     "output_type": "display_data"
    },
    {
     "name": "stdout",
     "output_type": "stream",
     "text": [
      "Epoch [1 / 250] Loss: 2.4757  Accuracy: 4.69 %\n",
      "Epoch [51 / 250] Loss: 5.4675  Accuracy: 9.38 %\n",
      "Epoch [101 / 250] Loss: 11.2685  Accuracy: 3.12 %\n",
      "Epoch [151 / 250] Loss: 13.9313  Accuracy: 7.81 %\n",
      "Epoch [201 / 250] Loss: 15.4491  Accuracy: 25.00 %\n"
     ]
    },
    {
     "data": {
      "application/vnd.jupyter.widget-view+json": {
       "model_id": "105c83c598354ddab219d3a4f4dc4a73",
       "version_major": 2,
       "version_minor": 0
      },
      "text/plain": [
       "epoch:   0%|          | 0/250 [00:00<?, ?it/s]"
      ]
     },
     "metadata": {},
     "output_type": "display_data"
    },
    {
     "name": "stdout",
     "output_type": "stream",
     "text": [
      "Epoch [1 / 250] Loss: 2.3998  Accuracy: 10.94 %\n",
      "Epoch [51 / 250] Loss: 2.7966  Accuracy: 1.56 %\n",
      "Epoch [101 / 250] Loss: 7.1160  Accuracy: 1.56 %\n",
      "Epoch [151 / 250] Loss: 14.2145  Accuracy: 1.56 %\n",
      "Epoch [201 / 250] Loss: 21.0576  Accuracy: 1.56 %\n"
     ]
    },
    {
     "data": {
      "application/vnd.jupyter.widget-view+json": {
       "model_id": "966d5b15e377453ea1c35d0fcf04381b",
       "version_major": 2,
       "version_minor": 0
      },
      "text/plain": [
       "epoch:   0%|          | 0/250 [00:00<?, ?it/s]"
      ]
     },
     "metadata": {},
     "output_type": "display_data"
    },
    {
     "name": "stdout",
     "output_type": "stream",
     "text": [
      "Epoch [1 / 250] Loss: 2.1725  Accuracy: 40.62 %\n",
      "Epoch [51 / 250] Loss: 0.4971  Accuracy: 89.06 %\n",
      "Epoch [101 / 250] Loss: 0.3899  Accuracy: 89.06 %\n",
      "Epoch [151 / 250] Loss: 0.3291  Accuracy: 90.62 %\n",
      "Epoch [201 / 250] Loss: 0.2925  Accuracy: 90.62 %\n",
      "Network: zeroth_sigmoid, Hidden neurons: 10, Mu: 0.001, N: 5 \n",
      "=========\n"
     ]
    },
    {
     "data": {
      "application/vnd.jupyter.widget-view+json": {
       "model_id": "f84105d1a56e49e7b64d84482160f736",
       "version_major": 2,
       "version_minor": 0
      },
      "text/plain": [
       "method:   0%|          | 0/4 [00:00<?, ?it/s]"
      ]
     },
     "metadata": {},
     "output_type": "display_data"
    },
    {
     "data": {
      "application/vnd.jupyter.widget-view+json": {
       "model_id": "3c8e0d9181254a2c954cac0dac1c9dce",
       "version_major": 2,
       "version_minor": 0
      },
      "text/plain": [
       "epoch:   0%|          | 0/250 [00:00<?, ?it/s]"
      ]
     },
     "metadata": {},
     "output_type": "display_data"
    },
    {
     "name": "stdout",
     "output_type": "stream",
     "text": [
      "Epoch [1 / 250] Loss: 2.1725  Accuracy: 40.62 %\n",
      "Epoch [51 / 250] Loss: 0.4971  Accuracy: 89.06 %\n",
      "Epoch [101 / 250] Loss: 0.3899  Accuracy: 89.06 %\n",
      "Epoch [151 / 250] Loss: 0.3291  Accuracy: 90.62 %\n",
      "Epoch [201 / 250] Loss: 0.2925  Accuracy: 90.62 %\n"
     ]
    },
    {
     "data": {
      "application/vnd.jupyter.widget-view+json": {
       "model_id": "4875170beb974618949862be30e24880",
       "version_major": 2,
       "version_minor": 0
      },
      "text/plain": [
       "epoch:   0%|          | 0/250 [00:00<?, ?it/s]"
      ]
     },
     "metadata": {},
     "output_type": "display_data"
    },
    {
     "name": "stdout",
     "output_type": "stream",
     "text": [
      "Epoch [1 / 250] Loss: 2.1725  Accuracy: 40.62 %\n",
      "Epoch [51 / 250] Loss: 0.4971  Accuracy: 89.06 %\n",
      "Epoch [101 / 250] Loss: 0.3899  Accuracy: 89.06 %\n",
      "Epoch [151 / 250] Loss: 0.3291  Accuracy: 90.62 %\n",
      "Epoch [201 / 250] Loss: 0.2925  Accuracy: 90.62 %\n"
     ]
    },
    {
     "data": {
      "application/vnd.jupyter.widget-view+json": {
       "model_id": "e793cc6f9fc34ff2bdf1f38347132611",
       "version_major": 2,
       "version_minor": 0
      },
      "text/plain": [
       "epoch:   0%|          | 0/250 [00:00<?, ?it/s]"
      ]
     },
     "metadata": {},
     "output_type": "display_data"
    },
    {
     "name": "stdout",
     "output_type": "stream",
     "text": [
      "Epoch [1 / 250] Loss: 2.1725  Accuracy: 40.62 %\n",
      "Epoch [51 / 250] Loss: 0.4971  Accuracy: 89.06 %\n",
      "Epoch [101 / 250] Loss: 0.3899  Accuracy: 89.06 %\n",
      "Epoch [151 / 250] Loss: 0.3291  Accuracy: 90.62 %\n",
      "Epoch [201 / 250] Loss: 0.2925  Accuracy: 90.62 %\n"
     ]
    },
    {
     "data": {
      "application/vnd.jupyter.widget-view+json": {
       "model_id": "fadb1dadaf144d0eb6e2750846bb433a",
       "version_major": 2,
       "version_minor": 0
      },
      "text/plain": [
       "epoch:   0%|          | 0/250 [00:00<?, ?it/s]"
      ]
     },
     "metadata": {},
     "output_type": "display_data"
    },
    {
     "name": "stdout",
     "output_type": "stream",
     "text": [
      "Epoch [1 / 250] Loss: 2.1725  Accuracy: 40.62 %\n",
      "Epoch [51 / 250] Loss: 0.4971  Accuracy: 89.06 %\n",
      "Epoch [101 / 250] Loss: 0.3899  Accuracy: 89.06 %\n",
      "Epoch [151 / 250] Loss: 0.3291  Accuracy: 90.62 %\n",
      "Epoch [201 / 250] Loss: 0.2925  Accuracy: 90.62 %\n",
      "Network: zeroth_sigmoid, Hidden neurons: 10, Mu: 0.001, N: 9 \n",
      "=========\n"
     ]
    },
    {
     "data": {
      "application/vnd.jupyter.widget-view+json": {
       "model_id": "d15e959e9c4b486da347aa039f9089e7",
       "version_major": 2,
       "version_minor": 0
      },
      "text/plain": [
       "method:   0%|          | 0/4 [00:00<?, ?it/s]"
      ]
     },
     "metadata": {},
     "output_type": "display_data"
    },
    {
     "data": {
      "application/vnd.jupyter.widget-view+json": {
       "model_id": "fc64529ebb00406cb252b99af29a5543",
       "version_major": 2,
       "version_minor": 0
      },
      "text/plain": [
       "epoch:   0%|          | 0/250 [00:00<?, ?it/s]"
      ]
     },
     "metadata": {},
     "output_type": "display_data"
    },
    {
     "name": "stdout",
     "output_type": "stream",
     "text": [
      "Epoch [1 / 250] Loss: 2.1725  Accuracy: 40.62 %\n",
      "Epoch [51 / 250] Loss: 0.4971  Accuracy: 89.06 %\n",
      "Epoch [101 / 250] Loss: 0.3899  Accuracy: 89.06 %\n",
      "Epoch [151 / 250] Loss: 0.3291  Accuracy: 90.62 %\n",
      "Epoch [201 / 250] Loss: 0.2925  Accuracy: 90.62 %\n"
     ]
    },
    {
     "data": {
      "application/vnd.jupyter.widget-view+json": {
       "model_id": "428d9b196ab54fc5839264c5e3199fb6",
       "version_major": 2,
       "version_minor": 0
      },
      "text/plain": [
       "epoch:   0%|          | 0/250 [00:00<?, ?it/s]"
      ]
     },
     "metadata": {},
     "output_type": "display_data"
    },
    {
     "name": "stdout",
     "output_type": "stream",
     "text": [
      "Epoch [1 / 250] Loss: 2.1725  Accuracy: 40.62 %\n",
      "Epoch [51 / 250] Loss: 0.4971  Accuracy: 89.06 %\n",
      "Epoch [101 / 250] Loss: 0.3899  Accuracy: 89.06 %\n",
      "Epoch [151 / 250] Loss: 0.3291  Accuracy: 90.62 %\n",
      "Epoch [201 / 250] Loss: 0.2925  Accuracy: 90.62 %\n"
     ]
    },
    {
     "data": {
      "application/vnd.jupyter.widget-view+json": {
       "model_id": "84d0277ec95f4b9ca3bbe6644b3fc00c",
       "version_major": 2,
       "version_minor": 0
      },
      "text/plain": [
       "epoch:   0%|          | 0/250 [00:00<?, ?it/s]"
      ]
     },
     "metadata": {},
     "output_type": "display_data"
    },
    {
     "name": "stdout",
     "output_type": "stream",
     "text": [
      "Epoch [1 / 250] Loss: 2.1725  Accuracy: 40.62 %\n",
      "Epoch [51 / 250] Loss: 0.4971  Accuracy: 89.06 %\n",
      "Epoch [101 / 250] Loss: 0.3899  Accuracy: 89.06 %\n",
      "Epoch [151 / 250] Loss: 0.3291  Accuracy: 90.62 %\n",
      "Epoch [201 / 250] Loss: 0.2925  Accuracy: 90.62 %\n"
     ]
    },
    {
     "data": {
      "application/vnd.jupyter.widget-view+json": {
       "model_id": "17c531336b0140a4be5d125a1d2a2877",
       "version_major": 2,
       "version_minor": 0
      },
      "text/plain": [
       "epoch:   0%|          | 0/250 [00:00<?, ?it/s]"
      ]
     },
     "metadata": {},
     "output_type": "display_data"
    },
    {
     "name": "stdout",
     "output_type": "stream",
     "text": [
      "Epoch [1 / 250] Loss: 2.1725  Accuracy: 40.62 %\n",
      "Epoch [51 / 250] Loss: 0.4971  Accuracy: 89.06 %\n",
      "Epoch [101 / 250] Loss: 0.3899  Accuracy: 89.06 %\n",
      "Epoch [151 / 250] Loss: 0.3291  Accuracy: 90.62 %\n",
      "Epoch [201 / 250] Loss: 0.2925  Accuracy: 90.62 %\n",
      "Network: zeroth_sigmoid, Hidden neurons: 10, Mu: 0.01, N: 1 \n",
      "=========\n"
     ]
    },
    {
     "data": {
      "application/vnd.jupyter.widget-view+json": {
       "model_id": "1872104c7cf548948feee121731b9ee8",
       "version_major": 2,
       "version_minor": 0
      },
      "text/plain": [
       "method:   0%|          | 0/4 [00:00<?, ?it/s]"
      ]
     },
     "metadata": {},
     "output_type": "display_data"
    },
    {
     "data": {
      "application/vnd.jupyter.widget-view+json": {
       "model_id": "7e1c44b047c64342be0cc9d31d199e8b",
       "version_major": 2,
       "version_minor": 0
      },
      "text/plain": [
       "epoch:   0%|          | 0/250 [00:00<?, ?it/s]"
      ]
     },
     "metadata": {},
     "output_type": "display_data"
    },
    {
     "name": "stdout",
     "output_type": "stream",
     "text": [
      "Epoch [1 / 250] Loss: 2.1725  Accuracy: 40.62 %\n",
      "Epoch [51 / 250] Loss: 0.4971  Accuracy: 89.06 %\n",
      "Epoch [101 / 250] Loss: 0.3899  Accuracy: 89.06 %\n",
      "Epoch [151 / 250] Loss: 0.3291  Accuracy: 90.62 %\n",
      "Epoch [201 / 250] Loss: 0.2925  Accuracy: 90.62 %\n"
     ]
    },
    {
     "data": {
      "application/vnd.jupyter.widget-view+json": {
       "model_id": "aef92c282a1a4678a69016ca1e64106a",
       "version_major": 2,
       "version_minor": 0
      },
      "text/plain": [
       "epoch:   0%|          | 0/250 [00:00<?, ?it/s]"
      ]
     },
     "metadata": {},
     "output_type": "display_data"
    },
    {
     "name": "stdout",
     "output_type": "stream",
     "text": [
      "Epoch [1 / 250] Loss: 2.1725  Accuracy: 40.62 %\n",
      "Epoch [51 / 250] Loss: 0.4971  Accuracy: 89.06 %\n",
      "Epoch [101 / 250] Loss: 0.3899  Accuracy: 89.06 %\n",
      "Epoch [151 / 250] Loss: 0.3291  Accuracy: 90.62 %\n",
      "Epoch [201 / 250] Loss: 0.2925  Accuracy: 90.62 %\n"
     ]
    },
    {
     "data": {
      "application/vnd.jupyter.widget-view+json": {
       "model_id": "f5a1f487f20d4e60a1f46f052a5d1c9a",
       "version_major": 2,
       "version_minor": 0
      },
      "text/plain": [
       "epoch:   0%|          | 0/250 [00:00<?, ?it/s]"
      ]
     },
     "metadata": {},
     "output_type": "display_data"
    },
    {
     "name": "stdout",
     "output_type": "stream",
     "text": [
      "Epoch [1 / 250] Loss: 2.1725  Accuracy: 40.62 %\n",
      "Epoch [51 / 250] Loss: 0.4971  Accuracy: 89.06 %\n",
      "Epoch [101 / 250] Loss: 0.3899  Accuracy: 89.06 %\n",
      "Epoch [151 / 250] Loss: 0.3291  Accuracy: 90.62 %\n",
      "Epoch [201 / 250] Loss: 0.2925  Accuracy: 90.62 %\n"
     ]
    },
    {
     "data": {
      "application/vnd.jupyter.widget-view+json": {
       "model_id": "12fc75a5fd8c48d3b93de83062211b81",
       "version_major": 2,
       "version_minor": 0
      },
      "text/plain": [
       "epoch:   0%|          | 0/250 [00:00<?, ?it/s]"
      ]
     },
     "metadata": {},
     "output_type": "display_data"
    },
    {
     "name": "stdout",
     "output_type": "stream",
     "text": [
      "Epoch [1 / 250] Loss: 2.1725  Accuracy: 40.62 %\n",
      "Epoch [51 / 250] Loss: 0.4971  Accuracy: 89.06 %\n",
      "Epoch [101 / 250] Loss: 0.3899  Accuracy: 89.06 %\n",
      "Epoch [151 / 250] Loss: 0.3291  Accuracy: 90.62 %\n",
      "Epoch [201 / 250] Loss: 0.2925  Accuracy: 90.62 %\n",
      "Network: zeroth_sigmoid, Hidden neurons: 10, Mu: 0.01, N: 5 \n",
      "=========\n"
     ]
    },
    {
     "data": {
      "application/vnd.jupyter.widget-view+json": {
       "model_id": "4998a9d7c9944bfab18e69d919846ab1",
       "version_major": 2,
       "version_minor": 0
      },
      "text/plain": [
       "method:   0%|          | 0/4 [00:00<?, ?it/s]"
      ]
     },
     "metadata": {},
     "output_type": "display_data"
    },
    {
     "data": {
      "application/vnd.jupyter.widget-view+json": {
       "model_id": "1b3a5e2deb8442769bf78257156971a5",
       "version_major": 2,
       "version_minor": 0
      },
      "text/plain": [
       "epoch:   0%|          | 0/250 [00:00<?, ?it/s]"
      ]
     },
     "metadata": {},
     "output_type": "display_data"
    },
    {
     "name": "stdout",
     "output_type": "stream",
     "text": [
      "Epoch [1 / 250] Loss: 2.1725  Accuracy: 40.62 %\n",
      "Epoch [51 / 250] Loss: 0.4971  Accuracy: 89.06 %\n",
      "Epoch [101 / 250] Loss: 0.3899  Accuracy: 89.06 %\n",
      "Epoch [151 / 250] Loss: 0.3291  Accuracy: 90.62 %\n",
      "Epoch [201 / 250] Loss: 0.2925  Accuracy: 90.62 %\n"
     ]
    },
    {
     "data": {
      "application/vnd.jupyter.widget-view+json": {
       "model_id": "0eba58c58caf4fc3be1320293fdd6556",
       "version_major": 2,
       "version_minor": 0
      },
      "text/plain": [
       "epoch:   0%|          | 0/250 [00:00<?, ?it/s]"
      ]
     },
     "metadata": {},
     "output_type": "display_data"
    },
    {
     "name": "stdout",
     "output_type": "stream",
     "text": [
      "Epoch [1 / 250] Loss: 2.1725  Accuracy: 40.62 %\n",
      "Epoch [51 / 250] Loss: 0.4971  Accuracy: 89.06 %\n",
      "Epoch [101 / 250] Loss: 0.3899  Accuracy: 89.06 %\n",
      "Epoch [151 / 250] Loss: 0.3291  Accuracy: 90.62 %\n",
      "Epoch [201 / 250] Loss: 0.2925  Accuracy: 90.62 %\n"
     ]
    },
    {
     "data": {
      "application/vnd.jupyter.widget-view+json": {
       "model_id": "ed940b6cf67a444aaf02ecc58177ea3f",
       "version_major": 2,
       "version_minor": 0
      },
      "text/plain": [
       "epoch:   0%|          | 0/250 [00:00<?, ?it/s]"
      ]
     },
     "metadata": {},
     "output_type": "display_data"
    },
    {
     "name": "stdout",
     "output_type": "stream",
     "text": [
      "Epoch [1 / 250] Loss: 2.1725  Accuracy: 40.62 %\n",
      "Epoch [51 / 250] Loss: 0.4971  Accuracy: 89.06 %\n",
      "Epoch [101 / 250] Loss: 0.3899  Accuracy: 89.06 %\n",
      "Epoch [151 / 250] Loss: 0.3291  Accuracy: 90.62 %\n",
      "Epoch [201 / 250] Loss: 0.2925  Accuracy: 90.62 %\n"
     ]
    },
    {
     "data": {
      "application/vnd.jupyter.widget-view+json": {
       "model_id": "5b69423210454c97958d24b6ee6a9987",
       "version_major": 2,
       "version_minor": 0
      },
      "text/plain": [
       "epoch:   0%|          | 0/250 [00:00<?, ?it/s]"
      ]
     },
     "metadata": {},
     "output_type": "display_data"
    },
    {
     "name": "stdout",
     "output_type": "stream",
     "text": [
      "Epoch [1 / 250] Loss: 2.1725  Accuracy: 40.62 %\n",
      "Epoch [51 / 250] Loss: 0.4971  Accuracy: 89.06 %\n",
      "Epoch [101 / 250] Loss: 0.3899  Accuracy: 89.06 %\n",
      "Epoch [151 / 250] Loss: 0.3291  Accuracy: 90.62 %\n",
      "Epoch [201 / 250] Loss: 0.2925  Accuracy: 90.62 %\n",
      "Network: zeroth_sigmoid, Hidden neurons: 10, Mu: 0.01, N: 9 \n",
      "=========\n"
     ]
    },
    {
     "data": {
      "application/vnd.jupyter.widget-view+json": {
       "model_id": "c17292c7bce041d1b191fe406bb49ce9",
       "version_major": 2,
       "version_minor": 0
      },
      "text/plain": [
       "method:   0%|          | 0/4 [00:00<?, ?it/s]"
      ]
     },
     "metadata": {},
     "output_type": "display_data"
    },
    {
     "data": {
      "application/vnd.jupyter.widget-view+json": {
       "model_id": "103d2dbe6ac2490c9b1bfa80d0c1bbbe",
       "version_major": 2,
       "version_minor": 0
      },
      "text/plain": [
       "epoch:   0%|          | 0/250 [00:00<?, ?it/s]"
      ]
     },
     "metadata": {},
     "output_type": "display_data"
    },
    {
     "name": "stdout",
     "output_type": "stream",
     "text": [
      "Epoch [1 / 250] Loss: 2.1725  Accuracy: 40.62 %\n",
      "Epoch [51 / 250] Loss: 0.4971  Accuracy: 89.06 %\n",
      "Epoch [101 / 250] Loss: 0.3899  Accuracy: 89.06 %\n",
      "Epoch [151 / 250] Loss: 0.3291  Accuracy: 90.62 %\n",
      "Epoch [201 / 250] Loss: 0.2925  Accuracy: 90.62 %\n"
     ]
    },
    {
     "data": {
      "application/vnd.jupyter.widget-view+json": {
       "model_id": "c83cec27318e499a9408ad82b6ff9859",
       "version_major": 2,
       "version_minor": 0
      },
      "text/plain": [
       "epoch:   0%|          | 0/250 [00:00<?, ?it/s]"
      ]
     },
     "metadata": {},
     "output_type": "display_data"
    },
    {
     "name": "stdout",
     "output_type": "stream",
     "text": [
      "Epoch [1 / 250] Loss: 2.1725  Accuracy: 40.62 %\n",
      "Epoch [51 / 250] Loss: 0.4971  Accuracy: 89.06 %\n",
      "Epoch [101 / 250] Loss: 0.3899  Accuracy: 89.06 %\n",
      "Epoch [151 / 250] Loss: 0.3291  Accuracy: 90.62 %\n",
      "Epoch [201 / 250] Loss: 0.2925  Accuracy: 90.62 %\n"
     ]
    },
    {
     "data": {
      "application/vnd.jupyter.widget-view+json": {
       "model_id": "0a70366e7aa14d7ab6eb749a258ee0cc",
       "version_major": 2,
       "version_minor": 0
      },
      "text/plain": [
       "epoch:   0%|          | 0/250 [00:00<?, ?it/s]"
      ]
     },
     "metadata": {},
     "output_type": "display_data"
    },
    {
     "name": "stdout",
     "output_type": "stream",
     "text": [
      "Epoch [1 / 250] Loss: 2.1725  Accuracy: 40.62 %\n",
      "Epoch [51 / 250] Loss: 0.4971  Accuracy: 89.06 %\n",
      "Epoch [101 / 250] Loss: 0.3899  Accuracy: 89.06 %\n",
      "Epoch [151 / 250] Loss: 0.3291  Accuracy: 90.62 %\n",
      "Epoch [201 / 250] Loss: 0.2925  Accuracy: 90.62 %\n"
     ]
    },
    {
     "data": {
      "application/vnd.jupyter.widget-view+json": {
       "model_id": "5426b6668d8842319c502d3ab1fae5d1",
       "version_major": 2,
       "version_minor": 0
      },
      "text/plain": [
       "epoch:   0%|          | 0/250 [00:00<?, ?it/s]"
      ]
     },
     "metadata": {},
     "output_type": "display_data"
    },
    {
     "name": "stdout",
     "output_type": "stream",
     "text": [
      "Epoch [1 / 250] Loss: 2.1725  Accuracy: 40.62 %\n",
      "Epoch [51 / 250] Loss: 0.4971  Accuracy: 89.06 %\n",
      "Epoch [101 / 250] Loss: 0.3899  Accuracy: 89.06 %\n",
      "Epoch [151 / 250] Loss: 0.3291  Accuracy: 90.62 %\n",
      "Epoch [201 / 250] Loss: 0.2925  Accuracy: 90.62 %\n",
      "Network: zeroth_sigmoid, Hidden neurons: 10, Mu: 0.1, N: 1 \n",
      "=========\n"
     ]
    },
    {
     "data": {
      "application/vnd.jupyter.widget-view+json": {
       "model_id": "d41ebcf8c2e84c4f93914773533afd09",
       "version_major": 2,
       "version_minor": 0
      },
      "text/plain": [
       "method:   0%|          | 0/4 [00:00<?, ?it/s]"
      ]
     },
     "metadata": {},
     "output_type": "display_data"
    },
    {
     "data": {
      "application/vnd.jupyter.widget-view+json": {
       "model_id": "f96f60de9dba4101aad5f7a1787d52fe",
       "version_major": 2,
       "version_minor": 0
      },
      "text/plain": [
       "epoch:   0%|          | 0/250 [00:00<?, ?it/s]"
      ]
     },
     "metadata": {},
     "output_type": "display_data"
    },
    {
     "name": "stdout",
     "output_type": "stream",
     "text": [
      "Epoch [1 / 250] Loss: 2.1725  Accuracy: 40.62 %\n",
      "Epoch [51 / 250] Loss: 0.4971  Accuracy: 89.06 %\n",
      "Epoch [101 / 250] Loss: 0.3899  Accuracy: 89.06 %\n",
      "Epoch [151 / 250] Loss: 0.3291  Accuracy: 90.62 %\n",
      "Epoch [201 / 250] Loss: 0.2925  Accuracy: 90.62 %\n"
     ]
    },
    {
     "data": {
      "application/vnd.jupyter.widget-view+json": {
       "model_id": "4ecfa0177fdd4fc4b36ccd4b610f0489",
       "version_major": 2,
       "version_minor": 0
      },
      "text/plain": [
       "epoch:   0%|          | 0/250 [00:00<?, ?it/s]"
      ]
     },
     "metadata": {},
     "output_type": "display_data"
    },
    {
     "name": "stdout",
     "output_type": "stream",
     "text": [
      "Epoch [1 / 250] Loss: 2.1725  Accuracy: 40.62 %\n",
      "Epoch [51 / 250] Loss: 0.4971  Accuracy: 89.06 %\n",
      "Epoch [101 / 250] Loss: 0.3899  Accuracy: 89.06 %\n",
      "Epoch [151 / 250] Loss: 0.3291  Accuracy: 90.62 %\n",
      "Epoch [201 / 250] Loss: 0.2925  Accuracy: 90.62 %\n"
     ]
    },
    {
     "data": {
      "application/vnd.jupyter.widget-view+json": {
       "model_id": "1ca3ef355c53411fadf60ccf0fd65c55",
       "version_major": 2,
       "version_minor": 0
      },
      "text/plain": [
       "epoch:   0%|          | 0/250 [00:00<?, ?it/s]"
      ]
     },
     "metadata": {},
     "output_type": "display_data"
    },
    {
     "name": "stdout",
     "output_type": "stream",
     "text": [
      "Epoch [1 / 250] Loss: 2.1725  Accuracy: 40.62 %\n",
      "Epoch [51 / 250] Loss: 0.4971  Accuracy: 89.06 %\n",
      "Epoch [101 / 250] Loss: 0.3899  Accuracy: 89.06 %\n",
      "Epoch [151 / 250] Loss: 0.3291  Accuracy: 90.62 %\n",
      "Epoch [201 / 250] Loss: 0.2925  Accuracy: 90.62 %\n"
     ]
    },
    {
     "data": {
      "application/vnd.jupyter.widget-view+json": {
       "model_id": "41f2c533b4e14bb7b9ac970a9ac2ffa1",
       "version_major": 2,
       "version_minor": 0
      },
      "text/plain": [
       "epoch:   0%|          | 0/250 [00:00<?, ?it/s]"
      ]
     },
     "metadata": {},
     "output_type": "display_data"
    },
    {
     "name": "stdout",
     "output_type": "stream",
     "text": [
      "Epoch [1 / 250] Loss: 2.1725  Accuracy: 40.62 %\n",
      "Epoch [51 / 250] Loss: 0.4971  Accuracy: 89.06 %\n",
      "Epoch [101 / 250] Loss: 0.3899  Accuracy: 89.06 %\n",
      "Epoch [151 / 250] Loss: 0.3291  Accuracy: 90.62 %\n",
      "Epoch [201 / 250] Loss: 0.2925  Accuracy: 90.62 %\n",
      "Network: zeroth_sigmoid, Hidden neurons: 10, Mu: 0.1, N: 5 \n",
      "=========\n"
     ]
    },
    {
     "data": {
      "application/vnd.jupyter.widget-view+json": {
       "model_id": "98785e2046f244cfb4fbf5cf0a24c392",
       "version_major": 2,
       "version_minor": 0
      },
      "text/plain": [
       "method:   0%|          | 0/4 [00:00<?, ?it/s]"
      ]
     },
     "metadata": {},
     "output_type": "display_data"
    },
    {
     "data": {
      "application/vnd.jupyter.widget-view+json": {
       "model_id": "4fe8259f8f65491d96fce9b2448f8e73",
       "version_major": 2,
       "version_minor": 0
      },
      "text/plain": [
       "epoch:   0%|          | 0/250 [00:00<?, ?it/s]"
      ]
     },
     "metadata": {},
     "output_type": "display_data"
    },
    {
     "name": "stdout",
     "output_type": "stream",
     "text": [
      "Epoch [1 / 250] Loss: 2.1725  Accuracy: 40.62 %\n",
      "Epoch [51 / 250] Loss: 0.4971  Accuracy: 89.06 %\n",
      "Epoch [101 / 250] Loss: 0.3899  Accuracy: 89.06 %\n",
      "Epoch [151 / 250] Loss: 0.3291  Accuracy: 90.62 %\n",
      "Epoch [201 / 250] Loss: 0.2925  Accuracy: 90.62 %\n"
     ]
    },
    {
     "data": {
      "application/vnd.jupyter.widget-view+json": {
       "model_id": "3392b518d3f5490799fc69499fb6daef",
       "version_major": 2,
       "version_minor": 0
      },
      "text/plain": [
       "epoch:   0%|          | 0/250 [00:00<?, ?it/s]"
      ]
     },
     "metadata": {},
     "output_type": "display_data"
    },
    {
     "name": "stdout",
     "output_type": "stream",
     "text": [
      "Epoch [1 / 250] Loss: 2.1725  Accuracy: 40.62 %\n",
      "Epoch [51 / 250] Loss: 0.4971  Accuracy: 89.06 %\n",
      "Epoch [101 / 250] Loss: 0.3899  Accuracy: 89.06 %\n",
      "Epoch [151 / 250] Loss: 0.3291  Accuracy: 90.62 %\n",
      "Epoch [201 / 250] Loss: 0.2925  Accuracy: 90.62 %\n"
     ]
    },
    {
     "data": {
      "application/vnd.jupyter.widget-view+json": {
       "model_id": "43bd74a57e8944829f22f5b52e6b2c82",
       "version_major": 2,
       "version_minor": 0
      },
      "text/plain": [
       "epoch:   0%|          | 0/250 [00:00<?, ?it/s]"
      ]
     },
     "metadata": {},
     "output_type": "display_data"
    },
    {
     "name": "stdout",
     "output_type": "stream",
     "text": [
      "Epoch [1 / 250] Loss: 2.1725  Accuracy: 40.62 %\n",
      "Epoch [51 / 250] Loss: 0.4971  Accuracy: 89.06 %\n",
      "Epoch [101 / 250] Loss: 0.3899  Accuracy: 89.06 %\n",
      "Epoch [151 / 250] Loss: 0.3291  Accuracy: 90.62 %\n",
      "Epoch [201 / 250] Loss: 0.2925  Accuracy: 90.62 %\n"
     ]
    },
    {
     "data": {
      "application/vnd.jupyter.widget-view+json": {
       "model_id": "7e03f35a38f04e9f8cdb1f50b2fe9889",
       "version_major": 2,
       "version_minor": 0
      },
      "text/plain": [
       "epoch:   0%|          | 0/250 [00:00<?, ?it/s]"
      ]
     },
     "metadata": {},
     "output_type": "display_data"
    },
    {
     "name": "stdout",
     "output_type": "stream",
     "text": [
      "Epoch [1 / 250] Loss: 2.1725  Accuracy: 40.62 %\n",
      "Epoch [51 / 250] Loss: 0.4971  Accuracy: 89.06 %\n",
      "Epoch [101 / 250] Loss: 0.3899  Accuracy: 89.06 %\n",
      "Epoch [151 / 250] Loss: 0.3291  Accuracy: 90.62 %\n",
      "Epoch [201 / 250] Loss: 0.2925  Accuracy: 90.62 %\n",
      "Network: zeroth_sigmoid, Hidden neurons: 10, Mu: 0.1, N: 9 \n",
      "=========\n"
     ]
    },
    {
     "data": {
      "application/vnd.jupyter.widget-view+json": {
       "model_id": "fde7b3cf14304d5e895b2b036e714c6c",
       "version_major": 2,
       "version_minor": 0
      },
      "text/plain": [
       "method:   0%|          | 0/4 [00:00<?, ?it/s]"
      ]
     },
     "metadata": {},
     "output_type": "display_data"
    },
    {
     "data": {
      "application/vnd.jupyter.widget-view+json": {
       "model_id": "d7c3b4e9cd604835b505bdc95e2eec3a",
       "version_major": 2,
       "version_minor": 0
      },
      "text/plain": [
       "epoch:   0%|          | 0/250 [00:00<?, ?it/s]"
      ]
     },
     "metadata": {},
     "output_type": "display_data"
    },
    {
     "name": "stdout",
     "output_type": "stream",
     "text": [
      "Epoch [1 / 250] Loss: 2.1725  Accuracy: 40.62 %\n",
      "Epoch [51 / 250] Loss: 0.4971  Accuracy: 89.06 %\n",
      "Epoch [101 / 250] Loss: 0.3899  Accuracy: 89.06 %\n",
      "Epoch [151 / 250] Loss: 0.3291  Accuracy: 90.62 %\n",
      "Epoch [201 / 250] Loss: 0.2925  Accuracy: 90.62 %\n"
     ]
    },
    {
     "data": {
      "application/vnd.jupyter.widget-view+json": {
       "model_id": "33d5b14aa0bb4f19836bbded7e965098",
       "version_major": 2,
       "version_minor": 0
      },
      "text/plain": [
       "epoch:   0%|          | 0/250 [00:00<?, ?it/s]"
      ]
     },
     "metadata": {},
     "output_type": "display_data"
    },
    {
     "name": "stdout",
     "output_type": "stream",
     "text": [
      "Epoch [1 / 250] Loss: 2.1725  Accuracy: 40.62 %\n",
      "Epoch [51 / 250] Loss: 0.4971  Accuracy: 89.06 %\n",
      "Epoch [101 / 250] Loss: 0.3899  Accuracy: 89.06 %\n",
      "Epoch [151 / 250] Loss: 0.3291  Accuracy: 90.62 %\n",
      "Epoch [201 / 250] Loss: 0.2925  Accuracy: 90.62 %\n"
     ]
    },
    {
     "data": {
      "application/vnd.jupyter.widget-view+json": {
       "model_id": "974e3e1bf7f54462ae0085066b110bdb",
       "version_major": 2,
       "version_minor": 0
      },
      "text/plain": [
       "epoch:   0%|          | 0/250 [00:00<?, ?it/s]"
      ]
     },
     "metadata": {},
     "output_type": "display_data"
    },
    {
     "name": "stdout",
     "output_type": "stream",
     "text": [
      "Epoch [1 / 250] Loss: 2.1725  Accuracy: 40.62 %\n",
      "Epoch [51 / 250] Loss: 0.4971  Accuracy: 89.06 %\n",
      "Epoch [101 / 250] Loss: 0.3899  Accuracy: 89.06 %\n",
      "Epoch [151 / 250] Loss: 0.3291  Accuracy: 90.62 %\n",
      "Epoch [201 / 250] Loss: 0.2925  Accuracy: 90.62 %\n"
     ]
    },
    {
     "data": {
      "application/vnd.jupyter.widget-view+json": {
       "model_id": "cbd6622ebc3a459cb3aa8098f5ca1cf9",
       "version_major": 2,
       "version_minor": 0
      },
      "text/plain": [
       "epoch:   0%|          | 0/250 [00:00<?, ?it/s]"
      ]
     },
     "metadata": {},
     "output_type": "display_data"
    },
    {
     "name": "stdout",
     "output_type": "stream",
     "text": [
      "Epoch [1 / 250] Loss: 2.1725  Accuracy: 40.62 %\n",
      "Epoch [51 / 250] Loss: 0.4971  Accuracy: 89.06 %\n",
      "Epoch [101 / 250] Loss: 0.3899  Accuracy: 89.06 %\n",
      "Epoch [151 / 250] Loss: 0.3291  Accuracy: 90.62 %\n",
      "Epoch [201 / 250] Loss: 0.2925  Accuracy: 90.62 %\n",
      "Network: zeroth_sigmoid, Hidden neurons: 16, Mu: 0.001, N: 1 \n",
      "=========\n"
     ]
    },
    {
     "data": {
      "application/vnd.jupyter.widget-view+json": {
       "model_id": "e548e0435d9a44509b28b0801e2bb4a6",
       "version_major": 2,
       "version_minor": 0
      },
      "text/plain": [
       "method:   0%|          | 0/4 [00:00<?, ?it/s]"
      ]
     },
     "metadata": {},
     "output_type": "display_data"
    },
    {
     "data": {
      "application/vnd.jupyter.widget-view+json": {
       "model_id": "451861aa27a04adfbdc59cb4d382419b",
       "version_major": 2,
       "version_minor": 0
      },
      "text/plain": [
       "epoch:   0%|          | 0/250 [00:00<?, ?it/s]"
      ]
     },
     "metadata": {},
     "output_type": "display_data"
    },
    {
     "name": "stdout",
     "output_type": "stream",
     "text": [
      "Epoch [1 / 250] Loss: 2.2174  Accuracy: 43.75 %\n",
      "Epoch [51 / 250] Loss: 0.3260  Accuracy: 93.75 %\n",
      "Epoch [101 / 250] Loss: 0.2044  Accuracy: 98.44 %\n",
      "Epoch [151 / 250] Loss: 0.1648  Accuracy: 96.88 %\n",
      "Epoch [201 / 250] Loss: 0.1481  Accuracy: 96.88 %\n"
     ]
    },
    {
     "data": {
      "application/vnd.jupyter.widget-view+json": {
       "model_id": "c9eb7f0d69de42c494c3dbf9dd20a04b",
       "version_major": 2,
       "version_minor": 0
      },
      "text/plain": [
       "epoch:   0%|          | 0/250 [00:00<?, ?it/s]"
      ]
     },
     "metadata": {},
     "output_type": "display_data"
    },
    {
     "name": "stdout",
     "output_type": "stream",
     "text": [
      "Epoch [1 / 250] Loss: 2.2174  Accuracy: 43.75 %\n",
      "Epoch [51 / 250] Loss: 0.3260  Accuracy: 93.75 %\n",
      "Epoch [101 / 250] Loss: 0.2044  Accuracy: 98.44 %\n",
      "Epoch [151 / 250] Loss: 0.1648  Accuracy: 96.88 %\n",
      "Epoch [201 / 250] Loss: 0.1481  Accuracy: 96.88 %\n"
     ]
    },
    {
     "data": {
      "application/vnd.jupyter.widget-view+json": {
       "model_id": "276d8a9d7a2f44f4abfc732d7f55e9e9",
       "version_major": 2,
       "version_minor": 0
      },
      "text/plain": [
       "epoch:   0%|          | 0/250 [00:00<?, ?it/s]"
      ]
     },
     "metadata": {},
     "output_type": "display_data"
    },
    {
     "name": "stdout",
     "output_type": "stream",
     "text": [
      "Epoch [1 / 250] Loss: 2.2174  Accuracy: 43.75 %\n",
      "Epoch [51 / 250] Loss: 0.3260  Accuracy: 93.75 %\n",
      "Epoch [101 / 250] Loss: 0.2044  Accuracy: 98.44 %\n",
      "Epoch [151 / 250] Loss: 0.1648  Accuracy: 96.88 %\n",
      "Epoch [201 / 250] Loss: 0.1481  Accuracy: 96.88 %\n"
     ]
    },
    {
     "data": {
      "application/vnd.jupyter.widget-view+json": {
       "model_id": "126f97c7ac9b4575b8ce465c9bb1edb3",
       "version_major": 2,
       "version_minor": 0
      },
      "text/plain": [
       "epoch:   0%|          | 0/250 [00:00<?, ?it/s]"
      ]
     },
     "metadata": {},
     "output_type": "display_data"
    },
    {
     "name": "stdout",
     "output_type": "stream",
     "text": [
      "Epoch [1 / 250] Loss: 2.2174  Accuracy: 43.75 %\n",
      "Epoch [51 / 250] Loss: 0.3260  Accuracy: 93.75 %\n",
      "Epoch [101 / 250] Loss: 0.2044  Accuracy: 98.44 %\n",
      "Epoch [151 / 250] Loss: 0.1648  Accuracy: 96.88 %\n",
      "Epoch [201 / 250] Loss: 0.1481  Accuracy: 96.88 %\n",
      "Network: zeroth_sigmoid, Hidden neurons: 16, Mu: 0.001, N: 5 \n",
      "=========\n"
     ]
    },
    {
     "data": {
      "application/vnd.jupyter.widget-view+json": {
       "model_id": "32dcc565c521415e8aa982032cadd5fe",
       "version_major": 2,
       "version_minor": 0
      },
      "text/plain": [
       "method:   0%|          | 0/4 [00:00<?, ?it/s]"
      ]
     },
     "metadata": {},
     "output_type": "display_data"
    },
    {
     "data": {
      "application/vnd.jupyter.widget-view+json": {
       "model_id": "be29d7082f8b461399036424fa158987",
       "version_major": 2,
       "version_minor": 0
      },
      "text/plain": [
       "epoch:   0%|          | 0/250 [00:00<?, ?it/s]"
      ]
     },
     "metadata": {},
     "output_type": "display_data"
    },
    {
     "name": "stdout",
     "output_type": "stream",
     "text": [
      "Epoch [1 / 250] Loss: 2.2174  Accuracy: 43.75 %\n",
      "Epoch [51 / 250] Loss: 0.3260  Accuracy: 93.75 %\n",
      "Epoch [101 / 250] Loss: 0.2044  Accuracy: 98.44 %\n",
      "Epoch [151 / 250] Loss: 0.1648  Accuracy: 96.88 %\n",
      "Epoch [201 / 250] Loss: 0.1481  Accuracy: 96.88 %\n"
     ]
    },
    {
     "data": {
      "application/vnd.jupyter.widget-view+json": {
       "model_id": "ae1c47d61741404db2ad5430433dab2d",
       "version_major": 2,
       "version_minor": 0
      },
      "text/plain": [
       "epoch:   0%|          | 0/250 [00:00<?, ?it/s]"
      ]
     },
     "metadata": {},
     "output_type": "display_data"
    },
    {
     "name": "stdout",
     "output_type": "stream",
     "text": [
      "Epoch [1 / 250] Loss: 2.2174  Accuracy: 43.75 %\n",
      "Epoch [51 / 250] Loss: 0.3260  Accuracy: 93.75 %\n",
      "Epoch [101 / 250] Loss: 0.2044  Accuracy: 98.44 %\n",
      "Epoch [151 / 250] Loss: 0.1648  Accuracy: 96.88 %\n",
      "Epoch [201 / 250] Loss: 0.1481  Accuracy: 96.88 %\n"
     ]
    },
    {
     "data": {
      "application/vnd.jupyter.widget-view+json": {
       "model_id": "ce3bb39650a54f50aac1ff4c54e0c186",
       "version_major": 2,
       "version_minor": 0
      },
      "text/plain": [
       "epoch:   0%|          | 0/250 [00:00<?, ?it/s]"
      ]
     },
     "metadata": {},
     "output_type": "display_data"
    },
    {
     "name": "stdout",
     "output_type": "stream",
     "text": [
      "Epoch [1 / 250] Loss: 2.2174  Accuracy: 43.75 %\n",
      "Epoch [51 / 250] Loss: 0.3260  Accuracy: 93.75 %\n",
      "Epoch [101 / 250] Loss: 0.2044  Accuracy: 98.44 %\n",
      "Epoch [151 / 250] Loss: 0.1648  Accuracy: 96.88 %\n",
      "Epoch [201 / 250] Loss: 0.1481  Accuracy: 96.88 %\n"
     ]
    },
    {
     "data": {
      "application/vnd.jupyter.widget-view+json": {
       "model_id": "dd356531e03e478e8968b33a791c0401",
       "version_major": 2,
       "version_minor": 0
      },
      "text/plain": [
       "epoch:   0%|          | 0/250 [00:00<?, ?it/s]"
      ]
     },
     "metadata": {},
     "output_type": "display_data"
    },
    {
     "name": "stdout",
     "output_type": "stream",
     "text": [
      "Epoch [1 / 250] Loss: 2.2174  Accuracy: 43.75 %\n",
      "Epoch [51 / 250] Loss: 0.3260  Accuracy: 93.75 %\n",
      "Epoch [101 / 250] Loss: 0.2044  Accuracy: 98.44 %\n",
      "Epoch [151 / 250] Loss: 0.1648  Accuracy: 96.88 %\n",
      "Epoch [201 / 250] Loss: 0.1481  Accuracy: 96.88 %\n",
      "Network: zeroth_sigmoid, Hidden neurons: 16, Mu: 0.001, N: 9 \n",
      "=========\n"
     ]
    },
    {
     "data": {
      "application/vnd.jupyter.widget-view+json": {
       "model_id": "eedfdf4ed39d4ce28527fec5edf1c7b3",
       "version_major": 2,
       "version_minor": 0
      },
      "text/plain": [
       "method:   0%|          | 0/4 [00:00<?, ?it/s]"
      ]
     },
     "metadata": {},
     "output_type": "display_data"
    },
    {
     "data": {
      "application/vnd.jupyter.widget-view+json": {
       "model_id": "91fabfe77a764751b2a08324f3e1ae00",
       "version_major": 2,
       "version_minor": 0
      },
      "text/plain": [
       "epoch:   0%|          | 0/250 [00:00<?, ?it/s]"
      ]
     },
     "metadata": {},
     "output_type": "display_data"
    },
    {
     "name": "stdout",
     "output_type": "stream",
     "text": [
      "Epoch [1 / 250] Loss: 2.2174  Accuracy: 43.75 %\n",
      "Epoch [51 / 250] Loss: 0.3260  Accuracy: 93.75 %\n",
      "Epoch [101 / 250] Loss: 0.2044  Accuracy: 98.44 %\n",
      "Epoch [151 / 250] Loss: 0.1648  Accuracy: 96.88 %\n",
      "Epoch [201 / 250] Loss: 0.1481  Accuracy: 96.88 %\n"
     ]
    },
    {
     "data": {
      "application/vnd.jupyter.widget-view+json": {
       "model_id": "f907d30632bf40758fdf3126a47ae73f",
       "version_major": 2,
       "version_minor": 0
      },
      "text/plain": [
       "epoch:   0%|          | 0/250 [00:00<?, ?it/s]"
      ]
     },
     "metadata": {},
     "output_type": "display_data"
    },
    {
     "name": "stdout",
     "output_type": "stream",
     "text": [
      "Epoch [1 / 250] Loss: 2.2174  Accuracy: 43.75 %\n",
      "Epoch [51 / 250] Loss: 0.3260  Accuracy: 93.75 %\n",
      "Epoch [101 / 250] Loss: 0.2044  Accuracy: 98.44 %\n",
      "Epoch [151 / 250] Loss: 0.1648  Accuracy: 96.88 %\n",
      "Epoch [201 / 250] Loss: 0.1481  Accuracy: 96.88 %\n"
     ]
    },
    {
     "data": {
      "application/vnd.jupyter.widget-view+json": {
       "model_id": "ddcf1d7c70884c6bb12fb0588ca05c33",
       "version_major": 2,
       "version_minor": 0
      },
      "text/plain": [
       "epoch:   0%|          | 0/250 [00:00<?, ?it/s]"
      ]
     },
     "metadata": {},
     "output_type": "display_data"
    },
    {
     "name": "stdout",
     "output_type": "stream",
     "text": [
      "Epoch [1 / 250] Loss: 2.2174  Accuracy: 43.75 %\n",
      "Epoch [51 / 250] Loss: 0.3260  Accuracy: 93.75 %\n",
      "Epoch [101 / 250] Loss: 0.2044  Accuracy: 98.44 %\n",
      "Epoch [151 / 250] Loss: 0.1648  Accuracy: 96.88 %\n",
      "Epoch [201 / 250] Loss: 0.1481  Accuracy: 96.88 %\n"
     ]
    },
    {
     "data": {
      "application/vnd.jupyter.widget-view+json": {
       "model_id": "67da95bac8d4491ea036e6455494db67",
       "version_major": 2,
       "version_minor": 0
      },
      "text/plain": [
       "epoch:   0%|          | 0/250 [00:00<?, ?it/s]"
      ]
     },
     "metadata": {},
     "output_type": "display_data"
    },
    {
     "name": "stdout",
     "output_type": "stream",
     "text": [
      "Epoch [1 / 250] Loss: 2.2174  Accuracy: 43.75 %\n",
      "Epoch [51 / 250] Loss: 0.3260  Accuracy: 93.75 %\n",
      "Epoch [101 / 250] Loss: 0.2044  Accuracy: 98.44 %\n",
      "Epoch [151 / 250] Loss: 0.1648  Accuracy: 96.88 %\n",
      "Epoch [201 / 250] Loss: 0.1481  Accuracy: 96.88 %\n",
      "Network: zeroth_sigmoid, Hidden neurons: 16, Mu: 0.01, N: 1 \n",
      "=========\n"
     ]
    },
    {
     "data": {
      "application/vnd.jupyter.widget-view+json": {
       "model_id": "22b612c00f9040eb90acb04462898f15",
       "version_major": 2,
       "version_minor": 0
      },
      "text/plain": [
       "method:   0%|          | 0/4 [00:00<?, ?it/s]"
      ]
     },
     "metadata": {},
     "output_type": "display_data"
    },
    {
     "data": {
      "application/vnd.jupyter.widget-view+json": {
       "model_id": "33e40239124e4378ba6ef7b134fec557",
       "version_major": 2,
       "version_minor": 0
      },
      "text/plain": [
       "epoch:   0%|          | 0/250 [00:00<?, ?it/s]"
      ]
     },
     "metadata": {},
     "output_type": "display_data"
    },
    {
     "name": "stdout",
     "output_type": "stream",
     "text": [
      "Epoch [1 / 250] Loss: 2.2174  Accuracy: 43.75 %\n",
      "Epoch [51 / 250] Loss: 0.3260  Accuracy: 93.75 %\n",
      "Epoch [101 / 250] Loss: 0.2044  Accuracy: 98.44 %\n",
      "Epoch [151 / 250] Loss: 0.1648  Accuracy: 96.88 %\n",
      "Epoch [201 / 250] Loss: 0.1481  Accuracy: 96.88 %\n"
     ]
    },
    {
     "data": {
      "application/vnd.jupyter.widget-view+json": {
       "model_id": "63f394270a62409c94aaf00445c4fcd8",
       "version_major": 2,
       "version_minor": 0
      },
      "text/plain": [
       "epoch:   0%|          | 0/250 [00:00<?, ?it/s]"
      ]
     },
     "metadata": {},
     "output_type": "display_data"
    },
    {
     "name": "stdout",
     "output_type": "stream",
     "text": [
      "Epoch [1 / 250] Loss: 2.2174  Accuracy: 43.75 %\n",
      "Epoch [51 / 250] Loss: 0.3260  Accuracy: 93.75 %\n",
      "Epoch [101 / 250] Loss: 0.2044  Accuracy: 98.44 %\n",
      "Epoch [151 / 250] Loss: 0.1648  Accuracy: 96.88 %\n",
      "Epoch [201 / 250] Loss: 0.1481  Accuracy: 96.88 %\n"
     ]
    },
    {
     "data": {
      "application/vnd.jupyter.widget-view+json": {
       "model_id": "05c5f566284645a984a2a2888bd9095c",
       "version_major": 2,
       "version_minor": 0
      },
      "text/plain": [
       "epoch:   0%|          | 0/250 [00:00<?, ?it/s]"
      ]
     },
     "metadata": {},
     "output_type": "display_data"
    },
    {
     "name": "stdout",
     "output_type": "stream",
     "text": [
      "Epoch [1 / 250] Loss: 2.2174  Accuracy: 43.75 %\n",
      "Epoch [51 / 250] Loss: 0.3260  Accuracy: 93.75 %\n",
      "Epoch [101 / 250] Loss: 0.2044  Accuracy: 98.44 %\n",
      "Epoch [151 / 250] Loss: 0.1648  Accuracy: 96.88 %\n",
      "Epoch [201 / 250] Loss: 0.1481  Accuracy: 96.88 %\n"
     ]
    },
    {
     "data": {
      "application/vnd.jupyter.widget-view+json": {
       "model_id": "5d8ed2587c2240588af9ecdb6bd983dd",
       "version_major": 2,
       "version_minor": 0
      },
      "text/plain": [
       "epoch:   0%|          | 0/250 [00:00<?, ?it/s]"
      ]
     },
     "metadata": {},
     "output_type": "display_data"
    },
    {
     "name": "stdout",
     "output_type": "stream",
     "text": [
      "Epoch [1 / 250] Loss: 2.2174  Accuracy: 43.75 %\n",
      "Epoch [51 / 250] Loss: 0.3260  Accuracy: 93.75 %\n",
      "Epoch [101 / 250] Loss: 0.2044  Accuracy: 98.44 %\n",
      "Epoch [151 / 250] Loss: 0.1648  Accuracy: 96.88 %\n",
      "Epoch [201 / 250] Loss: 0.1481  Accuracy: 96.88 %\n",
      "Network: zeroth_sigmoid, Hidden neurons: 16, Mu: 0.01, N: 5 \n",
      "=========\n"
     ]
    },
    {
     "data": {
      "application/vnd.jupyter.widget-view+json": {
       "model_id": "1e3f8781123d4babbc502f9e1a38888f",
       "version_major": 2,
       "version_minor": 0
      },
      "text/plain": [
       "method:   0%|          | 0/4 [00:00<?, ?it/s]"
      ]
     },
     "metadata": {},
     "output_type": "display_data"
    },
    {
     "data": {
      "application/vnd.jupyter.widget-view+json": {
       "model_id": "77cec29f48f446cf99e49af4184ec834",
       "version_major": 2,
       "version_minor": 0
      },
      "text/plain": [
       "epoch:   0%|          | 0/250 [00:00<?, ?it/s]"
      ]
     },
     "metadata": {},
     "output_type": "display_data"
    },
    {
     "name": "stdout",
     "output_type": "stream",
     "text": [
      "Epoch [1 / 250] Loss: 2.2174  Accuracy: 43.75 %\n",
      "Epoch [51 / 250] Loss: 0.3260  Accuracy: 93.75 %\n",
      "Epoch [101 / 250] Loss: 0.2044  Accuracy: 98.44 %\n",
      "Epoch [151 / 250] Loss: 0.1648  Accuracy: 96.88 %\n",
      "Epoch [201 / 250] Loss: 0.1481  Accuracy: 96.88 %\n"
     ]
    },
    {
     "data": {
      "application/vnd.jupyter.widget-view+json": {
       "model_id": "d21bb4eee7104ba6a70ef53886e95619",
       "version_major": 2,
       "version_minor": 0
      },
      "text/plain": [
       "epoch:   0%|          | 0/250 [00:00<?, ?it/s]"
      ]
     },
     "metadata": {},
     "output_type": "display_data"
    },
    {
     "name": "stdout",
     "output_type": "stream",
     "text": [
      "Epoch [1 / 250] Loss: 2.2174  Accuracy: 43.75 %\n",
      "Epoch [51 / 250] Loss: 0.3260  Accuracy: 93.75 %\n",
      "Epoch [101 / 250] Loss: 0.2044  Accuracy: 98.44 %\n",
      "Epoch [151 / 250] Loss: 0.1648  Accuracy: 96.88 %\n",
      "Epoch [201 / 250] Loss: 0.1481  Accuracy: 96.88 %\n"
     ]
    },
    {
     "data": {
      "application/vnd.jupyter.widget-view+json": {
       "model_id": "187b063f5a7c488eb707b019914d1686",
       "version_major": 2,
       "version_minor": 0
      },
      "text/plain": [
       "epoch:   0%|          | 0/250 [00:00<?, ?it/s]"
      ]
     },
     "metadata": {},
     "output_type": "display_data"
    },
    {
     "name": "stdout",
     "output_type": "stream",
     "text": [
      "Epoch [1 / 250] Loss: 2.2174  Accuracy: 43.75 %\n",
      "Epoch [51 / 250] Loss: 0.3260  Accuracy: 93.75 %\n",
      "Epoch [101 / 250] Loss: 0.2044  Accuracy: 98.44 %\n",
      "Epoch [151 / 250] Loss: 0.1648  Accuracy: 96.88 %\n",
      "Epoch [201 / 250] Loss: 0.1481  Accuracy: 96.88 %\n"
     ]
    },
    {
     "data": {
      "application/vnd.jupyter.widget-view+json": {
       "model_id": "8365586763134dfaabdb690c0a71df4b",
       "version_major": 2,
       "version_minor": 0
      },
      "text/plain": [
       "epoch:   0%|          | 0/250 [00:00<?, ?it/s]"
      ]
     },
     "metadata": {},
     "output_type": "display_data"
    },
    {
     "name": "stdout",
     "output_type": "stream",
     "text": [
      "Epoch [1 / 250] Loss: 2.2174  Accuracy: 43.75 %\n",
      "Epoch [51 / 250] Loss: 0.3260  Accuracy: 93.75 %\n",
      "Epoch [101 / 250] Loss: 0.2044  Accuracy: 98.44 %\n",
      "Epoch [151 / 250] Loss: 0.1648  Accuracy: 96.88 %\n",
      "Epoch [201 / 250] Loss: 0.1481  Accuracy: 96.88 %\n",
      "Network: zeroth_sigmoid, Hidden neurons: 16, Mu: 0.01, N: 9 \n",
      "=========\n"
     ]
    },
    {
     "data": {
      "application/vnd.jupyter.widget-view+json": {
       "model_id": "492fe635defc45789435d89d79f57c8b",
       "version_major": 2,
       "version_minor": 0
      },
      "text/plain": [
       "method:   0%|          | 0/4 [00:00<?, ?it/s]"
      ]
     },
     "metadata": {},
     "output_type": "display_data"
    },
    {
     "data": {
      "application/vnd.jupyter.widget-view+json": {
       "model_id": "8b59b6bba9d546c294bb32db275c4b6e",
       "version_major": 2,
       "version_minor": 0
      },
      "text/plain": [
       "epoch:   0%|          | 0/250 [00:00<?, ?it/s]"
      ]
     },
     "metadata": {},
     "output_type": "display_data"
    },
    {
     "name": "stdout",
     "output_type": "stream",
     "text": [
      "Epoch [1 / 250] Loss: 2.2174  Accuracy: 43.75 %\n",
      "Epoch [51 / 250] Loss: 0.3260  Accuracy: 93.75 %\n",
      "Epoch [101 / 250] Loss: 0.2044  Accuracy: 98.44 %\n",
      "Epoch [151 / 250] Loss: 0.1648  Accuracy: 96.88 %\n",
      "Epoch [201 / 250] Loss: 0.1481  Accuracy: 96.88 %\n"
     ]
    },
    {
     "data": {
      "application/vnd.jupyter.widget-view+json": {
       "model_id": "51a2b5c8e734423c8c90681ff2231aae",
       "version_major": 2,
       "version_minor": 0
      },
      "text/plain": [
       "epoch:   0%|          | 0/250 [00:00<?, ?it/s]"
      ]
     },
     "metadata": {},
     "output_type": "display_data"
    },
    {
     "name": "stdout",
     "output_type": "stream",
     "text": [
      "Epoch [1 / 250] Loss: 2.2174  Accuracy: 43.75 %\n",
      "Epoch [51 / 250] Loss: 0.3260  Accuracy: 93.75 %\n",
      "Epoch [101 / 250] Loss: 0.2044  Accuracy: 98.44 %\n",
      "Epoch [151 / 250] Loss: 0.1648  Accuracy: 96.88 %\n",
      "Epoch [201 / 250] Loss: 0.1481  Accuracy: 96.88 %\n"
     ]
    },
    {
     "data": {
      "application/vnd.jupyter.widget-view+json": {
       "model_id": "fb3a628a0e27427d9eabf80bfb9141a5",
       "version_major": 2,
       "version_minor": 0
      },
      "text/plain": [
       "epoch:   0%|          | 0/250 [00:00<?, ?it/s]"
      ]
     },
     "metadata": {},
     "output_type": "display_data"
    },
    {
     "name": "stdout",
     "output_type": "stream",
     "text": [
      "Epoch [1 / 250] Loss: 2.2174  Accuracy: 43.75 %\n",
      "Epoch [51 / 250] Loss: 0.3260  Accuracy: 93.75 %\n",
      "Epoch [101 / 250] Loss: 0.2044  Accuracy: 98.44 %\n",
      "Epoch [151 / 250] Loss: 0.1648  Accuracy: 96.88 %\n",
      "Epoch [201 / 250] Loss: 0.1481  Accuracy: 96.88 %\n"
     ]
    },
    {
     "data": {
      "application/vnd.jupyter.widget-view+json": {
       "model_id": "4490413b2a36420aa31ce130df2795c9",
       "version_major": 2,
       "version_minor": 0
      },
      "text/plain": [
       "epoch:   0%|          | 0/250 [00:00<?, ?it/s]"
      ]
     },
     "metadata": {},
     "output_type": "display_data"
    },
    {
     "name": "stdout",
     "output_type": "stream",
     "text": [
      "Epoch [1 / 250] Loss: 2.2174  Accuracy: 43.75 %\n",
      "Epoch [51 / 250] Loss: 0.3260  Accuracy: 93.75 %\n",
      "Epoch [101 / 250] Loss: 0.2044  Accuracy: 98.44 %\n",
      "Epoch [151 / 250] Loss: 0.1648  Accuracy: 96.88 %\n",
      "Epoch [201 / 250] Loss: 0.1481  Accuracy: 96.88 %\n",
      "Network: zeroth_sigmoid, Hidden neurons: 16, Mu: 0.1, N: 1 \n",
      "=========\n"
     ]
    },
    {
     "data": {
      "application/vnd.jupyter.widget-view+json": {
       "model_id": "850fa4a2d22e49e281a63f6d28c51fd9",
       "version_major": 2,
       "version_minor": 0
      },
      "text/plain": [
       "method:   0%|          | 0/4 [00:00<?, ?it/s]"
      ]
     },
     "metadata": {},
     "output_type": "display_data"
    },
    {
     "data": {
      "application/vnd.jupyter.widget-view+json": {
       "model_id": "e7a87cf715d042f78a4f52649126a999",
       "version_major": 2,
       "version_minor": 0
      },
      "text/plain": [
       "epoch:   0%|          | 0/250 [00:00<?, ?it/s]"
      ]
     },
     "metadata": {},
     "output_type": "display_data"
    },
    {
     "name": "stdout",
     "output_type": "stream",
     "text": [
      "Epoch [1 / 250] Loss: 2.2174  Accuracy: 43.75 %\n",
      "Epoch [51 / 250] Loss: 0.3260  Accuracy: 93.75 %\n",
      "Epoch [101 / 250] Loss: 0.2044  Accuracy: 98.44 %\n",
      "Epoch [151 / 250] Loss: 0.1648  Accuracy: 96.88 %\n",
      "Epoch [201 / 250] Loss: 0.1481  Accuracy: 96.88 %\n"
     ]
    },
    {
     "data": {
      "application/vnd.jupyter.widget-view+json": {
       "model_id": "aebad5b2254d482fa12d0cc3b4ac1aac",
       "version_major": 2,
       "version_minor": 0
      },
      "text/plain": [
       "epoch:   0%|          | 0/250 [00:00<?, ?it/s]"
      ]
     },
     "metadata": {},
     "output_type": "display_data"
    },
    {
     "name": "stdout",
     "output_type": "stream",
     "text": [
      "Epoch [1 / 250] Loss: 2.2174  Accuracy: 43.75 %\n",
      "Epoch [51 / 250] Loss: 0.3260  Accuracy: 93.75 %\n",
      "Epoch [101 / 250] Loss: 0.2044  Accuracy: 98.44 %\n",
      "Epoch [151 / 250] Loss: 0.1648  Accuracy: 96.88 %\n",
      "Epoch [201 / 250] Loss: 0.1481  Accuracy: 96.88 %\n"
     ]
    },
    {
     "data": {
      "application/vnd.jupyter.widget-view+json": {
       "model_id": "0143780b81f649c2a284cb22a278ef61",
       "version_major": 2,
       "version_minor": 0
      },
      "text/plain": [
       "epoch:   0%|          | 0/250 [00:00<?, ?it/s]"
      ]
     },
     "metadata": {},
     "output_type": "display_data"
    },
    {
     "name": "stdout",
     "output_type": "stream",
     "text": [
      "Epoch [1 / 250] Loss: 2.2174  Accuracy: 43.75 %\n",
      "Epoch [51 / 250] Loss: 0.3260  Accuracy: 93.75 %\n",
      "Epoch [101 / 250] Loss: 0.2044  Accuracy: 98.44 %\n",
      "Epoch [151 / 250] Loss: 0.1648  Accuracy: 96.88 %\n",
      "Epoch [201 / 250] Loss: 0.1481  Accuracy: 96.88 %\n"
     ]
    },
    {
     "data": {
      "application/vnd.jupyter.widget-view+json": {
       "model_id": "f6f53f6537f04a52a3f5ff022b382163",
       "version_major": 2,
       "version_minor": 0
      },
      "text/plain": [
       "epoch:   0%|          | 0/250 [00:00<?, ?it/s]"
      ]
     },
     "metadata": {},
     "output_type": "display_data"
    },
    {
     "name": "stdout",
     "output_type": "stream",
     "text": [
      "Epoch [1 / 250] Loss: 2.2174  Accuracy: 43.75 %\n",
      "Epoch [51 / 250] Loss: 0.3260  Accuracy: 93.75 %\n",
      "Epoch [101 / 250] Loss: 0.2044  Accuracy: 98.44 %\n",
      "Epoch [151 / 250] Loss: 0.1648  Accuracy: 96.88 %\n",
      "Epoch [201 / 250] Loss: 0.1481  Accuracy: 96.88 %\n",
      "Network: zeroth_sigmoid, Hidden neurons: 16, Mu: 0.1, N: 5 \n",
      "=========\n"
     ]
    },
    {
     "data": {
      "application/vnd.jupyter.widget-view+json": {
       "model_id": "d3baea00acf548538e437edfd8f3e6cc",
       "version_major": 2,
       "version_minor": 0
      },
      "text/plain": [
       "method:   0%|          | 0/4 [00:00<?, ?it/s]"
      ]
     },
     "metadata": {},
     "output_type": "display_data"
    },
    {
     "data": {
      "application/vnd.jupyter.widget-view+json": {
       "model_id": "f4e78f8d26f240599a7d42bec9204d04",
       "version_major": 2,
       "version_minor": 0
      },
      "text/plain": [
       "epoch:   0%|          | 0/250 [00:00<?, ?it/s]"
      ]
     },
     "metadata": {},
     "output_type": "display_data"
    },
    {
     "name": "stdout",
     "output_type": "stream",
     "text": [
      "Epoch [1 / 250] Loss: 2.2174  Accuracy: 43.75 %\n",
      "Epoch [51 / 250] Loss: 0.3260  Accuracy: 93.75 %\n",
      "Epoch [101 / 250] Loss: 0.2044  Accuracy: 98.44 %\n",
      "Epoch [151 / 250] Loss: 0.1648  Accuracy: 96.88 %\n",
      "Epoch [201 / 250] Loss: 0.1481  Accuracy: 96.88 %\n"
     ]
    },
    {
     "data": {
      "application/vnd.jupyter.widget-view+json": {
       "model_id": "2ad07af708e5406ea2f0bd47e5ccc349",
       "version_major": 2,
       "version_minor": 0
      },
      "text/plain": [
       "epoch:   0%|          | 0/250 [00:00<?, ?it/s]"
      ]
     },
     "metadata": {},
     "output_type": "display_data"
    },
    {
     "name": "stdout",
     "output_type": "stream",
     "text": [
      "Epoch [1 / 250] Loss: 2.2174  Accuracy: 43.75 %\n",
      "Epoch [51 / 250] Loss: 0.3260  Accuracy: 93.75 %\n",
      "Epoch [101 / 250] Loss: 0.2044  Accuracy: 98.44 %\n",
      "Epoch [151 / 250] Loss: 0.1648  Accuracy: 96.88 %\n",
      "Epoch [201 / 250] Loss: 0.1481  Accuracy: 96.88 %\n"
     ]
    },
    {
     "data": {
      "application/vnd.jupyter.widget-view+json": {
       "model_id": "4a52a98ea06f40609e63ee6788b767d6",
       "version_major": 2,
       "version_minor": 0
      },
      "text/plain": [
       "epoch:   0%|          | 0/250 [00:00<?, ?it/s]"
      ]
     },
     "metadata": {},
     "output_type": "display_data"
    },
    {
     "name": "stdout",
     "output_type": "stream",
     "text": [
      "Epoch [1 / 250] Loss: 2.2174  Accuracy: 43.75 %\n",
      "Epoch [51 / 250] Loss: 0.3260  Accuracy: 93.75 %\n",
      "Epoch [101 / 250] Loss: 0.2044  Accuracy: 98.44 %\n",
      "Epoch [151 / 250] Loss: 0.1648  Accuracy: 96.88 %\n",
      "Epoch [201 / 250] Loss: 0.1481  Accuracy: 96.88 %\n"
     ]
    },
    {
     "data": {
      "application/vnd.jupyter.widget-view+json": {
       "model_id": "864bd703d06949dfa6202240aa180745",
       "version_major": 2,
       "version_minor": 0
      },
      "text/plain": [
       "epoch:   0%|          | 0/250 [00:00<?, ?it/s]"
      ]
     },
     "metadata": {},
     "output_type": "display_data"
    },
    {
     "name": "stdout",
     "output_type": "stream",
     "text": [
      "Epoch [1 / 250] Loss: 2.2174  Accuracy: 43.75 %\n",
      "Epoch [51 / 250] Loss: 0.3260  Accuracy: 93.75 %\n",
      "Epoch [101 / 250] Loss: 0.2044  Accuracy: 98.44 %\n",
      "Epoch [151 / 250] Loss: 0.1648  Accuracy: 96.88 %\n",
      "Epoch [201 / 250] Loss: 0.1481  Accuracy: 96.88 %\n",
      "Network: zeroth_sigmoid, Hidden neurons: 16, Mu: 0.1, N: 9 \n",
      "=========\n"
     ]
    },
    {
     "data": {
      "application/vnd.jupyter.widget-view+json": {
       "model_id": "7033d54ddb7643fa85550fb60e730f10",
       "version_major": 2,
       "version_minor": 0
      },
      "text/plain": [
       "method:   0%|          | 0/4 [00:00<?, ?it/s]"
      ]
     },
     "metadata": {},
     "output_type": "display_data"
    },
    {
     "data": {
      "application/vnd.jupyter.widget-view+json": {
       "model_id": "64fee5304ab74c07b2f5affa76550ec8",
       "version_major": 2,
       "version_minor": 0
      },
      "text/plain": [
       "epoch:   0%|          | 0/250 [00:00<?, ?it/s]"
      ]
     },
     "metadata": {},
     "output_type": "display_data"
    },
    {
     "name": "stdout",
     "output_type": "stream",
     "text": [
      "Epoch [1 / 250] Loss: 2.2174  Accuracy: 43.75 %\n",
      "Epoch [51 / 250] Loss: 0.3260  Accuracy: 93.75 %\n",
      "Epoch [101 / 250] Loss: 0.2044  Accuracy: 98.44 %\n",
      "Epoch [151 / 250] Loss: 0.1648  Accuracy: 96.88 %\n",
      "Epoch [201 / 250] Loss: 0.1481  Accuracy: 96.88 %\n"
     ]
    },
    {
     "data": {
      "application/vnd.jupyter.widget-view+json": {
       "model_id": "9b0664c3b66545738cebe2ab9d1da160",
       "version_major": 2,
       "version_minor": 0
      },
      "text/plain": [
       "epoch:   0%|          | 0/250 [00:00<?, ?it/s]"
      ]
     },
     "metadata": {},
     "output_type": "display_data"
    },
    {
     "name": "stdout",
     "output_type": "stream",
     "text": [
      "Epoch [1 / 250] Loss: 2.2174  Accuracy: 43.75 %\n",
      "Epoch [51 / 250] Loss: 0.3260  Accuracy: 93.75 %\n",
      "Epoch [101 / 250] Loss: 0.2044  Accuracy: 98.44 %\n",
      "Epoch [151 / 250] Loss: 0.1648  Accuracy: 96.88 %\n",
      "Epoch [201 / 250] Loss: 0.1481  Accuracy: 96.88 %\n"
     ]
    },
    {
     "data": {
      "application/vnd.jupyter.widget-view+json": {
       "model_id": "5f261b70ead8401ca50c025b586fb7cf",
       "version_major": 2,
       "version_minor": 0
      },
      "text/plain": [
       "epoch:   0%|          | 0/250 [00:00<?, ?it/s]"
      ]
     },
     "metadata": {},
     "output_type": "display_data"
    },
    {
     "name": "stdout",
     "output_type": "stream",
     "text": [
      "Epoch [1 / 250] Loss: 2.2174  Accuracy: 43.75 %\n",
      "Epoch [51 / 250] Loss: 0.3260  Accuracy: 93.75 %\n",
      "Epoch [101 / 250] Loss: 0.2044  Accuracy: 98.44 %\n",
      "Epoch [151 / 250] Loss: 0.1648  Accuracy: 96.88 %\n",
      "Epoch [201 / 250] Loss: 0.1481  Accuracy: 96.88 %\n"
     ]
    },
    {
     "data": {
      "application/vnd.jupyter.widget-view+json": {
       "model_id": "e4254a80173b4b62a8e3b5e716d96422",
       "version_major": 2,
       "version_minor": 0
      },
      "text/plain": [
       "epoch:   0%|          | 0/250 [00:00<?, ?it/s]"
      ]
     },
     "metadata": {},
     "output_type": "display_data"
    },
    {
     "name": "stdout",
     "output_type": "stream",
     "text": [
      "Epoch [1 / 250] Loss: 2.2174  Accuracy: 43.75 %\n",
      "Epoch [51 / 250] Loss: 0.3260  Accuracy: 93.75 %\n",
      "Epoch [101 / 250] Loss: 0.2044  Accuracy: 98.44 %\n",
      "Epoch [151 / 250] Loss: 0.1648  Accuracy: 96.88 %\n",
      "Epoch [201 / 250] Loss: 0.1481  Accuracy: 96.88 %\n",
      "Network: zeroth_relu, Hidden neurons: 10, Mu: 0.001, N: 1 \n",
      "=========\n"
     ]
    },
    {
     "data": {
      "application/vnd.jupyter.widget-view+json": {
       "model_id": "90682a5c39464979bfe3f36bfc6610ef",
       "version_major": 2,
       "version_minor": 0
      },
      "text/plain": [
       "method:   0%|          | 0/4 [00:00<?, ?it/s]"
      ]
     },
     "metadata": {},
     "output_type": "display_data"
    },
    {
     "data": {
      "application/vnd.jupyter.widget-view+json": {
       "model_id": "e02ac1e5870e4cd5b49e8b8f41007062",
       "version_major": 2,
       "version_minor": 0
      },
      "text/plain": [
       "epoch:   0%|          | 0/250 [00:00<?, ?it/s]"
      ]
     },
     "metadata": {},
     "output_type": "display_data"
    },
    {
     "name": "stdout",
     "output_type": "stream",
     "text": [
      "Epoch [1 / 250] Loss: nan  Accuracy: 1.56 %\n",
      "Epoch [51 / 250] Loss: nan  Accuracy: 1.56 %\n",
      "Epoch [101 / 250] Loss: nan  Accuracy: 1.56 %\n",
      "Epoch [151 / 250] Loss: nan  Accuracy: 1.56 %\n",
      "Epoch [201 / 250] Loss: nan  Accuracy: 1.56 %\n"
     ]
    },
    {
     "data": {
      "application/vnd.jupyter.widget-view+json": {
       "model_id": "3f4c27cea48949c4a55d8dd796f21e97",
       "version_major": 2,
       "version_minor": 0
      },
      "text/plain": [
       "epoch:   0%|          | 0/250 [00:00<?, ?it/s]"
      ]
     },
     "metadata": {},
     "output_type": "display_data"
    },
    {
     "name": "stdout",
     "output_type": "stream",
     "text": [
      "Epoch [1 / 250] Loss: 188497846.4748  Accuracy: 10.94 %\n",
      "Epoch [51 / 250] Loss: 96795004089.6374  Accuracy: 9.38 %\n",
      "Epoch [101 / 250] Loss: 96795004089.6374  Accuracy: 9.38 %\n",
      "Epoch [151 / 250] Loss: 96795004089.6374  Accuracy: 9.38 %\n",
      "Epoch [201 / 250] Loss: 96795004089.6374  Accuracy: 9.38 %\n"
     ]
    },
    {
     "data": {
      "application/vnd.jupyter.widget-view+json": {
       "model_id": "1525bb8ad43f43989ff9af0359fe55d8",
       "version_major": 2,
       "version_minor": 0
      },
      "text/plain": [
       "epoch:   0%|          | 0/250 [00:00<?, ?it/s]"
      ]
     },
     "metadata": {},
     "output_type": "display_data"
    },
    {
     "name": "stdout",
     "output_type": "stream",
     "text": [
      "Epoch [1 / 250] Loss: 23.3246  Accuracy: 17.19 %\n",
      "Epoch [51 / 250] Loss: 909369223232865.2500  Accuracy: 17.19 %\n",
      "Epoch [101 / 250] Loss: 909369223232865.2500  Accuracy: 17.19 %\n",
      "Epoch [151 / 250] Loss: 909369223232865.2500  Accuracy: 17.19 %\n",
      "Epoch [201 / 250] Loss: 909369223232865.2500  Accuracy: 17.19 %\n"
     ]
    },
    {
     "data": {
      "application/vnd.jupyter.widget-view+json": {
       "model_id": "4c89641b6cf746d6848cd3f635cacf17",
       "version_major": 2,
       "version_minor": 0
      },
      "text/plain": [
       "epoch:   0%|          | 0/250 [00:00<?, ?it/s]"
      ]
     },
     "metadata": {},
     "output_type": "display_data"
    },
    {
     "name": "stdout",
     "output_type": "stream",
     "text": [
      "Epoch [1 / 250] Loss: 1.7406  Accuracy: 53.12 %\n",
      "Epoch [51 / 250] Loss: 0.3625  Accuracy: 90.62 %\n",
      "Epoch [101 / 250] Loss: 0.3294  Accuracy: 90.62 %\n",
      "Epoch [151 / 250] Loss: 0.3167  Accuracy: 93.75 %\n",
      "Epoch [201 / 250] Loss: 0.3098  Accuracy: 90.62 %\n",
      "Network: zeroth_relu, Hidden neurons: 10, Mu: 0.001, N: 5 \n",
      "=========\n"
     ]
    },
    {
     "data": {
      "application/vnd.jupyter.widget-view+json": {
       "model_id": "1cfe1f5057e04a84b333e76123d42f49",
       "version_major": 2,
       "version_minor": 0
      },
      "text/plain": [
       "method:   0%|          | 0/4 [00:00<?, ?it/s]"
      ]
     },
     "metadata": {},
     "output_type": "display_data"
    },
    {
     "data": {
      "application/vnd.jupyter.widget-view+json": {
       "model_id": "69042aad26444533bd4e34a33772a1b5",
       "version_major": 2,
       "version_minor": 0
      },
      "text/plain": [
       "epoch:   0%|          | 0/250 [00:00<?, ?it/s]"
      ]
     },
     "metadata": {},
     "output_type": "display_data"
    },
    {
     "name": "stdout",
     "output_type": "stream",
     "text": [
      "Epoch [1 / 250] Loss: 1.7406  Accuracy: 53.12 %\n",
      "Epoch [51 / 250] Loss: 0.3625  Accuracy: 90.62 %\n",
      "Epoch [101 / 250] Loss: 0.3294  Accuracy: 90.62 %\n",
      "Epoch [151 / 250] Loss: 0.3167  Accuracy: 93.75 %\n",
      "Epoch [201 / 250] Loss: 0.3098  Accuracy: 90.62 %\n"
     ]
    },
    {
     "data": {
      "application/vnd.jupyter.widget-view+json": {
       "model_id": "b20c7184cd214112908c522b9ea37e06",
       "version_major": 2,
       "version_minor": 0
      },
      "text/plain": [
       "epoch:   0%|          | 0/250 [00:00<?, ?it/s]"
      ]
     },
     "metadata": {},
     "output_type": "display_data"
    },
    {
     "name": "stdout",
     "output_type": "stream",
     "text": [
      "Epoch [1 / 250] Loss: 1.7406  Accuracy: 53.12 %\n",
      "Epoch [51 / 250] Loss: 0.3625  Accuracy: 90.62 %\n",
      "Epoch [101 / 250] Loss: 0.3294  Accuracy: 90.62 %\n",
      "Epoch [151 / 250] Loss: 0.3167  Accuracy: 93.75 %\n",
      "Epoch [201 / 250] Loss: 0.3098  Accuracy: 90.62 %\n"
     ]
    },
    {
     "data": {
      "application/vnd.jupyter.widget-view+json": {
       "model_id": "6ee740f82fac47d6a2244213466fa10f",
       "version_major": 2,
       "version_minor": 0
      },
      "text/plain": [
       "epoch:   0%|          | 0/250 [00:00<?, ?it/s]"
      ]
     },
     "metadata": {},
     "output_type": "display_data"
    },
    {
     "name": "stdout",
     "output_type": "stream",
     "text": [
      "Epoch [1 / 250] Loss: 1.7406  Accuracy: 53.12 %\n",
      "Epoch [51 / 250] Loss: 0.3625  Accuracy: 90.62 %\n",
      "Epoch [101 / 250] Loss: 0.3294  Accuracy: 90.62 %\n",
      "Epoch [151 / 250] Loss: 0.3167  Accuracy: 93.75 %\n",
      "Epoch [201 / 250] Loss: 0.3098  Accuracy: 90.62 %\n"
     ]
    },
    {
     "data": {
      "application/vnd.jupyter.widget-view+json": {
       "model_id": "3e12a9a7d88c4c38a56c8687266b2296",
       "version_major": 2,
       "version_minor": 0
      },
      "text/plain": [
       "epoch:   0%|          | 0/250 [00:00<?, ?it/s]"
      ]
     },
     "metadata": {},
     "output_type": "display_data"
    },
    {
     "name": "stdout",
     "output_type": "stream",
     "text": [
      "Epoch [1 / 250] Loss: 1.7406  Accuracy: 53.12 %\n",
      "Epoch [51 / 250] Loss: 0.3625  Accuracy: 90.62 %\n",
      "Epoch [101 / 250] Loss: 0.3294  Accuracy: 90.62 %\n",
      "Epoch [151 / 250] Loss: 0.3167  Accuracy: 93.75 %\n",
      "Epoch [201 / 250] Loss: 0.3098  Accuracy: 90.62 %\n",
      "Network: zeroth_relu, Hidden neurons: 10, Mu: 0.001, N: 9 \n",
      "=========\n"
     ]
    },
    {
     "data": {
      "application/vnd.jupyter.widget-view+json": {
       "model_id": "fe42f2fc34864b8696fac2a2ef620e49",
       "version_major": 2,
       "version_minor": 0
      },
      "text/plain": [
       "method:   0%|          | 0/4 [00:00<?, ?it/s]"
      ]
     },
     "metadata": {},
     "output_type": "display_data"
    },
    {
     "data": {
      "application/vnd.jupyter.widget-view+json": {
       "model_id": "acafd9a7a5d9446f85001cb652a5ef02",
       "version_major": 2,
       "version_minor": 0
      },
      "text/plain": [
       "epoch:   0%|          | 0/250 [00:00<?, ?it/s]"
      ]
     },
     "metadata": {},
     "output_type": "display_data"
    },
    {
     "name": "stdout",
     "output_type": "stream",
     "text": [
      "Epoch [1 / 250] Loss: 1.7406  Accuracy: 53.12 %\n",
      "Epoch [51 / 250] Loss: 0.3625  Accuracy: 90.62 %\n",
      "Epoch [101 / 250] Loss: 0.3294  Accuracy: 90.62 %\n",
      "Epoch [151 / 250] Loss: 0.3167  Accuracy: 93.75 %\n",
      "Epoch [201 / 250] Loss: 0.3098  Accuracy: 90.62 %\n"
     ]
    },
    {
     "data": {
      "application/vnd.jupyter.widget-view+json": {
       "model_id": "74841a3ea76f4b71ab12da3659c1f8c4",
       "version_major": 2,
       "version_minor": 0
      },
      "text/plain": [
       "epoch:   0%|          | 0/250 [00:00<?, ?it/s]"
      ]
     },
     "metadata": {},
     "output_type": "display_data"
    },
    {
     "name": "stdout",
     "output_type": "stream",
     "text": [
      "Epoch [1 / 250] Loss: 1.7406  Accuracy: 53.12 %\n",
      "Epoch [51 / 250] Loss: 0.3625  Accuracy: 90.62 %\n",
      "Epoch [101 / 250] Loss: 0.3294  Accuracy: 90.62 %\n",
      "Epoch [151 / 250] Loss: 0.3167  Accuracy: 93.75 %\n",
      "Epoch [201 / 250] Loss: 0.3098  Accuracy: 90.62 %\n"
     ]
    },
    {
     "data": {
      "application/vnd.jupyter.widget-view+json": {
       "model_id": "d7cba324eb5b494d93b53d51e9a9976e",
       "version_major": 2,
       "version_minor": 0
      },
      "text/plain": [
       "epoch:   0%|          | 0/250 [00:00<?, ?it/s]"
      ]
     },
     "metadata": {},
     "output_type": "display_data"
    },
    {
     "name": "stdout",
     "output_type": "stream",
     "text": [
      "Epoch [1 / 250] Loss: 1.7406  Accuracy: 53.12 %\n",
      "Epoch [51 / 250] Loss: 0.3625  Accuracy: 90.62 %\n",
      "Epoch [101 / 250] Loss: 0.3294  Accuracy: 90.62 %\n",
      "Epoch [151 / 250] Loss: 0.3167  Accuracy: 93.75 %\n",
      "Epoch [201 / 250] Loss: 0.3098  Accuracy: 90.62 %\n"
     ]
    },
    {
     "data": {
      "application/vnd.jupyter.widget-view+json": {
       "model_id": "036412ea686a4eac80917399bade96e1",
       "version_major": 2,
       "version_minor": 0
      },
      "text/plain": [
       "epoch:   0%|          | 0/250 [00:00<?, ?it/s]"
      ]
     },
     "metadata": {},
     "output_type": "display_data"
    },
    {
     "name": "stdout",
     "output_type": "stream",
     "text": [
      "Epoch [1 / 250] Loss: 1.7406  Accuracy: 53.12 %\n",
      "Epoch [51 / 250] Loss: 0.3625  Accuracy: 90.62 %\n",
      "Epoch [101 / 250] Loss: 0.3294  Accuracy: 90.62 %\n",
      "Epoch [151 / 250] Loss: 0.3167  Accuracy: 93.75 %\n",
      "Epoch [201 / 250] Loss: 0.3098  Accuracy: 90.62 %\n",
      "Network: zeroth_relu, Hidden neurons: 10, Mu: 0.01, N: 1 \n",
      "=========\n"
     ]
    },
    {
     "data": {
      "application/vnd.jupyter.widget-view+json": {
       "model_id": "ecfbe1449eb94df5818722e3697c6afe",
       "version_major": 2,
       "version_minor": 0
      },
      "text/plain": [
       "method:   0%|          | 0/4 [00:00<?, ?it/s]"
      ]
     },
     "metadata": {},
     "output_type": "display_data"
    },
    {
     "data": {
      "application/vnd.jupyter.widget-view+json": {
       "model_id": "65b4359938a7448cbbd54c3d49b8c6e9",
       "version_major": 2,
       "version_minor": 0
      },
      "text/plain": [
       "epoch:   0%|          | 0/250 [00:00<?, ?it/s]"
      ]
     },
     "metadata": {},
     "output_type": "display_data"
    },
    {
     "name": "stdout",
     "output_type": "stream",
     "text": [
      "Epoch [1 / 250] Loss: 1.7406  Accuracy: 53.12 %\n",
      "Epoch [51 / 250] Loss: 0.3625  Accuracy: 90.62 %\n",
      "Epoch [101 / 250] Loss: 0.3294  Accuracy: 90.62 %\n",
      "Epoch [151 / 250] Loss: 0.3167  Accuracy: 93.75 %\n",
      "Epoch [201 / 250] Loss: 0.3098  Accuracy: 90.62 %\n"
     ]
    },
    {
     "data": {
      "application/vnd.jupyter.widget-view+json": {
       "model_id": "5608fd58566f471b970e07613516a3eb",
       "version_major": 2,
       "version_minor": 0
      },
      "text/plain": [
       "epoch:   0%|          | 0/250 [00:00<?, ?it/s]"
      ]
     },
     "metadata": {},
     "output_type": "display_data"
    },
    {
     "name": "stdout",
     "output_type": "stream",
     "text": [
      "Epoch [1 / 250] Loss: 1.7406  Accuracy: 53.12 %\n",
      "Epoch [51 / 250] Loss: 0.3625  Accuracy: 90.62 %\n",
      "Epoch [101 / 250] Loss: 0.3294  Accuracy: 90.62 %\n",
      "Epoch [151 / 250] Loss: 0.3167  Accuracy: 93.75 %\n",
      "Epoch [201 / 250] Loss: 0.3098  Accuracy: 90.62 %\n"
     ]
    },
    {
     "data": {
      "application/vnd.jupyter.widget-view+json": {
       "model_id": "8945a54840aa48c186a11ac678e20d29",
       "version_major": 2,
       "version_minor": 0
      },
      "text/plain": [
       "epoch:   0%|          | 0/250 [00:00<?, ?it/s]"
      ]
     },
     "metadata": {},
     "output_type": "display_data"
    },
    {
     "name": "stdout",
     "output_type": "stream",
     "text": [
      "Epoch [1 / 250] Loss: 1.7406  Accuracy: 53.12 %\n",
      "Epoch [51 / 250] Loss: 0.3625  Accuracy: 90.62 %\n",
      "Epoch [101 / 250] Loss: 0.3294  Accuracy: 90.62 %\n",
      "Epoch [151 / 250] Loss: 0.3167  Accuracy: 93.75 %\n",
      "Epoch [201 / 250] Loss: 0.3098  Accuracy: 90.62 %\n"
     ]
    },
    {
     "data": {
      "application/vnd.jupyter.widget-view+json": {
       "model_id": "a1b40c7ed35e4fc4b755a5a97323b2f7",
       "version_major": 2,
       "version_minor": 0
      },
      "text/plain": [
       "epoch:   0%|          | 0/250 [00:00<?, ?it/s]"
      ]
     },
     "metadata": {},
     "output_type": "display_data"
    },
    {
     "name": "stdout",
     "output_type": "stream",
     "text": [
      "Epoch [1 / 250] Loss: 1.7406  Accuracy: 53.12 %\n",
      "Epoch [51 / 250] Loss: 0.3625  Accuracy: 90.62 %\n",
      "Epoch [101 / 250] Loss: 0.3294  Accuracy: 90.62 %\n",
      "Epoch [151 / 250] Loss: 0.3167  Accuracy: 93.75 %\n",
      "Epoch [201 / 250] Loss: 0.3098  Accuracy: 90.62 %\n",
      "Network: zeroth_relu, Hidden neurons: 10, Mu: 0.01, N: 5 \n",
      "=========\n"
     ]
    },
    {
     "data": {
      "application/vnd.jupyter.widget-view+json": {
       "model_id": "ff5aa37887394398af6bf6917158f43d",
       "version_major": 2,
       "version_minor": 0
      },
      "text/plain": [
       "method:   0%|          | 0/4 [00:00<?, ?it/s]"
      ]
     },
     "metadata": {},
     "output_type": "display_data"
    },
    {
     "data": {
      "application/vnd.jupyter.widget-view+json": {
       "model_id": "9d3c21467f2941caaa90691f0ccb424d",
       "version_major": 2,
       "version_minor": 0
      },
      "text/plain": [
       "epoch:   0%|          | 0/250 [00:00<?, ?it/s]"
      ]
     },
     "metadata": {},
     "output_type": "display_data"
    },
    {
     "name": "stdout",
     "output_type": "stream",
     "text": [
      "Epoch [1 / 250] Loss: 1.7406  Accuracy: 53.12 %\n",
      "Epoch [51 / 250] Loss: 0.3625  Accuracy: 90.62 %\n",
      "Epoch [101 / 250] Loss: 0.3294  Accuracy: 90.62 %\n",
      "Epoch [151 / 250] Loss: 0.3167  Accuracy: 93.75 %\n",
      "Epoch [201 / 250] Loss: 0.3098  Accuracy: 90.62 %\n"
     ]
    },
    {
     "data": {
      "application/vnd.jupyter.widget-view+json": {
       "model_id": "6f852b2224154070a1d42c6d22a37061",
       "version_major": 2,
       "version_minor": 0
      },
      "text/plain": [
       "epoch:   0%|          | 0/250 [00:00<?, ?it/s]"
      ]
     },
     "metadata": {},
     "output_type": "display_data"
    },
    {
     "name": "stdout",
     "output_type": "stream",
     "text": [
      "Epoch [1 / 250] Loss: 1.7406  Accuracy: 53.12 %\n",
      "Epoch [51 / 250] Loss: 0.3625  Accuracy: 90.62 %\n",
      "Epoch [101 / 250] Loss: 0.3294  Accuracy: 90.62 %\n",
      "Epoch [151 / 250] Loss: 0.3167  Accuracy: 93.75 %\n",
      "Epoch [201 / 250] Loss: 0.3098  Accuracy: 90.62 %\n"
     ]
    },
    {
     "data": {
      "application/vnd.jupyter.widget-view+json": {
       "model_id": "b82b324ae3e54f489a99ca72c3e7ef68",
       "version_major": 2,
       "version_minor": 0
      },
      "text/plain": [
       "epoch:   0%|          | 0/250 [00:00<?, ?it/s]"
      ]
     },
     "metadata": {},
     "output_type": "display_data"
    },
    {
     "name": "stdout",
     "output_type": "stream",
     "text": [
      "Epoch [1 / 250] Loss: 1.7406  Accuracy: 53.12 %\n",
      "Epoch [51 / 250] Loss: 0.3625  Accuracy: 90.62 %\n",
      "Epoch [101 / 250] Loss: 0.3294  Accuracy: 90.62 %\n",
      "Epoch [151 / 250] Loss: 0.3167  Accuracy: 93.75 %\n",
      "Epoch [201 / 250] Loss: 0.3098  Accuracy: 90.62 %\n"
     ]
    },
    {
     "data": {
      "application/vnd.jupyter.widget-view+json": {
       "model_id": "91503e3eab5c4112a3abc066bdae85c0",
       "version_major": 2,
       "version_minor": 0
      },
      "text/plain": [
       "epoch:   0%|          | 0/250 [00:00<?, ?it/s]"
      ]
     },
     "metadata": {},
     "output_type": "display_data"
    },
    {
     "name": "stdout",
     "output_type": "stream",
     "text": [
      "Epoch [1 / 250] Loss: 1.7406  Accuracy: 53.12 %\n",
      "Epoch [51 / 250] Loss: 0.3625  Accuracy: 90.62 %\n",
      "Epoch [101 / 250] Loss: 0.3294  Accuracy: 90.62 %\n",
      "Epoch [151 / 250] Loss: 0.3167  Accuracy: 93.75 %\n",
      "Epoch [201 / 250] Loss: 0.3098  Accuracy: 90.62 %\n",
      "Network: zeroth_relu, Hidden neurons: 10, Mu: 0.01, N: 9 \n",
      "=========\n"
     ]
    },
    {
     "data": {
      "application/vnd.jupyter.widget-view+json": {
       "model_id": "b03ebd42d9b8432aaefc198880fad82a",
       "version_major": 2,
       "version_minor": 0
      },
      "text/plain": [
       "method:   0%|          | 0/4 [00:00<?, ?it/s]"
      ]
     },
     "metadata": {},
     "output_type": "display_data"
    },
    {
     "data": {
      "application/vnd.jupyter.widget-view+json": {
       "model_id": "f3376d5b79e24b5eaf4a4bb5a8e55e8d",
       "version_major": 2,
       "version_minor": 0
      },
      "text/plain": [
       "epoch:   0%|          | 0/250 [00:00<?, ?it/s]"
      ]
     },
     "metadata": {},
     "output_type": "display_data"
    },
    {
     "name": "stdout",
     "output_type": "stream",
     "text": [
      "Epoch [1 / 250] Loss: 1.7406  Accuracy: 53.12 %\n",
      "Epoch [51 / 250] Loss: 0.3625  Accuracy: 90.62 %\n",
      "Epoch [101 / 250] Loss: 0.3294  Accuracy: 90.62 %\n",
      "Epoch [151 / 250] Loss: 0.3167  Accuracy: 93.75 %\n",
      "Epoch [201 / 250] Loss: 0.3098  Accuracy: 90.62 %\n"
     ]
    },
    {
     "data": {
      "application/vnd.jupyter.widget-view+json": {
       "model_id": "2a8615c62be946d989f4d6fb08af7594",
       "version_major": 2,
       "version_minor": 0
      },
      "text/plain": [
       "epoch:   0%|          | 0/250 [00:00<?, ?it/s]"
      ]
     },
     "metadata": {},
     "output_type": "display_data"
    },
    {
     "name": "stdout",
     "output_type": "stream",
     "text": [
      "Epoch [1 / 250] Loss: 1.7406  Accuracy: 53.12 %\n",
      "Epoch [51 / 250] Loss: 0.3625  Accuracy: 90.62 %\n",
      "Epoch [101 / 250] Loss: 0.3294  Accuracy: 90.62 %\n",
      "Epoch [151 / 250] Loss: 0.3167  Accuracy: 93.75 %\n",
      "Epoch [201 / 250] Loss: 0.3098  Accuracy: 90.62 %\n"
     ]
    },
    {
     "data": {
      "application/vnd.jupyter.widget-view+json": {
       "model_id": "a0c182d51fef402ba35f20c718fda5af",
       "version_major": 2,
       "version_minor": 0
      },
      "text/plain": [
       "epoch:   0%|          | 0/250 [00:00<?, ?it/s]"
      ]
     },
     "metadata": {},
     "output_type": "display_data"
    },
    {
     "name": "stdout",
     "output_type": "stream",
     "text": [
      "Epoch [1 / 250] Loss: 1.7406  Accuracy: 53.12 %\n",
      "Epoch [51 / 250] Loss: 0.3625  Accuracy: 90.62 %\n",
      "Epoch [101 / 250] Loss: 0.3294  Accuracy: 90.62 %\n",
      "Epoch [151 / 250] Loss: 0.3167  Accuracy: 93.75 %\n",
      "Epoch [201 / 250] Loss: 0.3098  Accuracy: 90.62 %\n"
     ]
    },
    {
     "data": {
      "application/vnd.jupyter.widget-view+json": {
       "model_id": "4609a52c909d49bda380219a8b1850f2",
       "version_major": 2,
       "version_minor": 0
      },
      "text/plain": [
       "epoch:   0%|          | 0/250 [00:00<?, ?it/s]"
      ]
     },
     "metadata": {},
     "output_type": "display_data"
    },
    {
     "name": "stdout",
     "output_type": "stream",
     "text": [
      "Epoch [1 / 250] Loss: 1.7406  Accuracy: 53.12 %\n",
      "Epoch [51 / 250] Loss: 0.3625  Accuracy: 90.62 %\n",
      "Epoch [101 / 250] Loss: 0.3294  Accuracy: 90.62 %\n",
      "Epoch [151 / 250] Loss: 0.3167  Accuracy: 93.75 %\n",
      "Epoch [201 / 250] Loss: 0.3098  Accuracy: 90.62 %\n",
      "Network: zeroth_relu, Hidden neurons: 10, Mu: 0.1, N: 1 \n",
      "=========\n"
     ]
    },
    {
     "data": {
      "application/vnd.jupyter.widget-view+json": {
       "model_id": "eddacd85a5f74421b9588b0854405317",
       "version_major": 2,
       "version_minor": 0
      },
      "text/plain": [
       "method:   0%|          | 0/4 [00:00<?, ?it/s]"
      ]
     },
     "metadata": {},
     "output_type": "display_data"
    },
    {
     "data": {
      "application/vnd.jupyter.widget-view+json": {
       "model_id": "358703f281894dc8a57ef523ec45d529",
       "version_major": 2,
       "version_minor": 0
      },
      "text/plain": [
       "epoch:   0%|          | 0/250 [00:00<?, ?it/s]"
      ]
     },
     "metadata": {},
     "output_type": "display_data"
    },
    {
     "name": "stdout",
     "output_type": "stream",
     "text": [
      "Epoch [1 / 250] Loss: 1.7406  Accuracy: 53.12 %\n",
      "Epoch [51 / 250] Loss: 0.3625  Accuracy: 90.62 %\n",
      "Epoch [101 / 250] Loss: 0.3294  Accuracy: 90.62 %\n",
      "Epoch [151 / 250] Loss: 0.3167  Accuracy: 93.75 %\n",
      "Epoch [201 / 250] Loss: 0.3098  Accuracy: 90.62 %\n"
     ]
    },
    {
     "data": {
      "application/vnd.jupyter.widget-view+json": {
       "model_id": "745cfa3bd8e848ab837984e9e6db5dfd",
       "version_major": 2,
       "version_minor": 0
      },
      "text/plain": [
       "epoch:   0%|          | 0/250 [00:00<?, ?it/s]"
      ]
     },
     "metadata": {},
     "output_type": "display_data"
    },
    {
     "name": "stdout",
     "output_type": "stream",
     "text": [
      "Epoch [1 / 250] Loss: 1.7406  Accuracy: 53.12 %\n",
      "Epoch [51 / 250] Loss: 0.3625  Accuracy: 90.62 %\n",
      "Epoch [101 / 250] Loss: 0.3294  Accuracy: 90.62 %\n",
      "Epoch [151 / 250] Loss: 0.3167  Accuracy: 93.75 %\n",
      "Epoch [201 / 250] Loss: 0.3098  Accuracy: 90.62 %\n"
     ]
    },
    {
     "data": {
      "application/vnd.jupyter.widget-view+json": {
       "model_id": "fea7828cf8a7409f93b629fe841c930d",
       "version_major": 2,
       "version_minor": 0
      },
      "text/plain": [
       "epoch:   0%|          | 0/250 [00:00<?, ?it/s]"
      ]
     },
     "metadata": {},
     "output_type": "display_data"
    },
    {
     "name": "stdout",
     "output_type": "stream",
     "text": [
      "Epoch [1 / 250] Loss: 1.7406  Accuracy: 53.12 %\n",
      "Epoch [51 / 250] Loss: 0.3625  Accuracy: 90.62 %\n",
      "Epoch [101 / 250] Loss: 0.3294  Accuracy: 90.62 %\n",
      "Epoch [151 / 250] Loss: 0.3167  Accuracy: 93.75 %\n",
      "Epoch [201 / 250] Loss: 0.3098  Accuracy: 90.62 %\n"
     ]
    },
    {
     "data": {
      "application/vnd.jupyter.widget-view+json": {
       "model_id": "beac94a553824fe2ac96fe0b810d9c1b",
       "version_major": 2,
       "version_minor": 0
      },
      "text/plain": [
       "epoch:   0%|          | 0/250 [00:00<?, ?it/s]"
      ]
     },
     "metadata": {},
     "output_type": "display_data"
    },
    {
     "name": "stdout",
     "output_type": "stream",
     "text": [
      "Epoch [1 / 250] Loss: 1.7406  Accuracy: 53.12 %\n",
      "Epoch [51 / 250] Loss: 0.3625  Accuracy: 90.62 %\n",
      "Epoch [101 / 250] Loss: 0.3294  Accuracy: 90.62 %\n",
      "Epoch [151 / 250] Loss: 0.3167  Accuracy: 93.75 %\n",
      "Epoch [201 / 250] Loss: 0.3098  Accuracy: 90.62 %\n",
      "Network: zeroth_relu, Hidden neurons: 10, Mu: 0.1, N: 5 \n",
      "=========\n"
     ]
    },
    {
     "data": {
      "application/vnd.jupyter.widget-view+json": {
       "model_id": "3208b09391b34173841bba97128a8675",
       "version_major": 2,
       "version_minor": 0
      },
      "text/plain": [
       "method:   0%|          | 0/4 [00:00<?, ?it/s]"
      ]
     },
     "metadata": {},
     "output_type": "display_data"
    },
    {
     "data": {
      "application/vnd.jupyter.widget-view+json": {
       "model_id": "a8b1c1fc3eb54fa1af232e8afe48b813",
       "version_major": 2,
       "version_minor": 0
      },
      "text/plain": [
       "epoch:   0%|          | 0/250 [00:00<?, ?it/s]"
      ]
     },
     "metadata": {},
     "output_type": "display_data"
    },
    {
     "name": "stdout",
     "output_type": "stream",
     "text": [
      "Epoch [1 / 250] Loss: 1.7406  Accuracy: 53.12 %\n",
      "Epoch [51 / 250] Loss: 0.3625  Accuracy: 90.62 %\n",
      "Epoch [101 / 250] Loss: 0.3294  Accuracy: 90.62 %\n",
      "Epoch [151 / 250] Loss: 0.3167  Accuracy: 93.75 %\n",
      "Epoch [201 / 250] Loss: 0.3098  Accuracy: 90.62 %\n"
     ]
    },
    {
     "data": {
      "application/vnd.jupyter.widget-view+json": {
       "model_id": "7f22567f9cfc485181992b7fd4049aaf",
       "version_major": 2,
       "version_minor": 0
      },
      "text/plain": [
       "epoch:   0%|          | 0/250 [00:00<?, ?it/s]"
      ]
     },
     "metadata": {},
     "output_type": "display_data"
    },
    {
     "name": "stdout",
     "output_type": "stream",
     "text": [
      "Epoch [1 / 250] Loss: 1.7406  Accuracy: 53.12 %\n",
      "Epoch [51 / 250] Loss: 0.3625  Accuracy: 90.62 %\n",
      "Epoch [101 / 250] Loss: 0.3294  Accuracy: 90.62 %\n",
      "Epoch [151 / 250] Loss: 0.3167  Accuracy: 93.75 %\n",
      "Epoch [201 / 250] Loss: 0.3098  Accuracy: 90.62 %\n"
     ]
    },
    {
     "data": {
      "application/vnd.jupyter.widget-view+json": {
       "model_id": "5bda4950f6684e3b99857ea3bc9a8dc4",
       "version_major": 2,
       "version_minor": 0
      },
      "text/plain": [
       "epoch:   0%|          | 0/250 [00:00<?, ?it/s]"
      ]
     },
     "metadata": {},
     "output_type": "display_data"
    },
    {
     "name": "stdout",
     "output_type": "stream",
     "text": [
      "Epoch [1 / 250] Loss: 1.7406  Accuracy: 53.12 %\n",
      "Epoch [51 / 250] Loss: 0.3625  Accuracy: 90.62 %\n",
      "Epoch [101 / 250] Loss: 0.3294  Accuracy: 90.62 %\n",
      "Epoch [151 / 250] Loss: 0.3167  Accuracy: 93.75 %\n",
      "Epoch [201 / 250] Loss: 0.3098  Accuracy: 90.62 %\n"
     ]
    },
    {
     "data": {
      "application/vnd.jupyter.widget-view+json": {
       "model_id": "db003818ed3740a18205007a77e6d281",
       "version_major": 2,
       "version_minor": 0
      },
      "text/plain": [
       "epoch:   0%|          | 0/250 [00:00<?, ?it/s]"
      ]
     },
     "metadata": {},
     "output_type": "display_data"
    },
    {
     "name": "stdout",
     "output_type": "stream",
     "text": [
      "Epoch [1 / 250] Loss: 1.7406  Accuracy: 53.12 %\n",
      "Epoch [51 / 250] Loss: 0.3625  Accuracy: 90.62 %\n",
      "Epoch [101 / 250] Loss: 0.3294  Accuracy: 90.62 %\n",
      "Epoch [151 / 250] Loss: 0.3167  Accuracy: 93.75 %\n",
      "Epoch [201 / 250] Loss: 0.3098  Accuracy: 90.62 %\n",
      "Network: zeroth_relu, Hidden neurons: 10, Mu: 0.1, N: 9 \n",
      "=========\n"
     ]
    },
    {
     "data": {
      "application/vnd.jupyter.widget-view+json": {
       "model_id": "d24db187a8864a6c89ba9f49847ec023",
       "version_major": 2,
       "version_minor": 0
      },
      "text/plain": [
       "method:   0%|          | 0/4 [00:00<?, ?it/s]"
      ]
     },
     "metadata": {},
     "output_type": "display_data"
    },
    {
     "data": {
      "application/vnd.jupyter.widget-view+json": {
       "model_id": "1ca8407432ae4996b17883dc24bacf84",
       "version_major": 2,
       "version_minor": 0
      },
      "text/plain": [
       "epoch:   0%|          | 0/250 [00:00<?, ?it/s]"
      ]
     },
     "metadata": {},
     "output_type": "display_data"
    },
    {
     "name": "stdout",
     "output_type": "stream",
     "text": [
      "Epoch [1 / 250] Loss: 1.7406  Accuracy: 53.12 %\n",
      "Epoch [51 / 250] Loss: 0.3625  Accuracy: 90.62 %\n",
      "Epoch [101 / 250] Loss: 0.3294  Accuracy: 90.62 %\n",
      "Epoch [151 / 250] Loss: 0.3167  Accuracy: 93.75 %\n",
      "Epoch [201 / 250] Loss: 0.3098  Accuracy: 90.62 %\n"
     ]
    },
    {
     "data": {
      "application/vnd.jupyter.widget-view+json": {
       "model_id": "cd807beff4ec420bb6c56de94ed3f76c",
       "version_major": 2,
       "version_minor": 0
      },
      "text/plain": [
       "epoch:   0%|          | 0/250 [00:00<?, ?it/s]"
      ]
     },
     "metadata": {},
     "output_type": "display_data"
    },
    {
     "name": "stdout",
     "output_type": "stream",
     "text": [
      "Epoch [1 / 250] Loss: 1.7406  Accuracy: 53.12 %\n",
      "Epoch [51 / 250] Loss: 0.3625  Accuracy: 90.62 %\n",
      "Epoch [101 / 250] Loss: 0.3294  Accuracy: 90.62 %\n",
      "Epoch [151 / 250] Loss: 0.3167  Accuracy: 93.75 %\n",
      "Epoch [201 / 250] Loss: 0.3098  Accuracy: 90.62 %\n"
     ]
    },
    {
     "data": {
      "application/vnd.jupyter.widget-view+json": {
       "model_id": "ba3e5493a0d34340bc462a5dd7b63c42",
       "version_major": 2,
       "version_minor": 0
      },
      "text/plain": [
       "epoch:   0%|          | 0/250 [00:00<?, ?it/s]"
      ]
     },
     "metadata": {},
     "output_type": "display_data"
    },
    {
     "name": "stdout",
     "output_type": "stream",
     "text": [
      "Epoch [1 / 250] Loss: 1.7406  Accuracy: 53.12 %\n",
      "Epoch [51 / 250] Loss: 0.3625  Accuracy: 90.62 %\n",
      "Epoch [101 / 250] Loss: 0.3294  Accuracy: 90.62 %\n",
      "Epoch [151 / 250] Loss: 0.3167  Accuracy: 93.75 %\n",
      "Epoch [201 / 250] Loss: 0.3098  Accuracy: 90.62 %\n"
     ]
    },
    {
     "data": {
      "application/vnd.jupyter.widget-view+json": {
       "model_id": "b8c6a8153239416a822bb1bf7ed8c12f",
       "version_major": 2,
       "version_minor": 0
      },
      "text/plain": [
       "epoch:   0%|          | 0/250 [00:00<?, ?it/s]"
      ]
     },
     "metadata": {},
     "output_type": "display_data"
    },
    {
     "name": "stdout",
     "output_type": "stream",
     "text": [
      "Epoch [1 / 250] Loss: 1.7406  Accuracy: 53.12 %\n",
      "Epoch [51 / 250] Loss: 0.3625  Accuracy: 90.62 %\n",
      "Epoch [101 / 250] Loss: 0.3294  Accuracy: 90.62 %\n",
      "Epoch [151 / 250] Loss: 0.3167  Accuracy: 93.75 %\n",
      "Epoch [201 / 250] Loss: 0.3098  Accuracy: 90.62 %\n",
      "Network: zeroth_relu, Hidden neurons: 16, Mu: 0.001, N: 1 \n",
      "=========\n"
     ]
    },
    {
     "data": {
      "application/vnd.jupyter.widget-view+json": {
       "model_id": "b2704e8ccdb54dd487fd99a8df228fa3",
       "version_major": 2,
       "version_minor": 0
      },
      "text/plain": [
       "method:   0%|          | 0/4 [00:00<?, ?it/s]"
      ]
     },
     "metadata": {},
     "output_type": "display_data"
    },
    {
     "data": {
      "application/vnd.jupyter.widget-view+json": {
       "model_id": "6dbd541a4e034ed4a99985315c821a30",
       "version_major": 2,
       "version_minor": 0
      },
      "text/plain": [
       "epoch:   0%|          | 0/250 [00:00<?, ?it/s]"
      ]
     },
     "metadata": {},
     "output_type": "display_data"
    },
    {
     "name": "stdout",
     "output_type": "stream",
     "text": [
      "Epoch [1 / 250] Loss: 1.8129  Accuracy: 54.69 %\n",
      "Epoch [51 / 250] Loss: 0.1803  Accuracy: 96.88 %\n",
      "Epoch [101 / 250] Loss: 0.1415  Accuracy: 100.00 %\n",
      "Epoch [151 / 250] Loss: 0.1238  Accuracy: 100.00 %\n",
      "Epoch [201 / 250] Loss: 0.1105  Accuracy: 96.88 %\n"
     ]
    },
    {
     "data": {
      "application/vnd.jupyter.widget-view+json": {
       "model_id": "7bb2c013246a4590b8f61b8b5f0bc893",
       "version_major": 2,
       "version_minor": 0
      },
      "text/plain": [
       "epoch:   0%|          | 0/250 [00:00<?, ?it/s]"
      ]
     },
     "metadata": {},
     "output_type": "display_data"
    },
    {
     "name": "stdout",
     "output_type": "stream",
     "text": [
      "Epoch [1 / 250] Loss: 1.8129  Accuracy: 54.69 %\n",
      "Epoch [51 / 250] Loss: 0.1803  Accuracy: 96.88 %\n",
      "Epoch [101 / 250] Loss: 0.1415  Accuracy: 100.00 %\n",
      "Epoch [151 / 250] Loss: 0.1238  Accuracy: 100.00 %\n",
      "Epoch [201 / 250] Loss: 0.1105  Accuracy: 96.88 %\n"
     ]
    },
    {
     "data": {
      "application/vnd.jupyter.widget-view+json": {
       "model_id": "7ec993e92076419ab2371db5c9a22bb2",
       "version_major": 2,
       "version_minor": 0
      },
      "text/plain": [
       "epoch:   0%|          | 0/250 [00:00<?, ?it/s]"
      ]
     },
     "metadata": {},
     "output_type": "display_data"
    },
    {
     "name": "stdout",
     "output_type": "stream",
     "text": [
      "Epoch [1 / 250] Loss: 1.8129  Accuracy: 54.69 %\n",
      "Epoch [51 / 250] Loss: 0.1803  Accuracy: 96.88 %\n",
      "Epoch [101 / 250] Loss: 0.1415  Accuracy: 100.00 %\n",
      "Epoch [151 / 250] Loss: 0.1238  Accuracy: 100.00 %\n",
      "Epoch [201 / 250] Loss: 0.1105  Accuracy: 96.88 %\n"
     ]
    },
    {
     "data": {
      "application/vnd.jupyter.widget-view+json": {
       "model_id": "c5e2e483becc40fbb4c0ac3c2b8dbe3d",
       "version_major": 2,
       "version_minor": 0
      },
      "text/plain": [
       "epoch:   0%|          | 0/250 [00:00<?, ?it/s]"
      ]
     },
     "metadata": {},
     "output_type": "display_data"
    },
    {
     "name": "stdout",
     "output_type": "stream",
     "text": [
      "Epoch [1 / 250] Loss: 1.8129  Accuracy: 54.69 %\n",
      "Epoch [51 / 250] Loss: 0.1803  Accuracy: 96.88 %\n",
      "Epoch [101 / 250] Loss: 0.1415  Accuracy: 100.00 %\n",
      "Epoch [151 / 250] Loss: 0.1238  Accuracy: 100.00 %\n",
      "Epoch [201 / 250] Loss: 0.1105  Accuracy: 96.88 %\n",
      "Network: zeroth_relu, Hidden neurons: 16, Mu: 0.001, N: 5 \n",
      "=========\n"
     ]
    },
    {
     "data": {
      "application/vnd.jupyter.widget-view+json": {
       "model_id": "eb44ea0f3e09445680f58fa70d1d4ff7",
       "version_major": 2,
       "version_minor": 0
      },
      "text/plain": [
       "method:   0%|          | 0/4 [00:00<?, ?it/s]"
      ]
     },
     "metadata": {},
     "output_type": "display_data"
    },
    {
     "data": {
      "application/vnd.jupyter.widget-view+json": {
       "model_id": "e2c5e6c80bb24ee89f714bd6dc3e3a4d",
       "version_major": 2,
       "version_minor": 0
      },
      "text/plain": [
       "epoch:   0%|          | 0/250 [00:00<?, ?it/s]"
      ]
     },
     "metadata": {},
     "output_type": "display_data"
    },
    {
     "name": "stdout",
     "output_type": "stream",
     "text": [
      "Epoch [1 / 250] Loss: 1.8129  Accuracy: 54.69 %\n",
      "Epoch [51 / 250] Loss: 0.1803  Accuracy: 96.88 %\n",
      "Epoch [101 / 250] Loss: 0.1415  Accuracy: 100.00 %\n",
      "Epoch [151 / 250] Loss: 0.1238  Accuracy: 100.00 %\n",
      "Epoch [201 / 250] Loss: 0.1105  Accuracy: 96.88 %\n"
     ]
    },
    {
     "data": {
      "application/vnd.jupyter.widget-view+json": {
       "model_id": "4cb0151e16d344e184d8ba8e9a78fa2f",
       "version_major": 2,
       "version_minor": 0
      },
      "text/plain": [
       "epoch:   0%|          | 0/250 [00:00<?, ?it/s]"
      ]
     },
     "metadata": {},
     "output_type": "display_data"
    },
    {
     "name": "stdout",
     "output_type": "stream",
     "text": [
      "Epoch [1 / 250] Loss: 1.8129  Accuracy: 54.69 %\n",
      "Epoch [51 / 250] Loss: 0.1803  Accuracy: 96.88 %\n",
      "Epoch [101 / 250] Loss: 0.1415  Accuracy: 100.00 %\n",
      "Epoch [151 / 250] Loss: 0.1238  Accuracy: 100.00 %\n",
      "Epoch [201 / 250] Loss: 0.1105  Accuracy: 96.88 %\n"
     ]
    },
    {
     "data": {
      "application/vnd.jupyter.widget-view+json": {
       "model_id": "4c37bc165a9e4329bc0bccf165d2499a",
       "version_major": 2,
       "version_minor": 0
      },
      "text/plain": [
       "epoch:   0%|          | 0/250 [00:00<?, ?it/s]"
      ]
     },
     "metadata": {},
     "output_type": "display_data"
    },
    {
     "name": "stdout",
     "output_type": "stream",
     "text": [
      "Epoch [1 / 250] Loss: 1.8129  Accuracy: 54.69 %\n",
      "Epoch [51 / 250] Loss: 0.1803  Accuracy: 96.88 %\n",
      "Epoch [101 / 250] Loss: 0.1415  Accuracy: 100.00 %\n",
      "Epoch [151 / 250] Loss: 0.1238  Accuracy: 100.00 %\n",
      "Epoch [201 / 250] Loss: 0.1105  Accuracy: 96.88 %\n"
     ]
    },
    {
     "data": {
      "application/vnd.jupyter.widget-view+json": {
       "model_id": "8de87bf9a3b54dc2802dce0dffd14117",
       "version_major": 2,
       "version_minor": 0
      },
      "text/plain": [
       "epoch:   0%|          | 0/250 [00:00<?, ?it/s]"
      ]
     },
     "metadata": {},
     "output_type": "display_data"
    },
    {
     "name": "stdout",
     "output_type": "stream",
     "text": [
      "Epoch [1 / 250] Loss: 1.8129  Accuracy: 54.69 %\n",
      "Epoch [51 / 250] Loss: 0.1803  Accuracy: 96.88 %\n",
      "Epoch [101 / 250] Loss: 0.1415  Accuracy: 100.00 %\n",
      "Epoch [151 / 250] Loss: 0.1238  Accuracy: 100.00 %\n",
      "Epoch [201 / 250] Loss: 0.1105  Accuracy: 96.88 %\n",
      "Network: zeroth_relu, Hidden neurons: 16, Mu: 0.001, N: 9 \n",
      "=========\n"
     ]
    },
    {
     "data": {
      "application/vnd.jupyter.widget-view+json": {
       "model_id": "60956142dea04497bebd51cc70c1c8b3",
       "version_major": 2,
       "version_minor": 0
      },
      "text/plain": [
       "method:   0%|          | 0/4 [00:00<?, ?it/s]"
      ]
     },
     "metadata": {},
     "output_type": "display_data"
    },
    {
     "data": {
      "application/vnd.jupyter.widget-view+json": {
       "model_id": "638dbe236a5049fa900aa19bf6aae986",
       "version_major": 2,
       "version_minor": 0
      },
      "text/plain": [
       "epoch:   0%|          | 0/250 [00:00<?, ?it/s]"
      ]
     },
     "metadata": {},
     "output_type": "display_data"
    },
    {
     "name": "stdout",
     "output_type": "stream",
     "text": [
      "Epoch [1 / 250] Loss: 1.8129  Accuracy: 54.69 %\n",
      "Epoch [51 / 250] Loss: 0.1803  Accuracy: 96.88 %\n",
      "Epoch [101 / 250] Loss: 0.1415  Accuracy: 100.00 %\n",
      "Epoch [151 / 250] Loss: 0.1238  Accuracy: 100.00 %\n",
      "Epoch [201 / 250] Loss: 0.1105  Accuracy: 96.88 %\n"
     ]
    },
    {
     "data": {
      "application/vnd.jupyter.widget-view+json": {
       "model_id": "b1b11fbee1b44d89909ee07ea8246cc6",
       "version_major": 2,
       "version_minor": 0
      },
      "text/plain": [
       "epoch:   0%|          | 0/250 [00:00<?, ?it/s]"
      ]
     },
     "metadata": {},
     "output_type": "display_data"
    },
    {
     "name": "stdout",
     "output_type": "stream",
     "text": [
      "Epoch [1 / 250] Loss: 1.8129  Accuracy: 54.69 %\n",
      "Epoch [51 / 250] Loss: 0.1803  Accuracy: 96.88 %\n",
      "Epoch [101 / 250] Loss: 0.1415  Accuracy: 100.00 %\n",
      "Epoch [151 / 250] Loss: 0.1238  Accuracy: 100.00 %\n",
      "Epoch [201 / 250] Loss: 0.1105  Accuracy: 96.88 %\n"
     ]
    },
    {
     "data": {
      "application/vnd.jupyter.widget-view+json": {
       "model_id": "cdfff18a8f8b4de595a1572c44ef4823",
       "version_major": 2,
       "version_minor": 0
      },
      "text/plain": [
       "epoch:   0%|          | 0/250 [00:00<?, ?it/s]"
      ]
     },
     "metadata": {},
     "output_type": "display_data"
    },
    {
     "name": "stdout",
     "output_type": "stream",
     "text": [
      "Epoch [1 / 250] Loss: 1.8129  Accuracy: 54.69 %\n",
      "Epoch [51 / 250] Loss: 0.1803  Accuracy: 96.88 %\n",
      "Epoch [101 / 250] Loss: 0.1415  Accuracy: 100.00 %\n",
      "Epoch [151 / 250] Loss: 0.1238  Accuracy: 100.00 %\n",
      "Epoch [201 / 250] Loss: 0.1105  Accuracy: 96.88 %\n"
     ]
    },
    {
     "data": {
      "application/vnd.jupyter.widget-view+json": {
       "model_id": "ca4707ba272c4b068957c92ff01653e9",
       "version_major": 2,
       "version_minor": 0
      },
      "text/plain": [
       "epoch:   0%|          | 0/250 [00:00<?, ?it/s]"
      ]
     },
     "metadata": {},
     "output_type": "display_data"
    },
    {
     "name": "stdout",
     "output_type": "stream",
     "text": [
      "Epoch [1 / 250] Loss: 1.8129  Accuracy: 54.69 %\n",
      "Epoch [51 / 250] Loss: 0.1803  Accuracy: 96.88 %\n",
      "Epoch [101 / 250] Loss: 0.1415  Accuracy: 100.00 %\n",
      "Epoch [151 / 250] Loss: 0.1238  Accuracy: 100.00 %\n",
      "Epoch [201 / 250] Loss: 0.1105  Accuracy: 96.88 %\n",
      "Network: zeroth_relu, Hidden neurons: 16, Mu: 0.01, N: 1 \n",
      "=========\n"
     ]
    },
    {
     "data": {
      "application/vnd.jupyter.widget-view+json": {
       "model_id": "6d9e7f0bf4724e9189a077f6de799109",
       "version_major": 2,
       "version_minor": 0
      },
      "text/plain": [
       "method:   0%|          | 0/4 [00:00<?, ?it/s]"
      ]
     },
     "metadata": {},
     "output_type": "display_data"
    },
    {
     "data": {
      "application/vnd.jupyter.widget-view+json": {
       "model_id": "b97cfa4dca214273b82022d89a4a6590",
       "version_major": 2,
       "version_minor": 0
      },
      "text/plain": [
       "epoch:   0%|          | 0/250 [00:00<?, ?it/s]"
      ]
     },
     "metadata": {},
     "output_type": "display_data"
    },
    {
     "name": "stdout",
     "output_type": "stream",
     "text": [
      "Epoch [1 / 250] Loss: 1.8129  Accuracy: 54.69 %\n",
      "Epoch [51 / 250] Loss: 0.1803  Accuracy: 96.88 %\n",
      "Epoch [101 / 250] Loss: 0.1415  Accuracy: 100.00 %\n",
      "Epoch [151 / 250] Loss: 0.1238  Accuracy: 100.00 %\n",
      "Epoch [201 / 250] Loss: 0.1105  Accuracy: 96.88 %\n"
     ]
    },
    {
     "data": {
      "application/vnd.jupyter.widget-view+json": {
       "model_id": "eb9e944e29b542bb8f8cd3553e9244d5",
       "version_major": 2,
       "version_minor": 0
      },
      "text/plain": [
       "epoch:   0%|          | 0/250 [00:00<?, ?it/s]"
      ]
     },
     "metadata": {},
     "output_type": "display_data"
    },
    {
     "name": "stdout",
     "output_type": "stream",
     "text": [
      "Epoch [1 / 250] Loss: 1.8129  Accuracy: 54.69 %\n",
      "Epoch [51 / 250] Loss: 0.1803  Accuracy: 96.88 %\n",
      "Epoch [101 / 250] Loss: 0.1415  Accuracy: 100.00 %\n",
      "Epoch [151 / 250] Loss: 0.1238  Accuracy: 100.00 %\n",
      "Epoch [201 / 250] Loss: 0.1105  Accuracy: 96.88 %\n"
     ]
    },
    {
     "data": {
      "application/vnd.jupyter.widget-view+json": {
       "model_id": "2ccb3a1e04e242a5925e6fe26b4777a0",
       "version_major": 2,
       "version_minor": 0
      },
      "text/plain": [
       "epoch:   0%|          | 0/250 [00:00<?, ?it/s]"
      ]
     },
     "metadata": {},
     "output_type": "display_data"
    },
    {
     "name": "stdout",
     "output_type": "stream",
     "text": [
      "Epoch [1 / 250] Loss: 1.8129  Accuracy: 54.69 %\n",
      "Epoch [51 / 250] Loss: 0.1803  Accuracy: 96.88 %\n",
      "Epoch [101 / 250] Loss: 0.1415  Accuracy: 100.00 %\n",
      "Epoch [151 / 250] Loss: 0.1238  Accuracy: 100.00 %\n",
      "Epoch [201 / 250] Loss: 0.1105  Accuracy: 96.88 %\n"
     ]
    },
    {
     "data": {
      "application/vnd.jupyter.widget-view+json": {
       "model_id": "da0c55b5daf54af3a7afded72832f78c",
       "version_major": 2,
       "version_minor": 0
      },
      "text/plain": [
       "epoch:   0%|          | 0/250 [00:00<?, ?it/s]"
      ]
     },
     "metadata": {},
     "output_type": "display_data"
    },
    {
     "name": "stdout",
     "output_type": "stream",
     "text": [
      "Epoch [1 / 250] Loss: 1.8129  Accuracy: 54.69 %\n",
      "Epoch [51 / 250] Loss: 0.1803  Accuracy: 96.88 %\n",
      "Epoch [101 / 250] Loss: 0.1415  Accuracy: 100.00 %\n",
      "Epoch [151 / 250] Loss: 0.1238  Accuracy: 100.00 %\n",
      "Epoch [201 / 250] Loss: 0.1105  Accuracy: 96.88 %\n",
      "Network: zeroth_relu, Hidden neurons: 16, Mu: 0.01, N: 5 \n",
      "=========\n"
     ]
    },
    {
     "data": {
      "application/vnd.jupyter.widget-view+json": {
       "model_id": "95183daee8644d03beb47b13685f478c",
       "version_major": 2,
       "version_minor": 0
      },
      "text/plain": [
       "method:   0%|          | 0/4 [00:00<?, ?it/s]"
      ]
     },
     "metadata": {},
     "output_type": "display_data"
    },
    {
     "data": {
      "application/vnd.jupyter.widget-view+json": {
       "model_id": "d685f3f23adb46ba858254bc508f2b3e",
       "version_major": 2,
       "version_minor": 0
      },
      "text/plain": [
       "epoch:   0%|          | 0/250 [00:00<?, ?it/s]"
      ]
     },
     "metadata": {},
     "output_type": "display_data"
    },
    {
     "name": "stdout",
     "output_type": "stream",
     "text": [
      "Epoch [1 / 250] Loss: 1.8129  Accuracy: 54.69 %\n",
      "Epoch [51 / 250] Loss: 0.1803  Accuracy: 96.88 %\n",
      "Epoch [101 / 250] Loss: 0.1415  Accuracy: 100.00 %\n",
      "Epoch [151 / 250] Loss: 0.1238  Accuracy: 100.00 %\n",
      "Epoch [201 / 250] Loss: 0.1105  Accuracy: 96.88 %\n"
     ]
    },
    {
     "data": {
      "application/vnd.jupyter.widget-view+json": {
       "model_id": "be270bb27e7247928660dacb1a9b1d64",
       "version_major": 2,
       "version_minor": 0
      },
      "text/plain": [
       "epoch:   0%|          | 0/250 [00:00<?, ?it/s]"
      ]
     },
     "metadata": {},
     "output_type": "display_data"
    },
    {
     "name": "stdout",
     "output_type": "stream",
     "text": [
      "Epoch [1 / 250] Loss: 1.8129  Accuracy: 54.69 %\n",
      "Epoch [51 / 250] Loss: 0.1803  Accuracy: 96.88 %\n",
      "Epoch [101 / 250] Loss: 0.1415  Accuracy: 100.00 %\n",
      "Epoch [151 / 250] Loss: 0.1238  Accuracy: 100.00 %\n",
      "Epoch [201 / 250] Loss: 0.1105  Accuracy: 96.88 %\n"
     ]
    },
    {
     "data": {
      "application/vnd.jupyter.widget-view+json": {
       "model_id": "8aa5614f65b34e7685ee8a5ebc5d603d",
       "version_major": 2,
       "version_minor": 0
      },
      "text/plain": [
       "epoch:   0%|          | 0/250 [00:00<?, ?it/s]"
      ]
     },
     "metadata": {},
     "output_type": "display_data"
    },
    {
     "name": "stdout",
     "output_type": "stream",
     "text": [
      "Epoch [1 / 250] Loss: 1.8129  Accuracy: 54.69 %\n",
      "Epoch [51 / 250] Loss: 0.1803  Accuracy: 96.88 %\n",
      "Epoch [101 / 250] Loss: 0.1415  Accuracy: 100.00 %\n",
      "Epoch [151 / 250] Loss: 0.1238  Accuracy: 100.00 %\n",
      "Epoch [201 / 250] Loss: 0.1105  Accuracy: 96.88 %\n"
     ]
    },
    {
     "data": {
      "application/vnd.jupyter.widget-view+json": {
       "model_id": "fe04b5aa543344699b682006009657ff",
       "version_major": 2,
       "version_minor": 0
      },
      "text/plain": [
       "epoch:   0%|          | 0/250 [00:00<?, ?it/s]"
      ]
     },
     "metadata": {},
     "output_type": "display_data"
    },
    {
     "name": "stdout",
     "output_type": "stream",
     "text": [
      "Epoch [1 / 250] Loss: 1.8129  Accuracy: 54.69 %\n",
      "Epoch [51 / 250] Loss: 0.1803  Accuracy: 96.88 %\n",
      "Epoch [101 / 250] Loss: 0.1415  Accuracy: 100.00 %\n",
      "Epoch [151 / 250] Loss: 0.1238  Accuracy: 100.00 %\n",
      "Epoch [201 / 250] Loss: 0.1105  Accuracy: 96.88 %\n",
      "Network: zeroth_relu, Hidden neurons: 16, Mu: 0.01, N: 9 \n",
      "=========\n"
     ]
    },
    {
     "data": {
      "application/vnd.jupyter.widget-view+json": {
       "model_id": "c0fb90c211514f96a9520efd9d4b36d7",
       "version_major": 2,
       "version_minor": 0
      },
      "text/plain": [
       "method:   0%|          | 0/4 [00:00<?, ?it/s]"
      ]
     },
     "metadata": {},
     "output_type": "display_data"
    },
    {
     "data": {
      "application/vnd.jupyter.widget-view+json": {
       "model_id": "1f6690756d1747b49414d68c7ba24951",
       "version_major": 2,
       "version_minor": 0
      },
      "text/plain": [
       "epoch:   0%|          | 0/250 [00:00<?, ?it/s]"
      ]
     },
     "metadata": {},
     "output_type": "display_data"
    },
    {
     "name": "stdout",
     "output_type": "stream",
     "text": [
      "Epoch [1 / 250] Loss: 1.8129  Accuracy: 54.69 %\n",
      "Epoch [51 / 250] Loss: 0.1803  Accuracy: 96.88 %\n",
      "Epoch [101 / 250] Loss: 0.1415  Accuracy: 100.00 %\n",
      "Epoch [151 / 250] Loss: 0.1238  Accuracy: 100.00 %\n",
      "Epoch [201 / 250] Loss: 0.1105  Accuracy: 96.88 %\n"
     ]
    },
    {
     "data": {
      "application/vnd.jupyter.widget-view+json": {
       "model_id": "4fc00c864dce4ef0a6b9688eb1678d33",
       "version_major": 2,
       "version_minor": 0
      },
      "text/plain": [
       "epoch:   0%|          | 0/250 [00:00<?, ?it/s]"
      ]
     },
     "metadata": {},
     "output_type": "display_data"
    },
    {
     "name": "stdout",
     "output_type": "stream",
     "text": [
      "Epoch [1 / 250] Loss: 1.8129  Accuracy: 54.69 %\n",
      "Epoch [51 / 250] Loss: 0.1803  Accuracy: 96.88 %\n",
      "Epoch [101 / 250] Loss: 0.1415  Accuracy: 100.00 %\n",
      "Epoch [151 / 250] Loss: 0.1238  Accuracy: 100.00 %\n",
      "Epoch [201 / 250] Loss: 0.1105  Accuracy: 96.88 %\n"
     ]
    },
    {
     "data": {
      "application/vnd.jupyter.widget-view+json": {
       "model_id": "2bbafdf7289b4bf68511da4e6929f078",
       "version_major": 2,
       "version_minor": 0
      },
      "text/plain": [
       "epoch:   0%|          | 0/250 [00:00<?, ?it/s]"
      ]
     },
     "metadata": {},
     "output_type": "display_data"
    },
    {
     "name": "stdout",
     "output_type": "stream",
     "text": [
      "Epoch [1 / 250] Loss: 1.8129  Accuracy: 54.69 %\n",
      "Epoch [51 / 250] Loss: 0.1803  Accuracy: 96.88 %\n",
      "Epoch [101 / 250] Loss: 0.1415  Accuracy: 100.00 %\n",
      "Epoch [151 / 250] Loss: 0.1238  Accuracy: 100.00 %\n",
      "Epoch [201 / 250] Loss: 0.1105  Accuracy: 96.88 %\n"
     ]
    },
    {
     "data": {
      "application/vnd.jupyter.widget-view+json": {
       "model_id": "da8bbb0de2f449ae8a76d722c20ca1c9",
       "version_major": 2,
       "version_minor": 0
      },
      "text/plain": [
       "epoch:   0%|          | 0/250 [00:00<?, ?it/s]"
      ]
     },
     "metadata": {},
     "output_type": "display_data"
    },
    {
     "name": "stdout",
     "output_type": "stream",
     "text": [
      "Epoch [1 / 250] Loss: 1.8129  Accuracy: 54.69 %\n",
      "Epoch [51 / 250] Loss: 0.1803  Accuracy: 96.88 %\n",
      "Epoch [101 / 250] Loss: 0.1415  Accuracy: 100.00 %\n",
      "Epoch [151 / 250] Loss: 0.1238  Accuracy: 100.00 %\n",
      "Epoch [201 / 250] Loss: 0.1105  Accuracy: 96.88 %\n",
      "Network: zeroth_relu, Hidden neurons: 16, Mu: 0.1, N: 1 \n",
      "=========\n"
     ]
    },
    {
     "data": {
      "application/vnd.jupyter.widget-view+json": {
       "model_id": "b2655fc570d249709dffc9c07663d317",
       "version_major": 2,
       "version_minor": 0
      },
      "text/plain": [
       "method:   0%|          | 0/4 [00:00<?, ?it/s]"
      ]
     },
     "metadata": {},
     "output_type": "display_data"
    },
    {
     "data": {
      "application/vnd.jupyter.widget-view+json": {
       "model_id": "ecb1c1a796cd43d68fbdec7b6c487e70",
       "version_major": 2,
       "version_minor": 0
      },
      "text/plain": [
       "epoch:   0%|          | 0/250 [00:00<?, ?it/s]"
      ]
     },
     "metadata": {},
     "output_type": "display_data"
    },
    {
     "name": "stdout",
     "output_type": "stream",
     "text": [
      "Epoch [1 / 250] Loss: 1.8129  Accuracy: 54.69 %\n",
      "Epoch [51 / 250] Loss: 0.1803  Accuracy: 96.88 %\n",
      "Epoch [101 / 250] Loss: 0.1415  Accuracy: 100.00 %\n",
      "Epoch [151 / 250] Loss: 0.1238  Accuracy: 100.00 %\n",
      "Epoch [201 / 250] Loss: 0.1105  Accuracy: 96.88 %\n"
     ]
    },
    {
     "data": {
      "application/vnd.jupyter.widget-view+json": {
       "model_id": "f28b7713dc84488c973e8ac54aa3ba4f",
       "version_major": 2,
       "version_minor": 0
      },
      "text/plain": [
       "epoch:   0%|          | 0/250 [00:00<?, ?it/s]"
      ]
     },
     "metadata": {},
     "output_type": "display_data"
    },
    {
     "name": "stdout",
     "output_type": "stream",
     "text": [
      "Epoch [1 / 250] Loss: 1.8129  Accuracy: 54.69 %\n",
      "Epoch [51 / 250] Loss: 0.1803  Accuracy: 96.88 %\n",
      "Epoch [101 / 250] Loss: 0.1415  Accuracy: 100.00 %\n",
      "Epoch [151 / 250] Loss: 0.1238  Accuracy: 100.00 %\n",
      "Epoch [201 / 250] Loss: 0.1105  Accuracy: 96.88 %\n"
     ]
    },
    {
     "data": {
      "application/vnd.jupyter.widget-view+json": {
       "model_id": "d68f883a1dc34c12bf545fab18b1b3f6",
       "version_major": 2,
       "version_minor": 0
      },
      "text/plain": [
       "epoch:   0%|          | 0/250 [00:00<?, ?it/s]"
      ]
     },
     "metadata": {},
     "output_type": "display_data"
    },
    {
     "name": "stdout",
     "output_type": "stream",
     "text": [
      "Epoch [1 / 250] Loss: 1.8129  Accuracy: 54.69 %\n",
      "Epoch [51 / 250] Loss: 0.1803  Accuracy: 96.88 %\n",
      "Epoch [101 / 250] Loss: 0.1415  Accuracy: 100.00 %\n",
      "Epoch [151 / 250] Loss: 0.1238  Accuracy: 100.00 %\n",
      "Epoch [201 / 250] Loss: 0.1105  Accuracy: 96.88 %\n"
     ]
    },
    {
     "data": {
      "application/vnd.jupyter.widget-view+json": {
       "model_id": "d90e528391aa4fbb97d8aae3c0b49fd2",
       "version_major": 2,
       "version_minor": 0
      },
      "text/plain": [
       "epoch:   0%|          | 0/250 [00:00<?, ?it/s]"
      ]
     },
     "metadata": {},
     "output_type": "display_data"
    },
    {
     "name": "stdout",
     "output_type": "stream",
     "text": [
      "Epoch [1 / 250] Loss: 1.8129  Accuracy: 54.69 %\n",
      "Epoch [51 / 250] Loss: 0.1803  Accuracy: 96.88 %\n",
      "Epoch [101 / 250] Loss: 0.1415  Accuracy: 100.00 %\n",
      "Epoch [151 / 250] Loss: 0.1238  Accuracy: 100.00 %\n",
      "Epoch [201 / 250] Loss: 0.1105  Accuracy: 96.88 %\n",
      "Network: zeroth_relu, Hidden neurons: 16, Mu: 0.1, N: 5 \n",
      "=========\n"
     ]
    },
    {
     "data": {
      "application/vnd.jupyter.widget-view+json": {
       "model_id": "be317656e6cf425a97daa544aa2432cb",
       "version_major": 2,
       "version_minor": 0
      },
      "text/plain": [
       "method:   0%|          | 0/4 [00:00<?, ?it/s]"
      ]
     },
     "metadata": {},
     "output_type": "display_data"
    },
    {
     "data": {
      "application/vnd.jupyter.widget-view+json": {
       "model_id": "6a0c90a054694b4289ea1574ac77958a",
       "version_major": 2,
       "version_minor": 0
      },
      "text/plain": [
       "epoch:   0%|          | 0/250 [00:00<?, ?it/s]"
      ]
     },
     "metadata": {},
     "output_type": "display_data"
    },
    {
     "name": "stdout",
     "output_type": "stream",
     "text": [
      "Epoch [1 / 250] Loss: 1.8129  Accuracy: 54.69 %\n",
      "Epoch [51 / 250] Loss: 0.1803  Accuracy: 96.88 %\n",
      "Epoch [101 / 250] Loss: 0.1415  Accuracy: 100.00 %\n",
      "Epoch [151 / 250] Loss: 0.1238  Accuracy: 100.00 %\n",
      "Epoch [201 / 250] Loss: 0.1105  Accuracy: 96.88 %\n"
     ]
    },
    {
     "data": {
      "application/vnd.jupyter.widget-view+json": {
       "model_id": "e90948fb1eb64f3f93470a9501c9d58b",
       "version_major": 2,
       "version_minor": 0
      },
      "text/plain": [
       "epoch:   0%|          | 0/250 [00:00<?, ?it/s]"
      ]
     },
     "metadata": {},
     "output_type": "display_data"
    },
    {
     "name": "stdout",
     "output_type": "stream",
     "text": [
      "Epoch [1 / 250] Loss: 1.8129  Accuracy: 54.69 %\n",
      "Epoch [51 / 250] Loss: 0.1803  Accuracy: 96.88 %\n",
      "Epoch [101 / 250] Loss: 0.1415  Accuracy: 100.00 %\n",
      "Epoch [151 / 250] Loss: 0.1238  Accuracy: 100.00 %\n",
      "Epoch [201 / 250] Loss: 0.1105  Accuracy: 96.88 %\n"
     ]
    },
    {
     "data": {
      "application/vnd.jupyter.widget-view+json": {
       "model_id": "75844847e43a4f57a2b8aae0ff18fc14",
       "version_major": 2,
       "version_minor": 0
      },
      "text/plain": [
       "epoch:   0%|          | 0/250 [00:00<?, ?it/s]"
      ]
     },
     "metadata": {},
     "output_type": "display_data"
    },
    {
     "name": "stdout",
     "output_type": "stream",
     "text": [
      "Epoch [1 / 250] Loss: 1.8129  Accuracy: 54.69 %\n",
      "Epoch [51 / 250] Loss: 0.1803  Accuracy: 96.88 %\n",
      "Epoch [101 / 250] Loss: 0.1415  Accuracy: 100.00 %\n",
      "Epoch [151 / 250] Loss: 0.1238  Accuracy: 100.00 %\n",
      "Epoch [201 / 250] Loss: 0.1105  Accuracy: 96.88 %\n"
     ]
    },
    {
     "data": {
      "application/vnd.jupyter.widget-view+json": {
       "model_id": "b9f77ab42cc644d599feeb6b0390b95e",
       "version_major": 2,
       "version_minor": 0
      },
      "text/plain": [
       "epoch:   0%|          | 0/250 [00:00<?, ?it/s]"
      ]
     },
     "metadata": {},
     "output_type": "display_data"
    },
    {
     "name": "stdout",
     "output_type": "stream",
     "text": [
      "Epoch [1 / 250] Loss: 1.8129  Accuracy: 54.69 %\n",
      "Epoch [51 / 250] Loss: 0.1803  Accuracy: 96.88 %\n",
      "Epoch [101 / 250] Loss: 0.1415  Accuracy: 100.00 %\n",
      "Epoch [151 / 250] Loss: 0.1238  Accuracy: 100.00 %\n",
      "Epoch [201 / 250] Loss: 0.1105  Accuracy: 96.88 %\n",
      "Network: zeroth_relu, Hidden neurons: 16, Mu: 0.1, N: 9 \n",
      "=========\n"
     ]
    },
    {
     "data": {
      "application/vnd.jupyter.widget-view+json": {
       "model_id": "1100e1210d264f29aaf091b642a032aa",
       "version_major": 2,
       "version_minor": 0
      },
      "text/plain": [
       "method:   0%|          | 0/4 [00:00<?, ?it/s]"
      ]
     },
     "metadata": {},
     "output_type": "display_data"
    },
    {
     "data": {
      "application/vnd.jupyter.widget-view+json": {
       "model_id": "d2a7bed4f7de4097b214f58968396fea",
       "version_major": 2,
       "version_minor": 0
      },
      "text/plain": [
       "epoch:   0%|          | 0/250 [00:00<?, ?it/s]"
      ]
     },
     "metadata": {},
     "output_type": "display_data"
    },
    {
     "name": "stdout",
     "output_type": "stream",
     "text": [
      "Epoch [1 / 250] Loss: 1.8129  Accuracy: 54.69 %\n",
      "Epoch [51 / 250] Loss: 0.1803  Accuracy: 96.88 %\n",
      "Epoch [101 / 250] Loss: 0.1415  Accuracy: 100.00 %\n",
      "Epoch [151 / 250] Loss: 0.1238  Accuracy: 100.00 %\n",
      "Epoch [201 / 250] Loss: 0.1105  Accuracy: 96.88 %\n"
     ]
    },
    {
     "data": {
      "application/vnd.jupyter.widget-view+json": {
       "model_id": "f87afcd7dc074731a7b1847f131b3f9f",
       "version_major": 2,
       "version_minor": 0
      },
      "text/plain": [
       "epoch:   0%|          | 0/250 [00:00<?, ?it/s]"
      ]
     },
     "metadata": {},
     "output_type": "display_data"
    },
    {
     "name": "stdout",
     "output_type": "stream",
     "text": [
      "Epoch [1 / 250] Loss: 1.8129  Accuracy: 54.69 %\n",
      "Epoch [51 / 250] Loss: 0.1803  Accuracy: 96.88 %\n",
      "Epoch [101 / 250] Loss: 0.1415  Accuracy: 100.00 %\n",
      "Epoch [151 / 250] Loss: 0.1238  Accuracy: 100.00 %\n",
      "Epoch [201 / 250] Loss: 0.1105  Accuracy: 96.88 %\n"
     ]
    },
    {
     "data": {
      "application/vnd.jupyter.widget-view+json": {
       "model_id": "498c6dd9e7274b16bfe28c78d878d3ce",
       "version_major": 2,
       "version_minor": 0
      },
      "text/plain": [
       "epoch:   0%|          | 0/250 [00:00<?, ?it/s]"
      ]
     },
     "metadata": {},
     "output_type": "display_data"
    },
    {
     "name": "stdout",
     "output_type": "stream",
     "text": [
      "Epoch [1 / 250] Loss: 1.8129  Accuracy: 54.69 %\n",
      "Epoch [51 / 250] Loss: 0.1803  Accuracy: 96.88 %\n",
      "Epoch [101 / 250] Loss: 0.1415  Accuracy: 100.00 %\n",
      "Epoch [151 / 250] Loss: 0.1238  Accuracy: 100.00 %\n",
      "Epoch [201 / 250] Loss: 0.1105  Accuracy: 96.88 %\n"
     ]
    },
    {
     "data": {
      "application/vnd.jupyter.widget-view+json": {
       "model_id": "b6288f5f208f4edfadace160a01b9578",
       "version_major": 2,
       "version_minor": 0
      },
      "text/plain": [
       "epoch:   0%|          | 0/250 [00:00<?, ?it/s]"
      ]
     },
     "metadata": {},
     "output_type": "display_data"
    },
    {
     "name": "stdout",
     "output_type": "stream",
     "text": [
      "Epoch [1 / 250] Loss: 1.8129  Accuracy: 54.69 %\n",
      "Epoch [51 / 250] Loss: 0.1803  Accuracy: 96.88 %\n",
      "Epoch [101 / 250] Loss: 0.1415  Accuracy: 100.00 %\n",
      "Epoch [151 / 250] Loss: 0.1238  Accuracy: 100.00 %\n",
      "Epoch [201 / 250] Loss: 0.1105  Accuracy: 96.88 %\n"
     ]
    }
   ],
   "source": [
    "# Train each network and plot the loss:\n",
    "for net_idx, network in enumerate(zero_network_funs):\n",
    "    name, network_fun = network\n",
    "    for hidden_neurons in hidden_neurons_range:\n",
    "        for mu in mu_range:\n",
    "            for n in n_range:\n",
    "                print(f\"Network: {name}, Hidden neurons: {hidden_neurons}, Mu: {mu}, N: {n} \\n=========\")\n",
    "                for diff_method in tqdm(difference_method_range, desc=\"method\", leave=False, position=0):\n",
    "                    plt.figure()\n",
    "                    # Create new instance of network\n",
    "                    if diff_method == \"sgd\":\n",
    "                        network_fun = std_network_funs[net_idx][1]\n",
    "                    network = network_fun(hidden_neurons, mu, n, diff_method)\n",
    "\n",
    "                    # Optimiser\n",
    "                    optimiser = torch.optim.SGD(network.parameters(), lr=LR)\n",
    "\n",
    "                    # store all losses for visualisation\n",
    "                    all_losses = []\n",
    "\n",
    "                    # train a neural network\n",
    "                    num_batches = len(X) // BATCH_SIZE\n",
    "                    for epoch in tqdm(range(NUM_EPOCH), desc=\"epoch\", leave=False, position=1):\n",
    "                        epoch_loss = 0.0\n",
    "                        for batch in range(num_batches):\n",
    "                            # Get batch data\n",
    "                            batch_start = batch * BATCH_SIZE\n",
    "                            batch_end = (batch + 1) * BATCH_SIZE\n",
    "                            batch_X = X[batch_start:batch_end]\n",
    "                            batch_Y = Y[batch_start:batch_end]\n",
    "\n",
    "                            # Perform forward pass\n",
    "                            Y_pred = network(batch_X)\n",
    "                            # Compute loss\n",
    "                            loss = loss_func(Y_pred, batch_Y)\n",
    "                            epoch_loss += loss.item()\n",
    "\n",
    "                            # Clear the gradients before running the backward pass\n",
    "                            network.zero_grad()\n",
    "                            # Perform backward pass\n",
    "                            loss.backward()\n",
    "                            # Step optimiser\n",
    "                            optimiser.step()\n",
    "\n",
    "                        all_losses.append(epoch_loss / num_batches)\n",
    "\n",
    "                        # Print progress\n",
    "                        if epoch % 50 == 0:\n",
    "                            # Convert three-column predicted Y values to one column for comparison\n",
    "                            _, predicted = torch.max(torch.nn.functional.softmax(Y_pred, 1), 1)\n",
    "                            # Calculate and print accuracy\n",
    "                            total = predicted.size(0)\n",
    "                            correct = predicted.data.numpy() == batch_Y.data.numpy()\n",
    "                            # Print\n",
    "                            print('Epoch [%d / %d] Loss: %.4f  Accuracy: %.2f %%'\n",
    "                                  % (epoch + 1, NUM_EPOCH, epoch_loss / num_batches, 100 * sum(correct) / total))\n",
    "\n",
    "                    # Plot\n",
    "                    plt.plot(all_losses)\n",
    "\n",
    "                    \n",
    "                    plt.xlabel(\"Epoch\")\n",
    "                    plt.ylabel(\"Loss\")\n",
    "                    plt.legend([\"One\", \"Two\", \"Coord\", \"SGD\"])\n",
    "                    if plot:\n",
    "                        plt.show()\n",
    "                    else:\n",
    "                        plt.savefig(f\"{path}{name}_hn{hidden_neurons}_mu{mu}_n{n}_method{diff_method}.png\")\n",
    "                        plt.close()"
   ]
  }
 ],
 "metadata": {
  "kernelspec": {
   "display_name": "manopt",
   "language": "python",
   "name": "python3"
  },
  "language_info": {
   "codemirror_mode": {
    "name": "ipython",
    "version": 3
   },
   "file_extension": ".py",
   "mimetype": "text/x-python",
   "name": "python",
   "nbconvert_exporter": "python",
   "pygments_lexer": "ipython3",
   "version": "3.9.5"
  },
  "orig_nbformat": 4
 },
 "nbformat": 4,
 "nbformat_minor": 2
}

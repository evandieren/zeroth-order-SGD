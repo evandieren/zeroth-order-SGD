{
 "cells": [
  {
   "attachments": {},
   "cell_type": "markdown",
   "metadata": {},
   "source": [
    "# Zeroth Pipeline\n",
    "\n",
    "This pipeline compares zeroth order GD against standard GD. Three different zeroth order approximations --- one difference, two difference, and coordinate --- are tested."
   ]
  },
  {
   "attachments": {},
   "cell_type": "markdown",
   "metadata": {},
   "source": [
    "### Imports"
   ]
  },
  {
   "cell_type": "code",
   "execution_count": 1,
   "metadata": {},
   "outputs": [],
   "source": [
    "import os\n",
    "import sys\n",
    "\n",
    "p = os.path.abspath('../src/')\n",
    "if p not in sys.path:\n",
    "    sys.path.append(p)"
   ]
  },
  {
   "cell_type": "code",
   "execution_count": 2,
   "metadata": {},
   "outputs": [],
   "source": [
    "import pandas as pd\n",
    "import numpy as np\n",
    "import torch\n",
    "import matplotlib.pyplot as plt\n",
    "from tqdm.notebook import tqdm, trange\n",
    "import time\n",
    "\n",
    "from difference_methods import one_point_estimate, two_point_estimate, coordinate_estimate\n",
    "from linear_zeroth_function import Linear_Zeroth\n",
    "from relu_zeroth_function import ReLU_Zeroth"
   ]
  },
  {
   "attachments": {},
   "cell_type": "markdown",
   "metadata": {},
   "source": [
    "## Data preprocessing"
   ]
  },
  {
   "cell_type": "code",
   "execution_count": 3,
   "metadata": {},
   "outputs": [
    {
     "name": "stdout",
     "output_type": "stream",
     "text": [
      "     sepal_length  sepal_width  petal_length  petal_width          species\n",
      "0             5.1          3.4           1.5          0.2      Iris-setosa\n",
      "1             6.3          2.5           5.0          1.9   Iris-virginica\n",
      "2             5.9          3.0           4.2          1.5  Iris-versicolor\n",
      "3             5.7          2.6           3.5          1.0  Iris-versicolor\n",
      "4             7.7          2.8           6.7          2.0   Iris-virginica\n",
      "..            ...          ...           ...          ...              ...\n",
      "115           5.6          2.5           3.9          1.1  Iris-versicolor\n",
      "116           6.4          2.9           4.3          1.3  Iris-versicolor\n",
      "117           7.9          3.8           6.4          2.0   Iris-virginica\n",
      "118           5.4          3.0           4.5          1.5  Iris-versicolor\n",
      "119           5.5          3.5           1.3          0.2      Iris-setosa\n",
      "\n",
      "[120 rows x 5 columns]\n"
     ]
    }
   ],
   "source": [
    "proper_test = False # For testing the pipeline using iris instead of pendigits\n",
    "\n",
    "if proper_test:\n",
    "    data_train = data_train = pd.read_csv('../data/pendigits.csv')\n",
    "else:\n",
    "    data_train = pd.read_csv('../data/iris_train.csv')\n",
    "\n",
    "print(data_train)"
   ]
  },
  {
   "cell_type": "code",
   "execution_count": 4,
   "metadata": {},
   "outputs": [
    {
     "data": {
      "image/png": "[encoded data removed]",
      "text/plain": [
       "<Figure size 640x480 with 1 Axes>"
      ]
     },
     "metadata": {},
     "output_type": "display_data"
    }
   ],
   "source": [
    "if proper_test:\n",
    "    # extract frequency of each class\n",
    "    class_freq = data_train['class'].value_counts()\n",
    "else:\n",
    "    # Convert string target values to numeric values\n",
    "    #       class 0: Iris-setosa\n",
    "    #       class 1: Iris-versicolor\n",
    "    #       class 2: Iris-virginica\n",
    "    data_train['species'] = data_train['species'].map({'Iris-setosa': 0, 'Iris-versicolor': 1, 'Iris-virginica': 2})\n",
    "    # also convert all string numeric values to float ['2' -> 2.0]\n",
    "    data_train = data_train.apply(pd.to_numeric)\n",
    "    # extract frequency of each species class\n",
    "    class_freq = data_train['species'].value_counts()\n",
    "\n",
    "class_freq = list(class_freq.sort_index())\n",
    "nb_classes = len(class_freq)\n",
    "nb_features = data_train.shape[1]-1\n",
    "\n",
    "# Visual data\n",
    "graph = plt.bar(list(range(nb_classes)), class_freq)\n",
    "plt.xticks(list(range(nb_classes)))\n",
    "plt.ylabel('Frequency')\n",
    "plt.xlabel('Class')\n",
    "plt.title('Full data')\n",
    "\n",
    "plt.show() # balanced data set"
   ]
  },
  {
   "cell_type": "code",
   "execution_count": 5,
   "metadata": {},
   "outputs": [
    {
     "name": "stdout",
     "output_type": "stream",
     "text": [
      "torch.Size([120, 4])\n"
     ]
    }
   ],
   "source": [
    "# Preprocess data for training\n",
    "\n",
    "# Convert pandas dataframe to array\n",
    "data_train_array = data_train.values\n",
    "\n",
    "# Split x (features) and y (targets)\n",
    "x_array = data_train_array[:, :nb_features]\n",
    "y_array = data_train_array[:, nb_features]\n",
    "\n",
    "# Tensorify\n",
    "X = torch.tensor(x_array, dtype=torch.float)\n",
    "Y = torch.tensor(y_array, dtype=torch.long)\n",
    "\n",
    "print(X.shape)"
   ]
  },
  {
   "attachments": {},
   "cell_type": "markdown",
   "metadata": {},
   "source": [
    "## Network Setup"
   ]
  },
  {
   "cell_type": "code",
   "execution_count": 6,
   "metadata": {},
   "outputs": [],
   "source": [
    "# INPUT/OUTPUT layer sizes\n",
    "INPUT_NEURONS = nb_features\n",
    "OUTPUT_NEURONS = nb_classes"
   ]
  },
  {
   "cell_type": "code",
   "execution_count": 7,
   "metadata": {},
   "outputs": [],
   "source": [
    "# Network architectures: 1 hidden layer\n",
    "\n",
    "# Normal network with relu\n",
    "def create_standard_relu_network(hidden_neurons, mu, n, difference_method):\n",
    "    torch.manual_seed(1) # so that same network init with same weights at each creation\n",
    "    return torch.nn.Sequential(\n",
    "        torch.nn.Linear(INPUT_NEURONS, hidden_neurons),\n",
    "        torch.nn.ReLU(),\n",
    "        torch.nn.Linear(hidden_neurons, OUTPUT_NEURONS)\n",
    "    )\n",
    "\n",
    "# Full Zeroth Order relu\n",
    "def create_zeroth_relu_network(hidden_neurons, mu, n, difference_method):\n",
    "    torch.manual_seed(1) # so that same network init with same weights at each creation\n",
    "    return torch.nn.Sequential(\n",
    "        Linear_Zeroth(INPUT_NEURONS, hidden_neurons, bias=False, difference_method=difference_method, mu=mu, n=n),\n",
    "        ReLU_Zeroth(difference_method=difference_method, mu=mu, n=n),\n",
    "        Linear_Zeroth(hidden_neurons, OUTPUT_NEURONS, bias=False, difference_method=difference_method, mu=mu, n=n),\n",
    ")\n",
    "\n",
    "networks_funs = [\n",
    "    (\"standard_relu\", create_standard_relu_network),\n",
    "    (\"zeroth_relu\", create_zeroth_relu_network),\n",
    "]"
   ]
  },
  {
   "attachments": {},
   "cell_type": "markdown",
   "metadata": {},
   "source": [
    "## Train and Plot Losses"
   ]
  },
  {
   "cell_type": "code",
   "execution_count": 8,
   "metadata": {},
   "outputs": [],
   "source": [
    "# Plot or save? False => Save\n",
    "plot = False\n",
    "path = \"plots/\"\n",
    "\n",
    "# Plotting\n",
    "colours = [\"black\", \"red\", \"darkblue\", \"green\", \"violet\",]\n",
    "linestyles = ['solid', 'dashdot', 'dashed', 'dotted']"
   ]
  },
  {
   "attachments": {},
   "cell_type": "markdown",
   "metadata": {},
   "source": [
    "### Dimensionality vs Time"
   ]
  },
  {
   "cell_type": "code",
   "execution_count": 9,
   "metadata": {},
   "outputs": [],
   "source": [
    "# Training constants\n",
    "LR = 0.01\n",
    "NUM_EPOCH = 10\n",
    "BATCH_SIZE = 32\n",
    "\n",
    "# Loss function\n",
    "loss_func = torch.nn.CrossEntropyLoss()\n",
    "\n",
    "# Test Variables\n",
    "hidden_neurons_range = [min(INPUT_NEURONS, OUTPUT_NEURONS), max(INPUT_NEURONS, OUTPUT_NEURONS), 2*max(INPUT_NEURONS, OUTPUT_NEURONS), 4*max(INPUT_NEURONS, OUTPUT_NEURONS), 8*max(INPUT_NEURONS, OUTPUT_NEURONS), 16*max(INPUT_NEURONS, OUTPUT_NEURONS)]\n",
    "MU = 1e-3\n",
    "N = 1000\n",
    "\n",
    "# Methods\n",
    "dimensionality_plot_difference_method_range = ['two', 'coord', 'sgd']"
   ]
  },
  {
   "cell_type": "code",
   "execution_count": 10,
   "metadata": {},
   "outputs": [
    {
     "data": {
      "application/vnd.jupyter.widget-view+json": {
       "model_id": "f62b3b3c0bb94304a134623e6298fb5f",
       "version_major": 2,
       "version_minor": 0
      },
      "text/plain": [
       "method: 0it [00:00, ?it/s]"
      ]
     },
     "metadata": {},
     "output_type": "display_data"
    },
    {
     "data": {
      "application/vnd.jupyter.widget-view+json": {
       "model_id": "867d1d2aa3314f88b5c76543bbe54fe0",
       "version_major": 2,
       "version_minor": 0
      },
      "text/plain": [
       "hidden_neurons:   0%|          | 0/6 [00:00<?, ?it/s]"
      ]
     },
     "metadata": {},
     "output_type": "display_data"
    },
    {
     "data": {
      "application/vnd.jupyter.widget-view+json": {
       "model_id": "28da175452bf4b5cac14b2f5a029e203",
       "version_major": 2,
       "version_minor": 0
      },
      "text/plain": [
       "epoch:   0%|          | 0/10 [00:00<?, ?it/s]"
      ]
     },
     "metadata": {},
     "output_type": "display_data"
    },
    {
     "ename": "KeyboardInterrupt",
     "evalue": "",
     "output_type": "error",
     "traceback": [
      "\u001b[0;31m---------------------------------------------------------------------------\u001b[0m",
      "\u001b[0;31mKeyboardInterrupt\u001b[0m                         Traceback (most recent call last)",
      "Cell \u001b[0;32mIn[10], line 44\u001b[0m\n\u001b[1;32m     42\u001b[0m network\u001b[39m.\u001b[39mzero_grad()\n\u001b[1;32m     43\u001b[0m \u001b[39m# Perform backward pass\u001b[39;00m\n\u001b[0;32m---> 44\u001b[0m loss\u001b[39m.\u001b[39;49mbackward()\n\u001b[1;32m     45\u001b[0m \u001b[39m# Step optimiser\u001b[39;00m\n\u001b[1;32m     46\u001b[0m optimiser\u001b[39m.\u001b[39mstep()\n",
      "File \u001b[0;32m~/miniconda3/envs/torch/lib/python3.9/site-packages/torch/_tensor.py:487\u001b[0m, in \u001b[0;36mTensor.backward\u001b[0;34m(self, gradient, retain_graph, create_graph, inputs)\u001b[0m\n\u001b[1;32m    477\u001b[0m \u001b[39mif\u001b[39;00m has_torch_function_unary(\u001b[39mself\u001b[39m):\n\u001b[1;32m    478\u001b[0m     \u001b[39mreturn\u001b[39;00m handle_torch_function(\n\u001b[1;32m    479\u001b[0m         Tensor\u001b[39m.\u001b[39mbackward,\n\u001b[1;32m    480\u001b[0m         (\u001b[39mself\u001b[39m,),\n\u001b[0;32m   (...)\u001b[0m\n\u001b[1;32m    485\u001b[0m         inputs\u001b[39m=\u001b[39minputs,\n\u001b[1;32m    486\u001b[0m     )\n\u001b[0;32m--> 487\u001b[0m torch\u001b[39m.\u001b[39;49mautograd\u001b[39m.\u001b[39;49mbackward(\n\u001b[1;32m    488\u001b[0m     \u001b[39mself\u001b[39;49m, gradient, retain_graph, create_graph, inputs\u001b[39m=\u001b[39;49minputs\n\u001b[1;32m    489\u001b[0m )\n",
      "File \u001b[0;32m~/miniconda3/envs/torch/lib/python3.9/site-packages/torch/autograd/__init__.py:200\u001b[0m, in \u001b[0;36mbackward\u001b[0;34m(tensors, grad_tensors, retain_graph, create_graph, grad_variables, inputs)\u001b[0m\n\u001b[1;32m    195\u001b[0m     retain_graph \u001b[39m=\u001b[39m create_graph\n\u001b[1;32m    197\u001b[0m \u001b[39m# The reason we repeat same the comment below is that\u001b[39;00m\n\u001b[1;32m    198\u001b[0m \u001b[39m# some Python versions print out the first line of a multi-line function\u001b[39;00m\n\u001b[1;32m    199\u001b[0m \u001b[39m# calls in the traceback and some print out the last line\u001b[39;00m\n\u001b[0;32m--> 200\u001b[0m Variable\u001b[39m.\u001b[39;49m_execution_engine\u001b[39m.\u001b[39;49mrun_backward(  \u001b[39m# Calls into the C++ engine to run the backward pass\u001b[39;49;00m\n\u001b[1;32m    201\u001b[0m     tensors, grad_tensors_, retain_graph, create_graph, inputs,\n\u001b[1;32m    202\u001b[0m     allow_unreachable\u001b[39m=\u001b[39;49m\u001b[39mTrue\u001b[39;49;00m, accumulate_grad\u001b[39m=\u001b[39;49m\u001b[39mTrue\u001b[39;49;00m)\n",
      "File \u001b[0;32m~/miniconda3/envs/torch/lib/python3.9/site-packages/torch/autograd/function.py:274\u001b[0m, in \u001b[0;36mBackwardCFunction.apply\u001b[0;34m(self, *args)\u001b[0m\n\u001b[1;32m    270\u001b[0m     \u001b[39mraise\u001b[39;00m \u001b[39mRuntimeError\u001b[39;00m(\u001b[39m\"\u001b[39m\u001b[39mImplementing both \u001b[39m\u001b[39m'\u001b[39m\u001b[39mbackward\u001b[39m\u001b[39m'\u001b[39m\u001b[39m and \u001b[39m\u001b[39m'\u001b[39m\u001b[39mvjp\u001b[39m\u001b[39m'\u001b[39m\u001b[39m for a custom \u001b[39m\u001b[39m\"\u001b[39m\n\u001b[1;32m    271\u001b[0m                        \u001b[39m\"\u001b[39m\u001b[39mFunction is not allowed. You should only implement one \u001b[39m\u001b[39m\"\u001b[39m\n\u001b[1;32m    272\u001b[0m                        \u001b[39m\"\u001b[39m\u001b[39mof them.\u001b[39m\u001b[39m\"\u001b[39m)\n\u001b[1;32m    273\u001b[0m user_fn \u001b[39m=\u001b[39m vjp_fn \u001b[39mif\u001b[39;00m vjp_fn \u001b[39mis\u001b[39;00m \u001b[39mnot\u001b[39;00m Function\u001b[39m.\u001b[39mvjp \u001b[39melse\u001b[39;00m backward_fn\n\u001b[0;32m--> 274\u001b[0m \u001b[39mreturn\u001b[39;00m user_fn(\u001b[39mself\u001b[39;49m, \u001b[39m*\u001b[39;49margs)\n",
      "File \u001b[0;32m~/miniconda3/envs/torch/lib/python3.9/site-packages/torch/autograd/function.py:522\u001b[0m, in \u001b[0;36monce_differentiable.<locals>.wrapper\u001b[0;34m(ctx, *args)\u001b[0m\n\u001b[1;32m    519\u001b[0m \u001b[39m@functools\u001b[39m\u001b[39m.\u001b[39mwraps(fn)\n\u001b[1;32m    520\u001b[0m \u001b[39mdef\u001b[39;00m \u001b[39mwrapper\u001b[39m(ctx, \u001b[39m*\u001b[39margs):\n\u001b[1;32m    521\u001b[0m     \u001b[39mwith\u001b[39;00m torch\u001b[39m.\u001b[39mno_grad():\n\u001b[0;32m--> 522\u001b[0m         outputs \u001b[39m=\u001b[39m fn(ctx, \u001b[39m*\u001b[39;49margs)\n\u001b[1;32m    524\u001b[0m     \u001b[39mif\u001b[39;00m \u001b[39mnot\u001b[39;00m torch\u001b[39m.\u001b[39mis_grad_enabled():\n\u001b[1;32m    525\u001b[0m         \u001b[39mreturn\u001b[39;00m outputs\n",
      "File \u001b[0;32m~/Documents/Optimisation_ML_Project/simulations/src/linear_zeroth_function.py:45\u001b[0m, in \u001b[0;36mLinear_Zeroth_Function.backward\u001b[0;34m(ctx, grad_output)\u001b[0m\n\u001b[1;32m     43\u001b[0m \u001b[39m# Calculate gradients if needed\u001b[39;00m\n\u001b[1;32m     44\u001b[0m \u001b[39mif\u001b[39;00m ctx\u001b[39m.\u001b[39mneeds_input_grad[\u001b[39m0\u001b[39m]:\n\u001b[0;32m---> 45\u001b[0m     estimated_grad \u001b[39m=\u001b[39m ctx\u001b[39m.\u001b[39;49mdiff(\u001b[39mlambda\u001b[39;49;00m x: forward_helper(\u001b[39minput\u001b[39;49m, x, bias), weight)\n\u001b[1;32m     46\u001b[0m     grad_input \u001b[39m=\u001b[39m grad_output\u001b[39m.\u001b[39mmm(estimated_grad)\n\u001b[1;32m     47\u001b[0m \u001b[39mif\u001b[39;00m ctx\u001b[39m.\u001b[39mneeds_input_grad[\u001b[39m1\u001b[39m]:\n",
      "File \u001b[0;32m~/Documents/Optimisation_ML_Project/simulations/src/linear_zeroth_function.py:26\u001b[0m, in \u001b[0;36mLinear_Zeroth_Function.forward.<locals>.<lambda>\u001b[0;34m(f, x)\u001b[0m\n\u001b[1;32m     24\u001b[0m     ctx\u001b[39m.\u001b[39mdiff \u001b[39m=\u001b[39m \u001b[39mlambda\u001b[39;00m f, x: one_point_estimate(f, x, mu, n)\n\u001b[1;32m     25\u001b[0m \u001b[39melif\u001b[39;00m difference_method \u001b[39m==\u001b[39m \u001b[39m\"\u001b[39m\u001b[39mtwo\u001b[39m\u001b[39m\"\u001b[39m:\n\u001b[0;32m---> 26\u001b[0m     ctx\u001b[39m.\u001b[39mdiff \u001b[39m=\u001b[39m \u001b[39mlambda\u001b[39;00m f, x: two_point_estimate(f, x, mu, n)\n\u001b[1;32m     27\u001b[0m \u001b[39melif\u001b[39;00m difference_method \u001b[39m==\u001b[39m \u001b[39m\"\u001b[39m\u001b[39mcoord\u001b[39m\u001b[39m\"\u001b[39m:\n\u001b[1;32m     28\u001b[0m     ctx\u001b[39m.\u001b[39mdiff \u001b[39m=\u001b[39m \u001b[39mlambda\u001b[39;00m f, x: coordinate_estimate(f, x, mu)\n",
      "File \u001b[0;32m~/Documents/Optimisation_ML_Project/simulations/src/difference_methods.py:31\u001b[0m, in \u001b[0;36mtwo_point_estimate\u001b[0;34m(f, x, mu, n)\u001b[0m\n\u001b[1;32m     29\u001b[0m     u_i \u001b[39m=\u001b[39m n_sphere_sample(x\u001b[39m.\u001b[39mshape)\n\u001b[1;32m     30\u001b[0m     \u001b[39m# Calculate next term\u001b[39;00m\n\u001b[0;32m---> 31\u001b[0m     output \u001b[39m+\u001b[39m\u001b[39m=\u001b[39m (f(x \u001b[39m+\u001b[39;49m mu \u001b[39m*\u001b[39;49m u_i) \u001b[39m-\u001b[39m f(x))\u001b[39m.\u001b[39msum() \u001b[39m*\u001b[39m u_i\n\u001b[1;32m     32\u001b[0m \u001b[39m# Return\u001b[39;00m\n\u001b[1;32m     33\u001b[0m \u001b[39mreturn\u001b[39;00m (np\u001b[39m.\u001b[39mprod(x\u001b[39m.\u001b[39msize())\u001b[39m/\u001b[39m(n\u001b[39m*\u001b[39mmu)) \u001b[39m*\u001b[39m output\n",
      "File \u001b[0;32m~/miniconda3/envs/torch/lib/python3.9/site-packages/torch/_tensor.py:984\u001b[0m, in \u001b[0;36mTensor.__array_wrap__\u001b[0;34m(self, array)\u001b[0m\n\u001b[1;32m    981\u001b[0m \u001b[39mif\u001b[39;00m array\u001b[39m.\u001b[39mdtype \u001b[39m==\u001b[39m \u001b[39mbool\u001b[39m:\n\u001b[1;32m    982\u001b[0m     \u001b[39m# Workaround, torch has no built-in bool tensor\u001b[39;00m\n\u001b[1;32m    983\u001b[0m     array \u001b[39m=\u001b[39m array\u001b[39m.\u001b[39mastype(\u001b[39m\"\u001b[39m\u001b[39muint8\u001b[39m\u001b[39m\"\u001b[39m)\n\u001b[0;32m--> 984\u001b[0m \u001b[39mreturn\u001b[39;00m torch\u001b[39m.\u001b[39;49mfrom_numpy(array)\n",
      "\u001b[0;31mKeyboardInterrupt\u001b[0m: "
     ]
    },
    {
     "data": {
      "image/png": "[encoded data removed]",
      "text/plain": [
       "<Figure size 1600x800 with 2 Axes>"
      ]
     },
     "metadata": {},
     "output_type": "display_data"
    }
   ],
   "source": [
    "# Setup plot\n",
    "fig = plt.figure(figsize=(16, 8), constrained_layout=True)\n",
    "fig.suptitle(f\"Impact of Dimension of Hidden Layer on Loss and Computation Time\", fontsize=15, x=0.5)\n",
    "subplots = fig.subplots(nrows=1, ncols=2)\n",
    "\n",
    "# Iterate methods\n",
    "for (i, diff_method) in tqdm(enumerate(dimensionality_plot_difference_method_range), desc=\"method\", leave=False, position=0):\n",
    "    times = []\n",
    "    losses = []\n",
    "    for hidden_neurons in tqdm(hidden_neurons_range, desc=\"hidden_neurons\", leave=False, position=1):\n",
    "        # Create new instance of network\n",
    "        if diff_method == \"sgd\":\n",
    "            name, network_fun = networks_funs[0]\n",
    "        else:\n",
    "            name, network_fun = networks_funs[1]\n",
    "        network = network_fun(hidden_neurons, MU, N, diff_method)\n",
    "\n",
    "        # Optimiser\n",
    "        optimiser = torch.optim.SGD(network.parameters(), lr=LR)\n",
    "\n",
    "        # store all losses for visualisation\n",
    "        start_time = time.time()\n",
    "\n",
    "        # train a neural network\n",
    "        num_batches = len(X) // BATCH_SIZE\n",
    "        for epoch in tqdm(range(NUM_EPOCH), desc=\"epoch\", leave=False, position=2):\n",
    "            epoch_loss = 0.0\n",
    "            for batch in range(num_batches):\n",
    "                # Get batch data\n",
    "                batch_start = batch * BATCH_SIZE\n",
    "                batch_end = (batch + 1) * BATCH_SIZE\n",
    "                batch_X = X[batch_start:batch_end]\n",
    "                batch_Y = Y[batch_start:batch_end]\n",
    "\n",
    "                # Perform forward pass\n",
    "                Y_pred = network(batch_X)\n",
    "                # Compute loss\n",
    "                loss = loss_func(Y_pred, batch_Y)\n",
    "                epoch_loss += loss.item()\n",
    "\n",
    "                # Clear the gradients before running the backward pass\n",
    "                network.zero_grad()\n",
    "                # Perform backward pass\n",
    "                loss.backward()\n",
    "                # Step optimiser\n",
    "                optimiser.step()\n",
    "\n",
    "        # Save Results\n",
    "        times.append(time.time() - start_time)\n",
    "        losses.append(epoch_loss / num_batches)\n",
    "    \n",
    "    # Hidden Neurons vs Loss\n",
    "    subplots[0].plot(hidden_neurons_range, losses,\n",
    "                     label=\"two-point\" if diff_method == 'two' else (\"coordinate estimate\" if diff_method == 'coord' else \"sgd\"),\n",
    "                     c=colours[i], linestyle=linestyles[0], linewidth=2.0, alpha=0.6, marker='x')\n",
    "    subplots[0].set_xlabel(\"Dimension of Hidden Layer\", weight='bold', fontsize=10)\n",
    "    subplots[0].set_ylabel(\"Loss\", weight='bold', fontsize=10)\n",
    "\n",
    "    # Hidden Neurons vs Time\n",
    "    subplots[1].plot(hidden_neurons_range, times,\n",
    "                     c=colours[i], linestyle=linestyles[0], linewidth=2.0, alpha=0.6, marker='x')\n",
    "    subplots[1].set_xlabel(\"Dimension of Hidden Layer\", weight='bold', fontsize=10)\n",
    "    subplots[1].set_ylabel(\"Computation Time (s)\", weight='bold', fontsize=10)\n",
    "\n",
    "# Format and Save\n",
    "fig.legend(loc=\"lower center\", fontsize=10, bbox_to_anchor=(0.5, -0.0075), labelspacing=1.0, ncols = 4)\n",
    "fig.savefig(f\"{path}mu{MU}_n{N}_epoch{NUM_EPOCH}_comparing_hidden.png\")"
   ]
  }
 ],
 "metadata": {
  "kernelspec": {
   "display_name": "manopt",
   "language": "python",
   "name": "python3"
  },
  "language_info": {
   "codemirror_mode": {
    "name": "ipython",
    "version": 3
   },
   "file_extension": ".py",
   "mimetype": "text/x-python",
   "name": "python",
   "nbconvert_exporter": "python",
   "pygments_lexer": "ipython3",
   "version": "3.9.5"
  },
  "orig_nbformat": 4
 },
 "nbformat": 4,
 "nbformat_minor": 2
}

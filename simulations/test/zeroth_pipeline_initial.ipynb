{
 "cells": [
  {
   "attachments": {},
   "cell_type": "markdown",
   "metadata": {},
   "source": [
    "# Zeroth Pipeline\n",
    "\n",
    "This pipeline compares zeroth order GD against standard GD. Three different zeroth order approximations --- one difference, two difference, and coordinate --- are tested."
   ]
  },
  {
   "attachments": {},
   "cell_type": "markdown",
   "metadata": {},
   "source": [
    "### Imports"
   ]
  },
  {
   "cell_type": "code",
   "execution_count": null,
   "metadata": {},
   "outputs": [],
   "source": [
    "import os\n",
    "import sys\n",
    "\n",
    "p = os.path.abspath('../src/')\n",
    "if p not in sys.path:\n",
    "    sys.path.append(p)"
   ]
  },
  {
   "cell_type": "code",
   "execution_count": null,
   "metadata": {},
   "outputs": [],
   "source": [
    "import pandas as pd\n",
    "import numpy as np\n",
    "import torch\n",
    "import matplotlib.pyplot as plt\n",
    "from tqdm.notebook import tqdm, trange\n",
    "import time\n",
    "\n",
    "from difference_methods import one_point_estimate, two_point_estimate, coordinate_estimate\n",
    "from linear_zeroth_function import Linear_Zeroth\n",
    "from relu_zeroth_function import ReLU_Zeroth"
   ]
  },
  {
   "attachments": {},
   "cell_type": "markdown",
   "metadata": {},
   "source": [
    "## Data preprocessing"
   ]
  },
  {
   "cell_type": "code",
   "execution_count": null,
   "metadata": {},
   "outputs": [],
   "source": [
    "proper_test = False # For testing the pipeline using iris instead of pendigits\n",
    "\n",
    "if proper_test:\n",
    "    data_train = data_train = pd.read_csv('../data/pendigits.csv')\n",
    "else:\n",
    "    data_train = pd.read_csv('../data/iris_train.csv')\n",
    "\n",
    "print(data_train)"
   ]
  },
  {
   "cell_type": "code",
   "execution_count": null,
   "metadata": {},
   "outputs": [],
   "source": [
    "if proper_test:\n",
    "    # extract frequency of each class\n",
    "    class_freq = data_train['class'].value_counts()\n",
    "else:\n",
    "    # Convert string target values to numeric values\n",
    "    #       class 0: Iris-setosa\n",
    "    #       class 1: Iris-versicolor\n",
    "    #       class 2: Iris-virginica\n",
    "    data_train['species'] = data_train['species'].map({'Iris-setosa': 0, 'Iris-versicolor': 1, 'Iris-virginica': 2})\n",
    "    # also convert all string numeric values to float ['2' -> 2.0]\n",
    "    data_train = data_train.apply(pd.to_numeric)\n",
    "    # extract frequency of each species class\n",
    "    class_freq = data_train['species'].value_counts()\n",
    "\n",
    "class_freq = list(class_freq.sort_index())\n",
    "nb_classes = len(class_freq)\n",
    "nb_features = data_train.shape[1]-1\n",
    "\n",
    "# Visual data\n",
    "graph = plt.bar(list(range(nb_classes)), class_freq)\n",
    "plt.xticks(list(range(nb_classes)))\n",
    "plt.ylabel('Frequency')\n",
    "plt.xlabel('Class')\n",
    "plt.title('Full data')\n",
    "\n",
    "plt.show() # balanced data set"
   ]
  },
  {
   "cell_type": "code",
   "execution_count": null,
   "metadata": {},
   "outputs": [],
   "source": [
    "# Preprocess data for training\n",
    "\n",
    "# Convert pandas dataframe to array\n",
    "data_train_array = data_train.values\n",
    "\n",
    "# Split x (features) and y (targets)\n",
    "x_array = data_train_array[:, :nb_features]\n",
    "y_array = data_train_array[:, nb_features]\n",
    "\n",
    "# Tensorify\n",
    "X = torch.tensor(x_array, dtype=torch.float)\n",
    "Y = torch.tensor(y_array, dtype=torch.long)\n",
    "\n",
    "print(X.shape)"
   ]
  },
  {
   "attachments": {},
   "cell_type": "markdown",
   "metadata": {},
   "source": [
    "## Network Setup"
   ]
  },
  {
   "cell_type": "code",
   "execution_count": null,
   "metadata": {},
   "outputs": [],
   "source": [
    "# INPUT/OUTPUT layer sizes\n",
    "INPUT_NEURONS = nb_features\n",
    "OUTPUT_NEURONS = nb_classes"
   ]
  },
  {
   "cell_type": "code",
   "execution_count": null,
   "metadata": {},
   "outputs": [],
   "source": [
    "# Network architectures: 1 hidden layer\n",
    "\n",
    "# Normal network with relu\n",
    "def create_standard_relu_network(hidden_neurons, mu, n, difference_method):\n",
    "    torch.manual_seed(1) # so that same network init with same weights at each creation\n",
    "    return torch.nn.Sequential(\n",
    "        torch.nn.Linear(INPUT_NEURONS, hidden_neurons),\n",
    "        torch.nn.ReLU(),\n",
    "        torch.nn.Linear(hidden_neurons, OUTPUT_NEURONS)\n",
    "    )\n",
    "\n",
    "# Full Zeroth Order relu\n",
    "def create_zeroth_relu_network(hidden_neurons, mu, n, difference_method):\n",
    "    torch.manual_seed(1) # so that same network init with same weights at each creation\n",
    "    return torch.nn.Sequential(\n",
    "        Linear_Zeroth(INPUT_NEURONS, hidden_neurons, bias=False, difference_method=difference_method, mu=mu, n=n),\n",
    "        ReLU_Zeroth(difference_method=difference_method, mu=mu, n=n),\n",
    "        Linear_Zeroth(hidden_neurons, OUTPUT_NEURONS, bias=False, difference_method=difference_method, mu=mu, n=n),\n",
    ")\n",
    "\n",
    "networks_funs = [\n",
    "    (\"standard_relu\", create_standard_relu_network),\n",
    "    (\"zeroth_relu\", create_zeroth_relu_network),\n",
    "]"
   ]
  },
  {
   "attachments": {},
   "cell_type": "markdown",
   "metadata": {},
   "source": [
    "## Train and Plot Losses"
   ]
  },
  {
   "cell_type": "code",
   "execution_count": null,
   "metadata": {},
   "outputs": [],
   "source": [
    "# Plot or save? False => Save\n",
    "plot = False\n",
    "path = \"plots/\"\n",
    "\n",
    "# Plotting\n",
    "colours = [\"black\", \"red\", \"darkblue\", \"green\", \"violet\",]\n",
    "linestyles = ['solid', 'dashdot', 'dashed', 'dotted']"
   ]
  },
  {
   "attachments": {},
   "cell_type": "markdown",
   "metadata": {},
   "source": [
    "### Initial Plot"
   ]
  },
  {
   "cell_type": "code",
   "execution_count": null,
   "metadata": {},
   "outputs": [],
   "source": [
    "# Training constants\n",
    "LR = 0.01\n",
    "NUM_EPOCH = 100\n",
    "BATCH_SIZE = 32\n",
    "\n",
    "# Loss function\n",
    "loss_func = torch.nn.CrossEntropyLoss()\n",
    "\n",
    "# Test Variables\n",
    "HIDDEN_NEURONS = max(INPUT_NEURONS, OUTPUT_NEURONS)\n",
    "MU = 0.01\n",
    "N = 1000\n",
    "\n",
    "# Methods\n",
    "initial_plot_difference_method_range = ['two', 'coord', 'sgd']"
   ]
  },
  {
   "cell_type": "code",
   "execution_count": null,
   "metadata": {},
   "outputs": [],
   "source": [
    "# Setup plot\n",
    "fig = plt.figure(figsize=(10, 6), constrained_layout=True)\n",
    "fig.suptitle(f\"Zeroth Order Descent Methods vs SGD\", fontsize=15, x=0.5)\n",
    "\n",
    "subplots = fig.subplots(nrows=1, ncols=2, sharey=True)\n",
    "\n",
    "# Iterate methods\n",
    "for (i, diff_method) in tqdm(enumerate(initial_plot_difference_method_range), desc=\"method\", leave=False, position=0):\n",
    "    # Create new instance of network\n",
    "    if diff_method == \"sgd\":\n",
    "        name, network_fun = networks_funs[0]\n",
    "    else:\n",
    "        name, network_fun = networks_funs[1]\n",
    "    network = network_fun(HIDDEN_NEURONS, MU, N, diff_method)\n",
    "\n",
    "    # Optimiser\n",
    "    optimiser = torch.optim.SGD(network.parameters(), lr=LR)\n",
    "\n",
    "    # store all losses for visualisation\n",
    "    losses = []\n",
    "    losses.append(loss_func(network(X), Y).item())\n",
    "    # Times\n",
    "    times = [time.time()]\n",
    "\n",
    "    # train a neural network\n",
    "    num_batches = len(X) // BATCH_SIZE\n",
    "    for epoch in tqdm(range(NUM_EPOCH), desc=\"epoch\", leave=False, position=1):\n",
    "        epoch_loss = 0.0\n",
    "        for batch in range(num_batches):\n",
    "            # Get batch data\n",
    "            batch_start = batch * BATCH_SIZE\n",
    "            batch_end = (batch + 1) * BATCH_SIZE\n",
    "            batch_X = X[batch_start:batch_end]\n",
    "            batch_Y = Y[batch_start:batch_end]\n",
    "\n",
    "            # Perform forward pass\n",
    "            Y_pred = network(batch_X)\n",
    "            # Compute loss\n",
    "            loss = loss_func(Y_pred, batch_Y)\n",
    "            epoch_loss += loss.item()\n",
    "\n",
    "            # Clear the gradients before running the backward pass\n",
    "            network.zero_grad()\n",
    "            # Perform backward pass\n",
    "            loss.backward()\n",
    "            # Step optimiser\n",
    "            optimiser.step()\n",
    "        \n",
    "        # Prevent gradient explosion\n",
    "        if np.isnan(epoch_loss) or np.isinf(epoch_loss) or (len(losses) != 0 and epoch_loss > 100000 * losses[0]):\n",
    "                break\n",
    "\n",
    "        losses.append(epoch_loss / num_batches)\n",
    "        times.append(time.time())\n",
    "\n",
    "    # Plot: Epoch vs Loss\n",
    "    subplots[0].plot(losses, label=\"two-point\" if diff_method == 'two' else (\"coordinate estimate\" if diff_method == 'coord' else \"sgd\"),\n",
    "                      c=colours[i], linestyle=linestyles[0], linewidth=2.0, alpha=0.6)\n",
    "    subplots[0].set_xlabel(\"Epoch\", weight='bold', fontsize=10)\n",
    "    subplots[0].set_ylabel(\"Loss\", weight='bold', fontsize=10)\n",
    "    \n",
    "    # Plot: Time vs Loss\n",
    "    subplots[1].plot(list(map(lambda x: x - times[0] + 0.001, times)), losses,\n",
    "                      c=colours[i], linestyle=linestyles[0], linewidth=2.0, alpha=0.6)\n",
    "    subplots[1].set_xscale('log')\n",
    "    subplots[1].set_xlabel(\"Computation Time (s)\", weight='bold', fontsize=10)\n",
    "# Format and Save\n",
    "fig.legend(loc=\"lower center\", fontsize=10, bbox_to_anchor=(0.5, -0.0075), labelspacing=1.0, ncols=4)\n",
    "fig.savefig(f\"{path}hn{HIDDEN_NEURONS}_mu{MU}_n{N}_epoch{NUM_EPOCH}_initial.png\")"
   ]
  }
 ],
 "metadata": {
  "kernelspec": {
   "display_name": "manopt",
   "language": "python",
   "name": "python3"
  },
  "language_info": {
   "codemirror_mode": {
    "name": "ipython",
    "version": 3
   },
   "file_extension": ".py",
   "mimetype": "text/x-python",
   "name": "python",
   "nbconvert_exporter": "python",
   "pygments_lexer": "ipython3",
   "version": "3.9.5"
  },
  "orig_nbformat": 4
 },
 "nbformat": 4,
 "nbformat_minor": 2
}
